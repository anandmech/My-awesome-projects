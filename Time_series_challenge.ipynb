{
  "nbformat": 4,
  "nbformat_minor": 0,
  "metadata": {
    "colab": {
      "name": "Time series_challenge.ipynb",
      "provenance": [],
      "mount_file_id": "1fpdt8vDibhlikheKqe43-0wYZHkCgJZM",
      "authorship_tag": "ABX9TyOsxgdngLor5/RntJzoBPLD"
    },
    "kernelspec": {
      "name": "python3",
      "display_name": "Python 3"
    }
  },
  "cells": [
    {
      "cell_type": "markdown",
      "metadata": {
        "id": "ROJc_diZ57wn"
      },
      "source": [
        "\r\n",
        "##Time Series Challenge\r\n",
        "####I used GDP data from 1990-2020. This data is available on the FRED's website.\r\n",
        "#### Go about the process of time series modeling. Specifically, generate the following deliverables:\r\n",
        "####I will plot the time series (along with any logical or necessary differences to get a stationary dataset)\r\n",
        "####Generate and interpret a PACF for the time series (and/or its differences)\r\n",
        "####Generate 5 ARIMA specifications and evaluate their efficacy at modeling the data\r\n",
        "####Choose one specification and make the case for that as a logical model for the dataset"
      ]
    },
    {
      "cell_type": "code",
      "metadata": {
        "id": "5Ro8QNXX6Ija"
      },
      "source": [
        "#Load the libraries\r\n",
        "import numpy as np\r\n",
        "import pandas as pd\r\n",
        "import scipy\r\n",
        "from datetime import datetime\r\n",
        "import datetime as dt\r\n",
        "from statsmodels.tsa.stattools import pacf\r\n",
        "from statsmodels.tsa.arima_model import ARIMA\r\n",
        "import matplotlib.pyplot as plt\r\n",
        "%matplotlib inline"
      ],
      "execution_count": null,
      "outputs": []
    },
    {
      "cell_type": "code",
      "metadata": {
        "id": "ZjWxK1178Jei"
      },
      "source": [
        "#Load the dataset\r\n",
        "gdp_df = pd.read_csv('/content/drive/My Drive/GDP.csv')"
      ],
      "execution_count": null,
      "outputs": []
    },
    {
      "cell_type": "code",
      "metadata": {
        "colab": {
          "base_uri": "https://localhost:8080/",
          "height": 195
        },
        "id": "ediWguyo8YJl",
        "outputId": "565c4c32-1c5e-4197-d58b-a9e65376909d"
      },
      "source": [
        "gdp_df.head()"
      ],
      "execution_count": null,
      "outputs": [
        {
          "output_type": "execute_result",
          "data": {
            "text/html": [
              "<div>\n",
              "<style scoped>\n",
              "    .dataframe tbody tr th:only-of-type {\n",
              "        vertical-align: middle;\n",
              "    }\n",
              "\n",
              "    .dataframe tbody tr th {\n",
              "        vertical-align: top;\n",
              "    }\n",
              "\n",
              "    .dataframe thead th {\n",
              "        text-align: right;\n",
              "    }\n",
              "</style>\n",
              "<table border=\"1\" class=\"dataframe\">\n",
              "  <thead>\n",
              "    <tr style=\"text-align: right;\">\n",
              "      <th></th>\n",
              "      <th>DATE</th>\n",
              "      <th>GDP</th>\n",
              "    </tr>\n",
              "  </thead>\n",
              "  <tbody>\n",
              "    <tr>\n",
              "      <th>0</th>\n",
              "      <td>1/1/1990</td>\n",
              "      <td>5872.701</td>\n",
              "    </tr>\n",
              "    <tr>\n",
              "      <th>1</th>\n",
              "      <td>4/1/1990</td>\n",
              "      <td>5960.028</td>\n",
              "    </tr>\n",
              "    <tr>\n",
              "      <th>2</th>\n",
              "      <td>7/1/1990</td>\n",
              "      <td>6015.116</td>\n",
              "    </tr>\n",
              "    <tr>\n",
              "      <th>3</th>\n",
              "      <td>10/1/1990</td>\n",
              "      <td>6004.733</td>\n",
              "    </tr>\n",
              "    <tr>\n",
              "      <th>4</th>\n",
              "      <td>1/1/1991</td>\n",
              "      <td>6035.178</td>\n",
              "    </tr>\n",
              "  </tbody>\n",
              "</table>\n",
              "</div>"
            ],
            "text/plain": [
              "        DATE       GDP\n",
              "0   1/1/1990  5872.701\n",
              "1   4/1/1990  5960.028\n",
              "2   7/1/1990  6015.116\n",
              "3  10/1/1990  6004.733\n",
              "4   1/1/1991  6035.178"
            ]
          },
          "metadata": {
            "tags": []
          },
          "execution_count": 4
        }
      ]
    },
    {
      "cell_type": "code",
      "metadata": {
        "colab": {
          "base_uri": "https://localhost:8080/"
        },
        "id": "hcu9PI2c8b6w",
        "outputId": "ce8930ef-9687-4d00-b58b-246a9d8ed5bc"
      },
      "source": [
        "gdp_df.dtypes"
      ],
      "execution_count": null,
      "outputs": [
        {
          "output_type": "execute_result",
          "data": {
            "text/plain": [
              "DATE     object\n",
              "GDP     float64\n",
              "dtype: object"
            ]
          },
          "metadata": {
            "tags": []
          },
          "execution_count": 5
        }
      ]
    },
    {
      "cell_type": "code",
      "metadata": {
        "colab": {
          "base_uri": "https://localhost:8080/",
          "height": 281
        },
        "id": "4jyMhVkS8hTD",
        "outputId": "54f627d5-29b5-48d0-9c51-0a0fbcc26c47"
      },
      "source": [
        "#plot the series\r\n",
        "gdp_df.plot()\r\n",
        "plt.title('GDP Time Series 1990-2020')\r\n",
        "plt.show()"
      ],
      "execution_count": null,
      "outputs": [
        {
          "output_type": "display_data",
          "data": {
            "image/png": "[encoded data removed]",
            "text/plain": [
              "<Figure size 432x288 with 1 Axes>"
            ]
          },
          "metadata": {
            "tags": [],
            "needs_background": "light"
          }
        }
      ]
    },
    {
      "cell_type": "code",
      "metadata": {
        "colab": {
          "base_uri": "https://localhost:8080/",
          "height": 295
        },
        "id": "rhR0Z68L8iRY",
        "outputId": "a068e87b-5045-4df2-f73b-d213732db749"
      },
      "source": [
        "#fix x axis to be more easily interpretable\r\n",
        "gdp_df.index = pd.to_datetime(gdp_df.DATE)\r\n",
        "gdp_df.plot()\r\n",
        "plt.title('GDP Time Series 1990-2020')\r\n",
        "plt.show()"
      ],
      "execution_count": null,
      "outputs": [
        {
          "output_type": "display_data",
          "data": {
            "image/png": "[encoded data removed]",
            "text/plain": [
              "<Figure size 432x288 with 1 Axes>"
            ]
          },
          "metadata": {
            "tags": [],
            "needs_background": "light"
          }
        }
      ]
    },
    {
      "cell_type": "markdown",
      "metadata": {
        "id": "HyAUz5Uv8wgW"
      },
      "source": [
        "####There is certainly a trend to this series. I will need to apply differencing to make the series stationary so that I can fit ARIMA models."
      ]
    },
    {
      "cell_type": "markdown",
      "metadata": {
        "id": "NfBEzl709By-"
      },
      "source": [
        "####Stationarize the dataset"
      ]
    },
    {
      "cell_type": "code",
      "metadata": {
        "colab": {
          "base_uri": "https://localhost:8080/",
          "height": 295
        },
        "id": "IamZyNvw8xRT",
        "outputId": "c046e3aa-a2f7-45ad-ef7d-80b592881d2c"
      },
      "source": [
        "gdp_df['diff_1'] = gdp_df.GDP - gdp_df.GDP.shift()\r\n",
        "gdp_df.plot(y='diff_1')\r\n",
        "plt.title('GDP Time Series 1990-2020 (first order differencing)')\r\n",
        "plt.show()"
      ],
      "execution_count": null,
      "outputs": [
        {
          "output_type": "display_data",
          "data": {
            "image/png": "[encoded data removed]",
            "text/plain": [
              "<Figure size 432x288 with 1 Axes>"
            ]
          },
          "metadata": {
            "tags": [],
            "needs_background": "light"
          }
        }
      ]
    },
    {
      "cell_type": "markdown",
      "metadata": {
        "id": "tku8g1V29rjH"
      },
      "source": [
        "####The first order differencing seems to have mostly removed the trend. This should now meet the required assumptions of the ARIMA models. Now, I will generated the PACF and the first order differences."
      ]
    },
    {
      "cell_type": "code",
      "metadata": {
        "colab": {
          "base_uri": "https://localhost:8080/",
          "height": 301
        },
        "id": "zhQ4DTWm81sv",
        "outputId": "ce1e9ead-1617-49ee-e9e8-b45f2d8dc327"
      },
      "source": [
        "x_acf = pd.DataFrame(pacf(gdp_df.GDP))\r\n",
        "x_acf.plot(kind='bar')\r\n",
        "plt.title(\"GDP\")"
      ],
      "execution_count": null,
      "outputs": [
        {
          "output_type": "execute_result",
          "data": {
            "text/plain": [
              "Text(0.5, 1.0, 'GDP')"
            ]
          },
          "metadata": {
            "tags": []
          },
          "execution_count": 11
        },
        {
          "output_type": "display_data",
          "data": {
            "image/png": "[encoded data removed]",
            "text/plain": [
              "<Figure size 432x288 with 1 Axes>"
            ]
          },
          "metadata": {
            "tags": [],
            "needs_background": "light"
          }
        }
      ]
    },
    {
      "cell_type": "code",
      "metadata": {
        "colab": {
          "base_uri": "https://localhost:8080/",
          "height": 301
        },
        "id": "9anDVAEg9JXA",
        "outputId": "88d85891-fb21-4a87-9fb9-e8ac56b3f9fd"
      },
      "source": [
        "x_acf = pd.DataFrame(pacf(gdp_df.diff_1[1:]))\r\n",
        "x_acf.plot(kind='bar')\r\n",
        "plt.title(\"GDP Diff PACF\")\r\n",
        "plt.legend(['difference'])"
      ],
      "execution_count": null,
      "outputs": [
        {
          "output_type": "execute_result",
          "data": {
            "text/plain": [
              "<matplotlib.legend.Legend at 0x7f97f0a70898>"
            ]
          },
          "metadata": {
            "tags": []
          },
          "execution_count": 12
        },
        {
          "output_type": "display_data",
          "data": {
            "image/png": "[encoded data removed]",
            "text/plain": [
              "<Figure size 432x288 with 1 Axes>"
            ]
          },
          "metadata": {
            "tags": [],
            "needs_background": "light"
          }
        }
      ]
    },
    {
      "cell_type": "markdown",
      "metadata": {
        "id": "lMyUiOyl-fN9"
      },
      "source": [
        "####For example, in the AR plot, it's clear that 2 is a strong autocorrelation. And in the MA plot, 0 seems to be strong. This indicates that you should look into  𝑝  values of 2 and 0, respectively, for your models."
      ]
    },
    {
      "cell_type": "markdown",
      "metadata": {
        "id": "lbLx4SbD_DBf"
      },
      "source": [
        "####I will first build an ARIMA model with p set to 2 and I set to 0. I will then try models with different p, i, and q values to compare them."
      ]
    },
    {
      "cell_type": "code",
      "metadata": {
        "colab": {
          "base_uri": "https://localhost:8080/"
        },
        "id": "rI-RrQZN9PJi",
        "outputId": "a24a6cbb-834f-4683-ff61-3a752a817e0c"
      },
      "source": [
        "model = ARIMA(gdp_df.GDP, order=(2,0,0))\r\n",
        "model_fit = model.fit()\r\n",
        "print(model_fit.summary())\r\n",
        "print('Residuals Description')\r\n",
        "print(model_fit.resid.describe())"
      ],
      "execution_count": null,
      "outputs": [
        {
          "output_type": "stream",
          "text": [
            "/usr/local/lib/python3.6/dist-packages/statsmodels/tsa/base/tsa_model.py:165: ValueWarning: No frequency information was provided, so inferred frequency QS-OCT will be used.\n",
            "  % freq, ValueWarning)\n"
          ],
          "name": "stderr"
        },
        {
          "output_type": "stream",
          "text": [
            "                              ARMA Model Results                              \n",
            "==============================================================================\n",
            "Dep. Variable:                    GDP   No. Observations:                  123\n",
            "Model:                     ARMA(2, 0)   Log Likelihood                -879.087\n",
            "Method:                       css-mle   S.D. of innovations            283.595\n",
            "Date:                Sat, 26 Dec 2020   AIC                           1766.174\n",
            "Time:                        16:59:00   BIC                           1777.422\n",
            "Sample:                    01-01-1990   HQIC                          1770.743\n",
            "                         - 07-01-2020                                         \n",
            "==============================================================================\n",
            "                 coef    std err          z      P>|z|      [0.025      0.975]\n",
            "------------------------------------------------------------------------------\n",
            "const       1.291e+04        nan        nan        nan         nan         nan\n",
            "ar.L1.GDP      0.9344   6.87e-06   1.36e+05      0.000       0.934       0.934\n",
            "ar.L2.GDP      0.0656   7.35e-07   8.92e+04      0.000       0.066       0.066\n",
            "                                    Roots                                    \n",
            "=============================================================================\n",
            "                  Real          Imaginary           Modulus         Frequency\n",
            "-----------------------------------------------------------------------------\n",
            "AR.1            1.0000           +0.0000j            1.0000            0.0000\n",
            "AR.2          -15.2456           +0.0000j           15.2456            0.5000\n",
            "-----------------------------------------------------------------------------\n",
            "Residuals Description\n",
            "count     123.000000\n",
            "mean       74.464306\n",
            "std       693.542065\n",
            "min     -7033.611067\n",
            "25%        93.546066\n",
            "50%       136.438684\n",
            "75%       208.585261\n",
            "max      1516.261807\n",
            "dtype: float64\n"
          ],
          "name": "stdout"
        },
        {
          "output_type": "stream",
          "text": [
            "/usr/local/lib/python3.6/dist-packages/statsmodels/base/model.py:512: ConvergenceWarning: Maximum Likelihood optimization failed to converge. Check mle_retvals\n",
            "  \"Check mle_retvals\", ConvergenceWarning)\n",
            "/usr/local/lib/python3.6/dist-packages/statsmodels/tsa/arima_model.py:1441: RuntimeWarning: invalid value encountered in sqrt\n",
            "  return np.sqrt(np.diag(-inv(hess)))\n"
          ],
          "name": "stderr"
        }
      ]
    },
    {
      "cell_type": "markdown",
      "metadata": {
        "id": "9dOIzXci_ZvD"
      },
      "source": [
        "####Model 1 has an AIC of 1766.174 and a log likelihood of -879.087. This is decent and these estimates are certainly better than the ones generated in the previous checkpoint. The log likelihood indicates the log of the likelihood that Model 1 would generate this data. The closer to zero, the higher the probablity we are to have predicted our outcome with our given model. A log-likelihood of -879 certainly is not very close to zero, but it could be worse. I will have to compare this AIC estimate to the other models below to see which is best."
      ]
    },
    {
      "cell_type": "markdown",
      "metadata": {
        "id": "m_eG9cgR_vgX"
      },
      "source": [
        "####Model 2"
      ]
    },
    {
      "cell_type": "code",
      "metadata": {
        "colab": {
          "base_uri": "https://localhost:8080/"
        },
        "id": "aDA3DBVX_nKe",
        "outputId": "e9f18f0a-88b9-415e-9e2e-2fa432277e3a"
      },
      "source": [
        "model = ARIMA(gdp_df.GDP, order=(2,0,2))\r\n",
        "model_fit = model.fit()\r\n",
        "print(model_fit.summary())\r\n",
        "print('Residuals Description')\r\n",
        "print(model_fit.resid.describe())"
      ],
      "execution_count": null,
      "outputs": [
        {
          "output_type": "stream",
          "text": [
            "/usr/local/lib/python3.6/dist-packages/statsmodels/tsa/base/tsa_model.py:165: ValueWarning: No frequency information was provided, so inferred frequency QS-OCT will be used.\n",
            "  % freq, ValueWarning)\n"
          ],
          "name": "stderr"
        },
        {
          "output_type": "stream",
          "text": [
            "                              ARMA Model Results                              \n",
            "==============================================================================\n",
            "Dep. Variable:                    GDP   No. Observations:                  123\n",
            "Model:                     ARMA(2, 2)   Log Likelihood                -857.572\n",
            "Method:                       css-mle   S.D. of innovations            247.023\n",
            "Date:                Sat, 26 Dec 2020   AIC                           1727.144\n",
            "Time:                        17:01:34   BIC                           1744.017\n",
            "Sample:                    01-01-1990   HQIC                          1733.998\n",
            "                         - 07-01-2020                                         \n",
            "==============================================================================\n",
            "                 coef    std err          z      P>|z|      [0.025      0.975]\n",
            "------------------------------------------------------------------------------\n",
            "const        4.09e+04        nan        nan        nan         nan         nan\n",
            "ar.L1.GDP      1.8906      0.000   1.74e+04      0.000       1.890       1.891\n",
            "ar.L2.GDP     -0.8906      0.000  -8127.415      0.000      -0.891      -0.890\n",
            "ma.L1.GDP     -1.2482      0.080    -15.568      0.000      -1.405      -1.091\n",
            "ma.L2.GDP      0.5655      0.094      6.040      0.000       0.382       0.749\n",
            "                                    Roots                                    \n",
            "=============================================================================\n",
            "                  Real          Imaginary           Modulus         Frequency\n",
            "-----------------------------------------------------------------------------\n",
            "AR.1            1.0003           +0.0000j            1.0003            0.0000\n",
            "AR.2            1.1225           +0.0000j            1.1225            0.0000\n",
            "MA.1            1.1036           -0.7419j            1.3298           -0.0942\n",
            "MA.2            1.1036           +0.7419j            1.3298            0.0942\n",
            "-----------------------------------------------------------------------------\n",
            "Residuals Description\n",
            "count      123.000000\n",
            "mean      -254.036615\n",
            "std       3170.735365\n",
            "min     -35029.250214\n",
            "25%        -11.764027\n",
            "50%         52.444918\n",
            "75%         86.623612\n",
            "max        770.758866\n",
            "dtype: float64\n"
          ],
          "name": "stdout"
        },
        {
          "output_type": "stream",
          "text": [
            "/usr/local/lib/python3.6/dist-packages/statsmodels/base/model.py:492: HessianInversionWarning: Inverting hessian failed, no bse or cov_params available\n",
            "  'available', HessianInversionWarning)\n",
            "/usr/local/lib/python3.6/dist-packages/statsmodels/base/model.py:512: ConvergenceWarning: Maximum Likelihood optimization failed to converge. Check mle_retvals\n",
            "  \"Check mle_retvals\", ConvergenceWarning)\n",
            "/usr/local/lib/python3.6/dist-packages/statsmodels/tsa/arima_model.py:1441: RuntimeWarning: invalid value encountered in sqrt\n",
            "  return np.sqrt(np.diag(-inv(hess)))\n"
          ],
          "name": "stderr"
        }
      ]
    },
    {
      "cell_type": "markdown",
      "metadata": {
        "id": "tMTmEaybABsn"
      },
      "source": [
        "####Model 2 (order = 2,0,2) has slightly better AIC (1727.144) and log-likelihood (-857.572) estimates in comparison to Model 1."
      ]
    },
    {
      "cell_type": "markdown",
      "metadata": {
        "id": "nCvzTTAgAXR2"
      },
      "source": [
        "####Model 3"
      ]
    },
    {
      "cell_type": "code",
      "metadata": {
        "colab": {
          "base_uri": "https://localhost:8080/"
        },
        "id": "G3zKmDgeALj_",
        "outputId": "ede6eac7-e0f8-4db7-d10a-9192a3a9283b"
      },
      "source": [
        "model = ARIMA(gdp_df.GDP, order=(2,1,2))\r\n",
        "model_fit = model.fit()\r\n",
        "print(model_fit.summary())\r\n",
        "print('Residuals Description')\r\n",
        "print(model_fit.resid.describe())"
      ],
      "execution_count": null,
      "outputs": [
        {
          "output_type": "stream",
          "text": [
            "/usr/local/lib/python3.6/dist-packages/statsmodels/tsa/base/tsa_model.py:165: ValueWarning: No frequency information was provided, so inferred frequency QS-OCT will be used.\n",
            "  % freq, ValueWarning)\n",
            "/usr/local/lib/python3.6/dist-packages/statsmodels/tsa/base/tsa_model.py:165: ValueWarning: No frequency information was provided, so inferred frequency QS-OCT will be used.\n",
            "  % freq, ValueWarning)\n"
          ],
          "name": "stderr"
        },
        {
          "output_type": "stream",
          "text": [
            "                             ARIMA Model Results                              \n",
            "==============================================================================\n",
            "Dep. Variable:                  D.GDP   No. Observations:                  122\n",
            "Model:                 ARIMA(2, 1, 2)   Log Likelihood                -840.691\n",
            "Method:                       css-mle   S.D. of innovations            231.019\n",
            "Date:                Sat, 26 Dec 2020   AIC                           1693.381\n",
            "Time:                        17:03:53   BIC                           1710.206\n",
            "Sample:                    04-01-1990   HQIC                          1700.215\n",
            "                         - 07-01-2020                                         \n",
            "===============================================================================\n",
            "                  coef    std err          z      P>|z|      [0.025      0.975]\n",
            "-------------------------------------------------------------------------------\n",
            "const         119.2088     19.500      6.113      0.000      80.989     157.429\n",
            "ar.L1.D.GDP    -0.5531      0.098     -5.641      0.000      -0.745      -0.361\n",
            "ar.L2.D.GDP    -0.7585      0.140     -5.415      0.000      -1.033      -0.484\n",
            "ma.L1.D.GDP     0.1530      0.030      5.115      0.000       0.094       0.212\n",
            "ma.L2.D.GDP     1.0000      0.045     22.238      0.000       0.912       1.088\n",
            "                                    Roots                                    \n",
            "=============================================================================\n",
            "                  Real          Imaginary           Modulus         Frequency\n",
            "-----------------------------------------------------------------------------\n",
            "AR.1           -0.3646           -1.0888j            1.1482           -0.3014\n",
            "AR.2           -0.3646           +1.0888j            1.1482            0.3014\n",
            "MA.1           -0.0765           -0.9971j            1.0000           -0.2622\n",
            "MA.2           -0.0765           +0.9971j            1.0000            0.2622\n",
            "-----------------------------------------------------------------------------\n",
            "Residuals Description\n",
            "count     122.000000\n",
            "mean       -0.578945\n",
            "std       234.350902\n",
            "min     -2150.956156\n",
            "25%       -44.289797\n",
            "50%         2.786053\n",
            "75%        79.202070\n",
            "max       673.472383\n",
            "dtype: float64\n"
          ],
          "name": "stdout"
        }
      ]
    },
    {
      "cell_type": "markdown",
      "metadata": {
        "id": "ySg1AjUoAfAe"
      },
      "source": [
        "####Model 3 (order = 2,1,2) has slightly better AIC (1693.381) and log-likelihood (-840.691) estimates in comparison to Model 2."
      ]
    },
    {
      "cell_type": "markdown",
      "metadata": {
        "id": "Bypc26CgAvjE"
      },
      "source": [
        "####Model 4"
      ]
    },
    {
      "cell_type": "code",
      "metadata": {
        "colab": {
          "base_uri": "https://localhost:8080/"
        },
        "id": "egCa8rh1ApW-",
        "outputId": "25654e60-f6a4-4363-bc4c-087dd1fe2df1"
      },
      "source": [
        "model = ARIMA(gdp_df.GDP, order=(2,2,2))\r\n",
        "model_fit = model.fit()\r\n",
        "print(model_fit.summary())\r\n",
        "print('Residuals Description')\r\n",
        "print(model_fit.resid.describe())"
      ],
      "execution_count": null,
      "outputs": [
        {
          "output_type": "stream",
          "text": [
            "/usr/local/lib/python3.6/dist-packages/statsmodels/tsa/base/tsa_model.py:165: ValueWarning: No frequency information was provided, so inferred frequency QS-OCT will be used.\n",
            "  % freq, ValueWarning)\n",
            "/usr/local/lib/python3.6/dist-packages/statsmodels/tsa/base/tsa_model.py:165: ValueWarning: No frequency information was provided, so inferred frequency QS-OCT will be used.\n",
            "  % freq, ValueWarning)\n"
          ],
          "name": "stderr"
        },
        {
          "output_type": "stream",
          "text": [
            "                             ARIMA Model Results                              \n",
            "==============================================================================\n",
            "Dep. Variable:                 D2.GDP   No. Observations:                  121\n",
            "Model:                 ARIMA(2, 2, 2)   Log Likelihood                -838.621\n",
            "Method:                       css-mle   S.D. of innovations            239.806\n",
            "Date:                Sat, 26 Dec 2020   AIC                           1689.242\n",
            "Time:                        17:05:29   BIC                           1706.016\n",
            "Sample:                    07-01-1990   HQIC                          1696.054\n",
            "                         - 07-01-2020                                         \n",
            "================================================================================\n",
            "                   coef    std err          z      P>|z|      [0.025      0.975]\n",
            "--------------------------------------------------------------------------------\n",
            "const            0.3412      0.453      0.754      0.453      -0.546       1.229\n",
            "ar.L1.D2.GDP    -1.3392      0.104    -12.908      0.000      -1.543      -1.136\n",
            "ar.L2.D2.GDP    -0.4103      0.112     -3.675      0.000      -0.629      -0.191\n",
            "ma.L1.D2.GDP    -0.0002      0.042     -0.004      0.997      -0.082       0.082\n",
            "ma.L2.D2.GDP    -0.9998      0.042    -23.899      0.000      -1.082      -0.918\n",
            "                                    Roots                                    \n",
            "=============================================================================\n",
            "                  Real          Imaginary           Modulus         Frequency\n",
            "-----------------------------------------------------------------------------\n",
            "AR.1           -1.1565           +0.0000j            1.1565            0.5000\n",
            "AR.2           -2.1075           +0.0000j            2.1075            0.5000\n",
            "MA.1            1.0000           +0.0000j            1.0000            0.0000\n",
            "MA.2           -1.0002           +0.0000j            1.0002            0.5000\n",
            "-----------------------------------------------------------------------------\n",
            "Residuals Description\n",
            "count     121.000000\n",
            "mean       10.344878\n",
            "std       242.808112\n",
            "min     -2275.639986\n",
            "25%        -9.383857\n",
            "50%        38.397029\n",
            "75%        78.758370\n",
            "max       699.587523\n",
            "dtype: float64\n"
          ],
          "name": "stdout"
        },
        {
          "output_type": "stream",
          "text": [
            "/usr/local/lib/python3.6/dist-packages/statsmodels/base/model.py:492: HessianInversionWarning: Inverting hessian failed, no bse or cov_params available\n",
            "  'available', HessianInversionWarning)\n"
          ],
          "name": "stderr"
        }
      ]
    },
    {
      "cell_type": "markdown",
      "metadata": {
        "id": "wH5he9oLA1QI"
      },
      "source": [
        "####Model 4 (order = 2,2,2) has slightly better AIC (1689.242) and log-likelihood (-838.621) estimates in comparison to Model 3."
      ]
    },
    {
      "cell_type": "markdown",
      "metadata": {
        "id": "Ar4K85beBKtU"
      },
      "source": [
        "####Model 5"
      ]
    },
    {
      "cell_type": "code",
      "metadata": {
        "colab": {
          "base_uri": "https://localhost:8080/"
        },
        "id": "mU5nVqqpAyNo",
        "outputId": "24a300da-391f-4997-dcba-67a50f00aa97"
      },
      "source": [
        "model = ARIMA(gdp_df.GDP, order=(0,2,2))\r\n",
        "model_fit = model.fit()\r\n",
        "print(model_fit.summary())\r\n",
        "print('Residuals Description')\r\n",
        "print(model_fit.resid.describe())"
      ],
      "execution_count": null,
      "outputs": [
        {
          "output_type": "stream",
          "text": [
            "                             ARIMA Model Results                              \n",
            "==============================================================================\n",
            "Dep. Variable:                 D2.GDP   No. Observations:                  121\n",
            "Model:                 ARIMA(0, 2, 2)   Log Likelihood                -841.792\n",
            "Method:                       css-mle   S.D. of innovations            252.172\n",
            "Date:                Sat, 26 Dec 2020   AIC                           1691.583\n",
            "Time:                        17:07:15   BIC                           1702.767\n",
            "Sample:                    07-01-1990   HQIC                          1696.125\n",
            "                         - 07-01-2020                                         \n",
            "================================================================================\n",
            "                   coef    std err          z      P>|z|      [0.025      0.975]\n",
            "--------------------------------------------------------------------------------\n",
            "const           -2.6141      5.988     -0.437      0.663     -14.350       9.122\n",
            "ma.L1.D2.GDP    -1.2938      0.084    -15.450      0.000      -1.458      -1.130\n",
            "ma.L2.D2.GDP     0.5443      0.154      3.542      0.001       0.243       0.845\n",
            "                                    Roots                                    \n",
            "=============================================================================\n",
            "                  Real          Imaginary           Modulus         Frequency\n",
            "-----------------------------------------------------------------------------\n",
            "MA.1            1.1884           -0.6517j            1.3554           -0.0798\n",
            "MA.2            1.1884           +0.6517j            1.3554            0.0798\n",
            "-----------------------------------------------------------------------------\n",
            "Residuals Description\n",
            "count     121.000000\n",
            "mean       -1.065011\n",
            "std       253.281776\n",
            "min     -2333.762958\n",
            "25%       -45.890763\n",
            "50%        15.713320\n",
            "75%        64.362307\n",
            "max       875.200155\n",
            "dtype: float64\n"
          ],
          "name": "stdout"
        },
        {
          "output_type": "stream",
          "text": [
            "/usr/local/lib/python3.6/dist-packages/statsmodels/tsa/base/tsa_model.py:165: ValueWarning: No frequency information was provided, so inferred frequency QS-OCT will be used.\n",
            "  % freq, ValueWarning)\n",
            "/usr/local/lib/python3.6/dist-packages/statsmodels/tsa/base/tsa_model.py:165: ValueWarning: No frequency information was provided, so inferred frequency QS-OCT will be used.\n",
            "  % freq, ValueWarning)\n"
          ],
          "name": "stderr"
        }
      ]
    },
    {
      "cell_type": "markdown",
      "metadata": {
        "id": "Ay5526H2BQqa"
      },
      "source": [
        "####Model 5 (order = 0,2,2) has slightly lower AIC (1691.583) and log-likelihood (-841.792) estimates in comparison to Model 3. So best is Model 4."
      ]
    },
    {
      "cell_type": "markdown",
      "metadata": {
        "id": "62SFOGkGBltI"
      },
      "source": [
        "####Model 4 appears to be the most efficient at modeling this data. I want to compare the AIC estimates to make sure that this is the best decision."
      ]
    },
    {
      "cell_type": "markdown",
      "metadata": {
        "id": "ESl2cc8wBwR2"
      },
      "source": [
        "####Exploring Model 4"
      ]
    },
    {
      "cell_type": "code",
      "metadata": {
        "colab": {
          "base_uri": "https://localhost:8080/",
          "height": 677
        },
        "id": "hwY6Hv1tBMND",
        "outputId": "2ed4e527-7e1d-46ec-a3fd-1bbc5055c8a7"
      },
      "source": [
        "model = ARIMA(gdp_df.GDP, order=(2,2,2))\r\n",
        "model_fit = model.fit()\r\n",
        "\r\n",
        "residuals = pd.DataFrame(model_fit.resid)\r\n",
        "\r\n",
        "residuals.plot(legend=False)\r\n",
        "plt.title('Time Series of Residuals')\r\n",
        "\r\n",
        "residuals.hist(bins=20)\r\n",
        "plt.title('Histogram of Residuals')"
      ],
      "execution_count": null,
      "outputs": [
        {
          "output_type": "stream",
          "text": [
            "/usr/local/lib/python3.6/dist-packages/statsmodels/tsa/base/tsa_model.py:165: ValueWarning: No frequency information was provided, so inferred frequency QS-OCT will be used.\n",
            "  % freq, ValueWarning)\n",
            "/usr/local/lib/python3.6/dist-packages/statsmodels/tsa/base/tsa_model.py:165: ValueWarning: No frequency information was provided, so inferred frequency QS-OCT will be used.\n",
            "  % freq, ValueWarning)\n",
            "/usr/local/lib/python3.6/dist-packages/statsmodels/base/model.py:492: HessianInversionWarning: Inverting hessian failed, no bse or cov_params available\n",
            "  'available', HessianInversionWarning)\n"
          ],
          "name": "stderr"
        },
        {
          "output_type": "execute_result",
          "data": {
            "text/plain": [
              "Text(0.5, 1.0, 'Histogram of Residuals')"
            ]
          },
          "metadata": {
            "tags": []
          },
          "execution_count": 19
        },
        {
          "output_type": "display_data",
          "data": {
            "image/png": "[encoded data removed]",
            "text/plain": [
              "<Figure size 432x288 with 1 Axes>"
            ]
          },
          "metadata": {
            "tags": [],
            "needs_background": "light"
          }
        },
        {
          "output_type": "display_data",
          "data": {
            "image/png": "[encoded data removed]",
            "text/plain": [
              "<Figure size 432x288 with 1 Axes>"
            ]
          },
          "metadata": {
            "tags": [],
            "needs_background": "light"
          }
        }
      ]
    },
    {
      "cell_type": "markdown",
      "metadata": {
        "id": "jkyZUtMCCLSk"
      },
      "source": [
        "####There does not seem to be any clear trend based on the plot of the residuals, though there is some volatility. The histogram indicates that the residuals are close enough to the standard normal."
      ]
    },
    {
      "cell_type": "markdown",
      "metadata": {
        "id": "11rST7t_CTnS"
      },
      "source": [
        "####Model 4 Interpretation"
      ]
    },
    {
      "cell_type": "code",
      "metadata": {
        "colab": {
          "base_uri": "https://localhost:8080/"
        },
        "id": "pT8EXfroB7CV",
        "outputId": "7a92521e-fbef-459b-f821-25b372572f4a"
      },
      "source": [
        "model = ARIMA(gdp_df.GDP, order=(2,2,2))\r\n",
        "model_fit = model.fit()\r\n",
        "print(model_fit.summary())"
      ],
      "execution_count": null,
      "outputs": [
        {
          "output_type": "stream",
          "text": [
            "/usr/local/lib/python3.6/dist-packages/statsmodels/tsa/base/tsa_model.py:165: ValueWarning: No frequency information was provided, so inferred frequency QS-OCT will be used.\n",
            "  % freq, ValueWarning)\n",
            "/usr/local/lib/python3.6/dist-packages/statsmodels/tsa/base/tsa_model.py:165: ValueWarning: No frequency information was provided, so inferred frequency QS-OCT will be used.\n",
            "  % freq, ValueWarning)\n"
          ],
          "name": "stderr"
        },
        {
          "output_type": "stream",
          "text": [
            "                             ARIMA Model Results                              \n",
            "==============================================================================\n",
            "Dep. Variable:                 D2.GDP   No. Observations:                  121\n",
            "Model:                 ARIMA(2, 2, 2)   Log Likelihood                -838.621\n",
            "Method:                       css-mle   S.D. of innovations            239.806\n",
            "Date:                Sat, 26 Dec 2020   AIC                           1689.242\n",
            "Time:                        17:12:30   BIC                           1706.016\n",
            "Sample:                    07-01-1990   HQIC                          1696.054\n",
            "                         - 07-01-2020                                         \n",
            "================================================================================\n",
            "                   coef    std err          z      P>|z|      [0.025      0.975]\n",
            "--------------------------------------------------------------------------------\n",
            "const            0.3412      0.453      0.754      0.453      -0.546       1.229\n",
            "ar.L1.D2.GDP    -1.3392      0.104    -12.908      0.000      -1.543      -1.136\n",
            "ar.L2.D2.GDP    -0.4103      0.112     -3.675      0.000      -0.629      -0.191\n",
            "ma.L1.D2.GDP    -0.0002      0.042     -0.004      0.997      -0.082       0.082\n",
            "ma.L2.D2.GDP    -0.9998      0.042    -23.899      0.000      -1.082      -0.918\n",
            "                                    Roots                                    \n",
            "=============================================================================\n",
            "                  Real          Imaginary           Modulus         Frequency\n",
            "-----------------------------------------------------------------------------\n",
            "AR.1           -1.1565           +0.0000j            1.1565            0.5000\n",
            "AR.2           -2.1075           +0.0000j            2.1075            0.5000\n",
            "MA.1            1.0000           +0.0000j            1.0000            0.0000\n",
            "MA.2           -1.0002           +0.0000j            1.0002            0.5000\n",
            "-----------------------------------------------------------------------------\n"
          ],
          "name": "stdout"
        },
        {
          "output_type": "stream",
          "text": [
            "/usr/local/lib/python3.6/dist-packages/statsmodels/base/model.py:492: HessianInversionWarning: Inverting hessian failed, no bse or cov_params available\n",
            "  'available', HessianInversionWarning)\n"
          ],
          "name": "stderr"
        }
      ]
    },
    {
      "cell_type": "markdown",
      "metadata": {
        "id": "ptzSB21oCbov"
      },
      "source": [
        "####The constant in Model 4 is 0.3410. Then, each day is not quite close to the previous day's value (as indicated by the AR1 coefficient being -1.33 and AR2 coefficient of -0.41)."
      ]
    },
    {
      "cell_type": "code",
      "metadata": {
        "id": "8ru4r5XOCXsE"
      },
      "source": [
        ""
      ],
      "execution_count": null,
      "outputs": []
    }
  ]
}