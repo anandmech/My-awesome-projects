{
  "nbformat": 4,
  "nbformat_minor": 0,
  "metadata": {
    "colab": {
      "name": "Deep Learning_CNN Challenge.ipynb",
      "private_outputs": true,
      "provenance": [],
      "mount_file_id": "1nsgDOxtj_aeX7WXTGw8ukDZ93C8lea83",
      "authorship_tag": "ABX9TyM6/Xl6QPnH85Vikm6Z+DVu"
    },
    "kernelspec": {
      "name": "python3",
      "display_name": "Python 3"
    },
    "accelerator": "GPU"
  },
  "cells": [
    {
      "cell_type": "markdown",
      "metadata": {
        "id": "A-dugSDwJQEw"
      },
      "source": [
        "##Dogs vs. Cats\r\n",
        "Create an Deep Learning algorithm using CNN to distinguish dogs from cats"
      ]
    },
    {
      "cell_type": "markdown",
      "metadata": {
        "id": "sraA1gXaJCHB"
      },
      "source": [
        "Download kaggle data in Google Colab via API token"
      ]
    },
    {
      "cell_type": "code",
      "metadata": {
        "id": "ckLZxdtoxDM5"
      },
      "source": [
        "! pip install -q kaggle"
      ],
      "execution_count": null,
      "outputs": []
    },
    {
      "cell_type": "code",
      "metadata": {
        "id": "IOcu6HLDxIQd"
      },
      "source": [
        "from google.colab import files\r\n",
        "files.upload()"
      ],
      "execution_count": null,
      "outputs": []
    },
    {
      "cell_type": "code",
      "metadata": {
        "id": "hOD9fTJfyI3O"
      },
      "source": [
        "! mkdir ~/.kaggle"
      ],
      "execution_count": null,
      "outputs": []
    },
    {
      "cell_type": "code",
      "metadata": {
        "id": "n2sN791zyO6K"
      },
      "source": [
        "! cp kaggle.json ~/.kaggle/"
      ],
      "execution_count": null,
      "outputs": []
    },
    {
      "cell_type": "code",
      "metadata": {
        "id": "tXHy8jFFySRo"
      },
      "source": [
        "! chmod 600 ~/.kaggle/kaggle.json"
      ],
      "execution_count": null,
      "outputs": []
    },
    {
      "cell_type": "code",
      "metadata": {
        "id": "yoFAk5e0yWeR"
      },
      "source": [
        "! kaggle competitions download -c dogs-vs-cats"
      ],
      "execution_count": null,
      "outputs": []
    },
    {
      "cell_type": "code",
      "metadata": {
        "id": "Nw3kxOT1yicO"
      },
      "source": [
        "! mkdir train"
      ],
      "execution_count": null,
      "outputs": []
    },
    {
      "cell_type": "code",
      "metadata": {
        "id": "0VTillP7yqx_"
      },
      "source": [
        "! unzip train.zip -d train"
      ],
      "execution_count": null,
      "outputs": []
    },
    {
      "cell_type": "markdown",
      "metadata": {
        "id": "RqZj9PSVJnvc"
      },
      "source": [
        "Use GPU"
      ]
    },
    {
      "cell_type": "code",
      "metadata": {
        "id": "OXErAWnkyt2l"
      },
      "source": [
        "pip install tensorflow-gpu==2.0.0-rc1"
      ],
      "execution_count": null,
      "outputs": []
    },
    {
      "cell_type": "markdown",
      "metadata": {
        "id": "Y7s3ktFSJqOF"
      },
      "source": [
        "Load the libraries"
      ]
    },
    {
      "cell_type": "code",
      "metadata": {
        "id": "kw0-IHX5z-xy"
      },
      "source": [
        "import warnings\r\n",
        "warnings.filterwarnings(\"ignore\")\r\n",
        "\r\n",
        "from sklearn.datasets import load_files\r\n",
        "from tensorflow.keras.utils import to_categorical\r\n",
        "from tensorflow.keras.models import Sequential \r\n",
        "from tensorflow.keras.layers import Dense\r\n",
        "from tensorflow.keras import optimizers\r\n",
        "import numpy as np \r\n",
        "import pandas as pd \r\n",
        "import tensorflow as tf\r\n",
        "import matplotlib.pyplot as plt\r\n",
        "%matplotlib inline\r\n",
        "import cv2\r\n",
        "import glob\r\n",
        "import os\r\n",
        "import PIL\r\n",
        "from PIL import Image"
      ],
      "execution_count": null,
      "outputs": []
    },
    {
      "cell_type": "markdown",
      "metadata": {
        "id": "zc76Nl7dJxQ2"
      },
      "source": [
        "Visualize the Images"
      ]
    },
    {
      "cell_type": "code",
      "metadata": {
        "id": "ZOXsy9mI3cDW"
      },
      "source": [
        "cat_image = Image.open(\"train/train/cat.1.jpg\")\r\n",
        "dog_image = Image.open(\"train/train/dog.1.jpg\")"
      ],
      "execution_count": null,
      "outputs": []
    },
    {
      "cell_type": "code",
      "metadata": {
        "id": "_Nrcu9Nt5A3Z"
      },
      "source": [
        "cat_image"
      ],
      "execution_count": null,
      "outputs": []
    },
    {
      "cell_type": "code",
      "metadata": {
        "id": "8MAQ8Hg35CIk"
      },
      "source": [
        "dog_image"
      ],
      "execution_count": null,
      "outputs": []
    },
    {
      "cell_type": "markdown",
      "metadata": {
        "id": "dmMKgVgnKDA2"
      },
      "source": [
        "Look at the size of the images"
      ]
    },
    {
      "cell_type": "code",
      "metadata": {
        "id": "qadMUyXV5Fc_"
      },
      "source": [
        "cat_image.size"
      ],
      "execution_count": null,
      "outputs": []
    },
    {
      "cell_type": "code",
      "metadata": {
        "id": "xEG38zOs55j7"
      },
      "source": [
        "cat_array = np.array(cat_image.getdata())"
      ],
      "execution_count": null,
      "outputs": []
    },
    {
      "cell_type": "code",
      "metadata": {
        "id": "GvKiUNpK59v1"
      },
      "source": [
        "cat_array.shape"
      ],
      "execution_count": null,
      "outputs": []
    },
    {
      "cell_type": "code",
      "metadata": {
        "id": "OcA5WIdX6EZd"
      },
      "source": [
        "dog_image.size"
      ],
      "execution_count": null,
      "outputs": []
    },
    {
      "cell_type": "code",
      "metadata": {
        "id": "gkOf7Vol6GYt"
      },
      "source": [
        "dog_array = np.array(dog_image.getdata())"
      ],
      "execution_count": null,
      "outputs": []
    },
    {
      "cell_type": "code",
      "metadata": {
        "id": "BOXq4yT66UzG"
      },
      "source": [
        "dog_array.shape"
      ],
      "execution_count": null,
      "outputs": []
    },
    {
      "cell_type": "code",
      "metadata": {
        "id": "9dgFSr5o7SS8"
      },
      "source": [
        "from tensorflow.keras.datasets import cifar10"
      ],
      "execution_count": null,
      "outputs": []
    },
    {
      "cell_type": "markdown",
      "metadata": {
        "id": "VxHUnqebEty4"
      },
      "source": [
        "Create input data for the model"
      ]
    },
    {
      "cell_type": "code",
      "metadata": {
        "id": "Jpyf9bwfEBhR"
      },
      "source": [
        "(X_train, y_train), (X_test, y_test) = cifar10.load_data()"
      ],
      "execution_count": null,
      "outputs": []
    },
    {
      "cell_type": "markdown",
      "metadata": {
        "id": "wZ2H98TEEeXU"
      },
      "source": [
        "Preprocessing the data before feeding into a model\r\n"
      ]
    },
    {
      "cell_type": "code",
      "metadata": {
        "id": "LWJyRXzeECXB"
      },
      "source": [
        "# 3 RBG, 32*32 Image\r\n",
        "X_train.shape"
      ],
      "execution_count": null,
      "outputs": []
    },
    {
      "cell_type": "code",
      "metadata": {
        "id": "eajTgtM2EKtH"
      },
      "source": [
        "resized_cat = cat_image.resize((100, 100))\r\n",
        "resized_cat"
      ],
      "execution_count": null,
      "outputs": []
    },
    {
      "cell_type": "code",
      "metadata": {
        "id": "XUb1oqwrERq5"
      },
      "source": [
        "np.array(resized_cat).shape"
      ],
      "execution_count": null,
      "outputs": []
    },
    {
      "cell_type": "code",
      "metadata": {
        "id": "MOcXmNgnE8F1"
      },
      "source": [
        "resized_dog = dog_image.resize((100, 100))\r\n",
        "resized_dog"
      ],
      "execution_count": null,
      "outputs": []
    },
    {
      "cell_type": "code",
      "metadata": {
        "id": "jK1WvFu0FEfN"
      },
      "source": [
        "def convert_image_to_data(image):\r\n",
        "    image_resized = Image.open(image).resize((100, 100))\r\n",
        "    cat_array = np.array(image_resized).T\r\n",
        "    return cat_array"
      ],
      "execution_count": null,
      "outputs": []
    },
    {
      "cell_type": "code",
      "metadata": {
        "id": "1h1fSrciFQ4I"
      },
      "source": [
        "cat_files = glob.glob(\"train/train/cat*\")\r\n",
        "dog_files = glob.glob(\"train/train/dog*\")"
      ],
      "execution_count": null,
      "outputs": []
    },
    {
      "cell_type": "code",
      "metadata": {
        "id": "i4Kbs7wiFdxD"
      },
      "source": [
        "cat_list = []\r\n",
        "for i in cat_files:\r\n",
        "    cat_list.append(convert_image_to_data(i))"
      ],
      "execution_count": null,
      "outputs": []
    },
    {
      "cell_type": "code",
      "metadata": {
        "id": "bYnf59EVFeUo"
      },
      "source": [
        "dog_list = []\r\n",
        "for i in dog_files:\r\n",
        "    dog_list.append(convert_image_to_data(i))"
      ],
      "execution_count": null,
      "outputs": []
    },
    {
      "cell_type": "code",
      "metadata": {
        "id": "LTB_QBZ9FiOw"
      },
      "source": [
        "y_cat = np.zeros(len(cat_list))"
      ],
      "execution_count": null,
      "outputs": []
    },
    {
      "cell_type": "code",
      "metadata": {
        "id": "st3v-JynGBb3"
      },
      "source": [
        "y_dog = np.ones(len(dog_list))"
      ],
      "execution_count": null,
      "outputs": []
    },
    {
      "cell_type": "code",
      "metadata": {
        "id": "7VupjB9LGFJg"
      },
      "source": [
        "X = np.concatenate([cat_list, dog_list])"
      ],
      "execution_count": null,
      "outputs": []
    },
    {
      "cell_type": "markdown",
      "metadata": {
        "id": "5Mtgby9KGTHu"
      },
      "source": [
        "Convert to float type"
      ]
    },
    {
      "cell_type": "code",
      "metadata": {
        "id": "4Y_RJ65_GImq"
      },
      "source": [
        "X = X.astype(\"float32\")"
      ],
      "execution_count": null,
      "outputs": []
    },
    {
      "cell_type": "code",
      "metadata": {
        "id": "QgXrmp-jGLzT"
      },
      "source": [
        "X[:2]"
      ],
      "execution_count": null,
      "outputs": []
    },
    {
      "cell_type": "code",
      "metadata": {
        "id": "F_7GroIWGNu_"
      },
      "source": [
        "X.shape"
      ],
      "execution_count": null,
      "outputs": []
    },
    {
      "cell_type": "code",
      "metadata": {
        "id": "8Lq2tx2PGb9m"
      },
      "source": [
        "y = np.concatenate([y_cat, y_dog])"
      ],
      "execution_count": null,
      "outputs": []
    },
    {
      "cell_type": "markdown",
      "metadata": {
        "id": "LzXFJQbzGijE"
      },
      "source": [
        "Convert to integer type"
      ]
    },
    {
      "cell_type": "code",
      "metadata": {
        "id": "OWAU2-JAGe2n"
      },
      "source": [
        "y = y.astype(\"int\")"
      ],
      "execution_count": null,
      "outputs": []
    },
    {
      "cell_type": "code",
      "metadata": {
        "id": "CIhzF1qZGh8g"
      },
      "source": [
        "y"
      ],
      "execution_count": null,
      "outputs": []
    },
    {
      "cell_type": "code",
      "metadata": {
        "id": "KqCa2-6lEOHt"
      },
      "source": [
        "y.shape"
      ],
      "execution_count": null,
      "outputs": []
    },
    {
      "cell_type": "markdown",
      "metadata": {
        "id": "jw3n2PyyGqzR"
      },
      "source": [
        "Split Training data into test and training datasets"
      ]
    },
    {
      "cell_type": "code",
      "metadata": {
        "id": "hJ_BSZbUCr8f"
      },
      "source": [
        "from sklearn.model_selection import train_test_split"
      ],
      "execution_count": null,
      "outputs": []
    },
    {
      "cell_type": "code",
      "metadata": {
        "id": "q56FiKZtHswE"
      },
      "source": [
        "X_train, X_test, y_train, y_test = train_test_split(X, y, test_size=0.2, random_state=42)"
      ],
      "execution_count": null,
      "outputs": []
    },
    {
      "cell_type": "code",
      "metadata": {
        "id": "14h2YFtEAPpL"
      },
      "source": [
        "y_train, y_test"
      ],
      "execution_count": null,
      "outputs": []
    },
    {
      "cell_type": "code",
      "metadata": {
        "id": "E3JNxIdsP-Os"
      },
      "source": [
        "#import all the pieces of the neural network\r\n",
        "from tensorflow.keras.models import Sequential, Model#the model\r\n",
        "from tensorflow.keras.layers import Dense, Dropout, Activation, Flatten, Input #fully connected layers\r\n",
        "from tensorflow.keras.layers import Convolution2D, MaxPooling2D #the convnet\r\n",
        "from tensorflow.keras.callbacks import ModelCheckpoint"
      ],
      "execution_count": null,
      "outputs": []
    },
    {
      "cell_type": "markdown",
      "metadata": {
        "id": "SZYtk2s8QYeJ"
      },
      "source": [
        "CNN Model"
      ]
    },
    {
      "cell_type": "markdown",
      "metadata": {
        "id": "phcJNnaBLlzd"
      },
      "source": [
        "Train the model and validate it. Use Sigmoid function."
      ]
    },
    {
      "cell_type": "code",
      "metadata": {
        "id": "Y63DLL0SUx6O"
      },
      "source": [
        "model = Sequential()\r\n",
        "# Input 100x100 images with 3 channels - (3, 100, 100) tensors.\r\n",
        "# This applies 32 convolution filters of size 3x3 each.\r\n",
        "model.add(Convolution2D(32, (3, 3), input_shape=(3, 100, 100), data_format='channels_first'))\r\n",
        "model.add(Activation('relu'))\r\n",
        "model.add(Convolution2D(32, 3, 3))\r\n",
        "model.add(Activation('relu'))\r\n",
        "model.add(MaxPooling2D(pool_size=(2, 2)))\r\n",
        "model.add(Dropout(0.25))\r\n",
        "\r\n",
        "model.add(Convolution2D(64, (3, 3), data_format='channels_first'))\r\n",
        "model.add(Activation('relu'))\r\n",
        "model.add(Convolution2D(64, 3, 3))\r\n",
        "model.add(Activation('relu'))\r\n",
        "model.add(MaxPooling2D(pool_size=(2, 2)))\r\n",
        "model.add(Dropout(0.25))\r\n",
        "\r\n",
        "model.add(Flatten())\r\n",
        "model.add(Dense(256))\r\n",
        "model.add(Activation('relu'))\r\n",
        "model.add(Dropout(0.5))\r\n",
        "\r\n",
        "model.add(Dense(1))\r\n",
        "model.add(Activation('sigmoid'))\r\n",
        "\r\n",
        "model.compile(loss='sparse_categorical_crossentropy', optimizer='sgd', metrics=['accuracy'])"
      ],
      "execution_count": null,
      "outputs": []
    },
    {
      "cell_type": "code",
      "metadata": {
        "id": "03eMYAgMgGGb"
      },
      "source": [
        "model.summary()"
      ],
      "execution_count": null,
      "outputs": []
    },
    {
      "cell_type": "code",
      "metadata": {
        "id": "LpdSgyu8-qnJ"
      },
      "source": [
        "# Set 128 as mini batch size\r\n",
        "model.fit(X_train, y_train, batch_size=128, epochs=20, verbose=False)"
      ],
      "execution_count": null,
      "outputs": []
    },
    {
      "cell_type": "code",
      "metadata": {
        "id": "Q_x_wejgKgg0"
      },
      "source": [
        "y_test_predict = model.predict(X_test)"
      ],
      "execution_count": null,
      "outputs": []
    },
    {
      "cell_type": "code",
      "metadata": {
        "id": "K5viZ_74Kulj"
      },
      "source": [
        "from sklearn.metrics import accuracy_score"
      ],
      "execution_count": null,
      "outputs": []
    },
    {
      "cell_type": "code",
      "metadata": {
        "id": "uIWCYPN_Kh-C"
      },
      "source": [
        "accuracy_score(y_test, y_test_predict)"
      ],
      "execution_count": null,
      "outputs": []
    },
    {
      "cell_type": "markdown",
      "metadata": {
        "id": "koKAOvdpU-ZK"
      },
      "source": [
        "Use ReLU function"
      ]
    },
    {
      "cell_type": "code",
      "metadata": {
        "id": "OlaIPaHoUlo9"
      },
      "source": [
        "model = Sequential()\r\n",
        "# Input 100x100 images with 3 channels - (3, 100, 100) tensors.\r\n",
        "# This applies 32 convolution filters of size 3x3 each.\r\n",
        "model.add(Convolution2D(32, (3, 3), input_shape=(3, 100, 100), data_format='channels_first'))\r\n",
        "model.add(Activation('relu'))\r\n",
        "model.add(Convolution2D(32, 3, 3))\r\n",
        "model.add(Activation('relu'))\r\n",
        "model.add(MaxPooling2D(pool_size=(2, 2)))\r\n",
        "model.add(Dropout(0.25))\r\n",
        "\r\n",
        "model.add(Convolution2D(64, (3, 3), data_format='channels_first'))\r\n",
        "model.add(Activation('relu'))\r\n",
        "model.add(Convolution2D(64, 3, 3))\r\n",
        "model.add(Activation('relu'))\r\n",
        "model.add(MaxPooling2D(pool_size=(2, 2)))\r\n",
        "model.add(Dropout(0.25))\r\n",
        "\r\n",
        "model.add(Flatten())\r\n",
        "model.add(Dense(256))\r\n",
        "model.add(Activation('relu'))\r\n",
        "model.add(Dropout(0.5))\r\n",
        "\r\n",
        "model.add(Dense(1))\r\n",
        "model.add(Activation('relu'))\r\n",
        "\r\n",
        "model.compile(loss='sparse_categorical_crossentropy', optimizer='adam', metrics=['accuracy'])"
      ],
      "execution_count": null,
      "outputs": []
    },
    {
      "cell_type": "code",
      "metadata": {
        "id": "uhFjgm4rWaqI"
      },
      "source": [
        "model.summary()"
      ],
      "execution_count": null,
      "outputs": []
    },
    {
      "cell_type": "code",
      "metadata": {
        "id": "JQIL-z1lWcAN"
      },
      "source": [
        "# Set 128 as mini batch size\r\n",
        "model.fit(X_train, y_train, batch_size=128, epochs=20, verbose=False)"
      ],
      "execution_count": null,
      "outputs": []
    },
    {
      "cell_type": "code",
      "metadata": {
        "id": "A93F2kI-XAku"
      },
      "source": [
        "y_test_predict = model.predict(X_test)"
      ],
      "execution_count": null,
      "outputs": []
    },
    {
      "cell_type": "code",
      "metadata": {
        "id": "VYZdQhQ1XB-K"
      },
      "source": [
        "accuracy_score(y_test, y_test_predict)"
      ],
      "execution_count": null,
      "outputs": []
    }
  ]
}