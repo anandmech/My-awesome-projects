{
  "nbformat": 4,
  "nbformat_minor": 0,
  "metadata": {
    "colab": {
      "name": "TalkingData Mobile User Demographics_Final Capstone.ipynb",
      "provenance": [],
      "mount_file_id": "1LAqI6MGzeFDZhPqvJ70K73yhBqihJme7",
      "authorship_tag": "ABX9TyORLnHd72uCKTAb2eX6HiU5"
    },
    "kernelspec": {
      "display_name": "Python 3",
      "name": "python3"
    },
    "accelerator": "GPU"
  },
  "cells": [
    {
      "cell_type": "markdown",
      "metadata": {
        "id": "8jW4wrCEYRjk"
      },
      "source": [
        "##Final Capstone\r\n",
        "Introduction/Background: TalkingData, China’s largest third-party mobile data platform, is seeking to leverage behavioral data from more than 70% of the 500 million mobile devices active daily in China to help its clients better understand and interact with their audiences.\r\n",
        "\r\n",
        "Objective:The purpose of this project is to classify a subset of the population of China that uses a mobile operator based on the apps they have installed and that they used and the brand of the device they have.The classification takes into consideration gender and age range.  \r\n",
        "\r\n",
        "Approach: Applying Supervised Learning, Deep Learning, and Unsupervised Clustering techniques to build a model predicting users demographic characteristics based on their app usage, geolocation, & mobile device properties. \r\n",
        "\r\n",
        "Motivation: To help stakeholders pursue data-driven marketing efforts relevant and catered to their users preferences."
      ]
    },
    {
      "cell_type": "code",
      "metadata": {
        "id": "_7SHDNYSWGaF"
      },
      "source": [
        "# Load the libraries\r\n",
        "import numpy as np\r\n",
        "import pandas as pd\r\n",
        "import scipy\r\n",
        "import matplotlib.pyplot as plt\r\n",
        "import seaborn as sns\r\n",
        "import math\r\n",
        "import warnings\r\n",
        "from sklearn.utils import resample\r\n",
        "from sklearn.feature_selection import SelectKBest\r\n",
        "from sklearn.preprocessing import StandardScaler \r\n",
        "from sklearn.decomposition import PCA as sklearn_pca\r\n",
        "from sklearn.linear_model import LogisticRegression, SGDClassifier\r\n",
        "from sklearn.neighbors import KNeighborsClassifier\r\n",
        "from sklearn.ensemble import RandomForestClassifier, GradientBoostingClassifier\r\n",
        "from sklearn.svm import LinearSVC, SVC\r\n",
        "from sklearn.cluster import SpectralClustering, MeanShift, estimate_bandwidth, AffinityPropagation, KMeans\r\n",
        "from sklearn.preprocessing import normalize\r\n",
        "from sklearn.metrics import accuracy_score, confusion_matrix, classification_report\r\n",
        "from sklearn.metrics import silhouette_score, adjusted_rand_score\r\n",
        "from sklearn.model_selection import train_test_split,cross_val_score, KFold, cross_val_predict, GridSearchCV, StratifiedKFold\r\n",
        "import tensorflow as tf\r\n",
        "import keras\r\n",
        "from keras.preprocessing import sequence\r\n",
        "from keras.utils import np_utils\r\n",
        "from keras.layers.normalization import BatchNormalization\r\n",
        "from tensorflow.keras.utils import to_categorical\r\n",
        "from tensorflow.keras.models import Sequential, Model \r\n",
        "from tensorflow.keras.layers import Embedding, LSTM, Dense, Dropout, Flatten, Conv1D, MaxPooling1D, LSTM, Input\r\n",
        "from tensorflow.keras import optimizers\r\n",
        "from keras.optimizers import SGD, RMSprop\r\n",
        "from keras import backend as K\r\n",
        "%matplotlib inline"
      ],
      "execution_count": 67,
      "outputs": []
    },
    {
      "cell_type": "markdown",
      "metadata": {
        "id": "v3ivcjjyUaWo"
      },
      "source": [
        "###Data Wrangling/ Data Cleaning"
      ]
    },
    {
      "cell_type": "markdown",
      "metadata": {
        "id": "i1DicAV58SXh"
      },
      "source": [
        "Created a dataset that combined the different files. Carried out a set of merging actions based on the information provided and combined with cleaning to avoid oversizing the final dataset prior to the features generation.\r\n",
        "\r\n",
        "To merge this information the hypothesis around the potential features that can explain the demographics of the users for further classification has been used: appa events, app labels, events, device brands, gender and age. This transforms the problem into selecting and generation the categorical features (predictors) to determine based on them if the user is in a certain age range and gender (target).\r\n",
        "\r\n",
        "The order in which the different datasets are merged is not random. Several ways of merging the data have been tried and this is the one that allows to build a model that will predict the age range and gender gathering as much relevant information as possible.The dataset provided by Kaggle as the test in the abovementioned link has been discarded as it is providing devices that are not contained in the training dataset and is adding noise to the dataset as we don´t have any relevant information from which we can create features."
      ]
    },
    {
      "cell_type": "code",
      "metadata": {
        "id": "nBG8IbqRa9Fp"
      },
      "source": [
        "# Load the datasets\r\n",
        "app_events = pd.read_csv('/content/drive/My Drive/app_events.csv')\r\n",
        "app_labels = pd.read_csv('/content/drive/My Drive/app_labels.csv')\r\n",
        "events = pd.read_csv('/content/drive/My Drive/events.csv')\r\n",
        "gender_age_test = pd.read_csv('/content/drive/My Drive/gender_age_test.csv')\r\n",
        "gender_age_train = pd.read_csv('/content/drive/My Drive/gender_age_train.csv')\r\n",
        "phone_brand_device_model = pd.read_csv('/content/drive/My Drive/phone_brand_device_model.csv')"
      ],
      "execution_count": 68,
      "outputs": []
    },
    {
      "cell_type": "markdown",
      "metadata": {
        "id": "iDGBOBkL80Ic"
      },
      "source": [
        "The appevents dataset links the events or usage of the different apps to the app id that categorizes the apps within certain groups such as gaming, finance, etc. In this case the app ides will be used as a categorical features to have a better description of the interests of the target audience. The linking column will be the events as it appears in both datasets (app_events and device apps) including information about the app to see if it is active or just installed."
      ]
    },
    {
      "cell_type": "code",
      "metadata": {
        "colab": {
          "base_uri": "https://localhost:8080/"
        },
        "id": "G9zAG-SIO4kU",
        "outputId": "13669d7f-3a5d-40e5-9e9d-8ff9b3757514"
      },
      "source": [
        "app_events.info()"
      ],
      "execution_count": 69,
      "outputs": [
        {
          "output_type": "stream",
          "text": [
            "<class 'pandas.core.frame.DataFrame'>\n",
            "RangeIndex: 32473067 entries, 0 to 32473066\n",
            "Data columns (total 4 columns):\n",
            " #   Column        Dtype\n",
            "---  ------        -----\n",
            " 0   event_id      int64\n",
            " 1   app_id        int64\n",
            " 2   is_installed  int64\n",
            " 3   is_active     int64\n",
            "dtypes: int64(4)\n",
            "memory usage: 991.0 MB\n"
          ],
          "name": "stdout"
        }
      ]
    },
    {
      "cell_type": "code",
      "metadata": {
        "id": "GlxEbsmuT6ix"
      },
      "source": [
        "# Drop is_installed from app_events\r\n",
        "app_events = app_events.drop(columns='is_installed')"
      ],
      "execution_count": 70,
      "outputs": []
    },
    {
      "cell_type": "markdown",
      "metadata": {
        "id": "3bh0425b8318"
      },
      "source": [
        "The applabels dataset “translates” a 20 digits id into the abovementioned categories."
      ]
    },
    {
      "cell_type": "code",
      "metadata": {
        "colab": {
          "base_uri": "https://localhost:8080/"
        },
        "id": "gTDdD7IIPBI6",
        "outputId": "f7a166ed-066c-4c30-bca9-52a06012aa08"
      },
      "source": [
        "app_labels.info()"
      ],
      "execution_count": 71,
      "outputs": [
        {
          "output_type": "stream",
          "text": [
            "<class 'pandas.core.frame.DataFrame'>\n",
            "RangeIndex: 459943 entries, 0 to 459942\n",
            "Data columns (total 2 columns):\n",
            " #   Column    Non-Null Count   Dtype\n",
            "---  ------    --------------   -----\n",
            " 0   app_id    459943 non-null  int64\n",
            " 1   label_id  459943 non-null  int64\n",
            "dtypes: int64(2)\n",
            "memory usage: 7.0 MB\n"
          ],
          "name": "stdout"
        }
      ]
    },
    {
      "cell_type": "markdown",
      "metadata": {
        "id": "89EcIIhq86wf"
      },
      "source": [
        "The events dataset gives information about the location and the time in which the app is used in the device. In this case the information about the location has been discarded as it is not accurate giving as locations points outside of China hence not adding relevant information for the features generation."
      ]
    },
    {
      "cell_type": "code",
      "metadata": {
        "colab": {
          "base_uri": "https://localhost:8080/"
        },
        "id": "lTu-POiSPFv_",
        "outputId": "0d1aa7a9-ba2d-40ae-bbfb-0b1bb28ef8ac"
      },
      "source": [
        "events.info()"
      ],
      "execution_count": 72,
      "outputs": [
        {
          "output_type": "stream",
          "text": [
            "<class 'pandas.core.frame.DataFrame'>\n",
            "RangeIndex: 3252950 entries, 0 to 3252949\n",
            "Data columns (total 5 columns):\n",
            " #   Column     Dtype  \n",
            "---  ------     -----  \n",
            " 0   event_id   int64  \n",
            " 1   device_id  int64  \n",
            " 2   timestamp  object \n",
            " 3   longitude  float64\n",
            " 4   latitude   float64\n",
            "dtypes: float64(2), int64(2), object(1)\n",
            "memory usage: 124.1+ MB\n"
          ],
          "name": "stdout"
        }
      ]
    },
    {
      "cell_type": "code",
      "metadata": {
        "id": "lJg7ETaISywa"
      },
      "source": [
        "# Drop timestamp, longitude, latitude from events\r\n",
        "events = events.drop(columns='timestamp')\r\n",
        "events = events.drop(columns='longitude')\r\n",
        "events = events.drop(columns='latitude')"
      ],
      "execution_count": 73,
      "outputs": []
    },
    {
      "cell_type": "code",
      "metadata": {
        "colab": {
          "base_uri": "https://localhost:8080/"
        },
        "id": "G_1oV8qVPI_c",
        "outputId": "d30288ed-0151-4929-d244-8821f658ffb3"
      },
      "source": [
        "gender_age_test.info()"
      ],
      "execution_count": 74,
      "outputs": [
        {
          "output_type": "stream",
          "text": [
            "<class 'pandas.core.frame.DataFrame'>\n",
            "RangeIndex: 112071 entries, 0 to 112070\n",
            "Data columns (total 1 columns):\n",
            " #   Column     Non-Null Count   Dtype\n",
            "---  ------     --------------   -----\n",
            " 0   device_id  112071 non-null  int64\n",
            "dtypes: int64(1)\n",
            "memory usage: 875.7 KB\n"
          ],
          "name": "stdout"
        }
      ]
    },
    {
      "cell_type": "code",
      "metadata": {
        "colab": {
          "base_uri": "https://localhost:8080/"
        },
        "id": "B8hK7P6XPN8q",
        "outputId": "642e0535-4046-4e32-f979-80b465de6e17"
      },
      "source": [
        "gender_age_train.info()"
      ],
      "execution_count": 75,
      "outputs": [
        {
          "output_type": "stream",
          "text": [
            "<class 'pandas.core.frame.DataFrame'>\n",
            "RangeIndex: 74645 entries, 0 to 74644\n",
            "Data columns (total 4 columns):\n",
            " #   Column     Non-Null Count  Dtype \n",
            "---  ------     --------------  ----- \n",
            " 0   device_id  74645 non-null  int64 \n",
            " 1   gender     74645 non-null  object\n",
            " 2   age        74645 non-null  int64 \n",
            " 3   group      74645 non-null  object\n",
            "dtypes: int64(2), object(2)\n",
            "memory usage: 2.3+ MB\n"
          ],
          "name": "stdout"
        }
      ]
    },
    {
      "cell_type": "markdown",
      "metadata": {
        "id": "JFPwAOM38ub3"
      },
      "source": [
        "The phone brand dataset is linking the device id with the phone brand and model. The device model will be used and grouped by phone brand to use it as one of the features. In this case and for further merging of the datasets the duplicates in phone brands have been dropped as it will increase the dataset making it unmanageable not adding information."
      ]
    },
    {
      "cell_type": "code",
      "metadata": {
        "colab": {
          "base_uri": "https://localhost:8080/"
        },
        "id": "G4RuH_-UPQeY",
        "outputId": "ba01a99e-9db9-4f35-d2d6-22623fe7eb5f"
      },
      "source": [
        "phone_brand_device_model.info()"
      ],
      "execution_count": 76,
      "outputs": [
        {
          "output_type": "stream",
          "text": [
            "<class 'pandas.core.frame.DataFrame'>\n",
            "RangeIndex: 187245 entries, 0 to 187244\n",
            "Data columns (total 3 columns):\n",
            " #   Column        Non-Null Count   Dtype \n",
            "---  ------        --------------   ----- \n",
            " 0   device_id     187245 non-null  int64 \n",
            " 1   phone_brand   187245 non-null  object\n",
            " 2   device_model  187245 non-null  object\n",
            "dtypes: int64(1), object(2)\n",
            "memory usage: 4.3+ MB\n"
          ],
          "name": "stdout"
        }
      ]
    },
    {
      "cell_type": "code",
      "metadata": {
        "id": "nqquS53KPUbl"
      },
      "source": [
        "# Get rid of duplicate device ids in phone brand device model\r\n",
        "phone_brand_device_model = phone_brand_device_model.drop_duplicates('device_id',keep='first')"
      ],
      "execution_count": 77,
      "outputs": []
    },
    {
      "cell_type": "code",
      "metadata": {
        "id": "0keJJh6Pa1Mf"
      },
      "source": [
        "#Merge the app_events and events to access app_ids.\r\n",
        "device_apps = (\r\n",
        "  app_events.merge(events, how = 'left', left_on = 'event_id', right_on = 'event_id')\r\n",
        "  # Drop event_id as it is not interesting\r\n",
        "  .drop(columns = 'event_id')\r\n",
        "  # Because the events correspond to more than just\r\n",
        "  # being installed, there are many duplicates\r\n",
        "  .drop_duplicates())"
      ],
      "execution_count": 78,
      "outputs": []
    },
    {
      "cell_type": "code",
      "metadata": {
        "colab": {
          "base_uri": "https://localhost:8080/"
        },
        "id": "4d5qXT0Sb1uk",
        "outputId": "e333510c-968d-40f3-a4d6-aee2d24b5f3e"
      },
      "source": [
        "device_apps.info()"
      ],
      "execution_count": 79,
      "outputs": [
        {
          "output_type": "stream",
          "text": [
            "<class 'pandas.core.frame.DataFrame'>\n",
            "Int64Index: 2840343 entries, 0 to 32472919\n",
            "Data columns (total 3 columns):\n",
            " #   Column     Dtype\n",
            "---  ------     -----\n",
            " 0   app_id     int64\n",
            " 1   is_active  int64\n",
            " 2   device_id  int64\n",
            "dtypes: int64(3)\n",
            "memory usage: 86.7 MB\n"
          ],
          "name": "stdout"
        }
      ]
    },
    {
      "cell_type": "code",
      "metadata": {
        "colab": {
          "base_uri": "https://localhost:8080/",
          "height": 195
        },
        "id": "EeP0U1sKcKMw",
        "outputId": "b19bbd42-6200-43d7-a40f-3429861b4ab6"
      },
      "source": [
        "device_apps.head()"
      ],
      "execution_count": 80,
      "outputs": [
        {
          "output_type": "execute_result",
          "data": {
            "text/html": [
              "<div>\n",
              "<style scoped>\n",
              "    .dataframe tbody tr th:only-of-type {\n",
              "        vertical-align: middle;\n",
              "    }\n",
              "\n",
              "    .dataframe tbody tr th {\n",
              "        vertical-align: top;\n",
              "    }\n",
              "\n",
              "    .dataframe thead th {\n",
              "        text-align: right;\n",
              "    }\n",
              "</style>\n",
              "<table border=\"1\" class=\"dataframe\">\n",
              "  <thead>\n",
              "    <tr style=\"text-align: right;\">\n",
              "      <th></th>\n",
              "      <th>app_id</th>\n",
              "      <th>is_active</th>\n",
              "      <th>device_id</th>\n",
              "    </tr>\n",
              "  </thead>\n",
              "  <tbody>\n",
              "    <tr>\n",
              "      <th>0</th>\n",
              "      <td>5927333115845830913</td>\n",
              "      <td>1</td>\n",
              "      <td>-6401643145415154744</td>\n",
              "    </tr>\n",
              "    <tr>\n",
              "      <th>1</th>\n",
              "      <td>-5720078949152207372</td>\n",
              "      <td>0</td>\n",
              "      <td>-6401643145415154744</td>\n",
              "    </tr>\n",
              "    <tr>\n",
              "      <th>2</th>\n",
              "      <td>-1633887856876571208</td>\n",
              "      <td>0</td>\n",
              "      <td>-6401643145415154744</td>\n",
              "    </tr>\n",
              "    <tr>\n",
              "      <th>3</th>\n",
              "      <td>-653184325010919369</td>\n",
              "      <td>1</td>\n",
              "      <td>-6401643145415154744</td>\n",
              "    </tr>\n",
              "    <tr>\n",
              "      <th>4</th>\n",
              "      <td>8693964245073640147</td>\n",
              "      <td>1</td>\n",
              "      <td>-6401643145415154744</td>\n",
              "    </tr>\n",
              "  </tbody>\n",
              "</table>\n",
              "</div>"
            ],
            "text/plain": [
              "                app_id  is_active            device_id\n",
              "0  5927333115845830913          1 -6401643145415154744\n",
              "1 -5720078949152207372          0 -6401643145415154744\n",
              "2 -1633887856876571208          0 -6401643145415154744\n",
              "3  -653184325010919369          1 -6401643145415154744\n",
              "4  8693964245073640147          1 -6401643145415154744"
            ]
          },
          "metadata": {
            "tags": []
          },
          "execution_count": 80
        }
      ]
    },
    {
      "cell_type": "markdown",
      "metadata": {
        "id": "3LPHgWGn9It7"
      },
      "source": [
        "In this case the information about events (usage of the phone) and app_events that identifies app ids is merged using as the merging column the events. As a result information about the device id the use of the app and the app id are in the same dataframe which allows further merging to arrive to the applabels and device brands. In this merging the duplicates have been left out to avoid oversizing the dataframe. From the information of this dataset there are 459k rows of data that match usage, device id to app id. The timestamp has been eliminated from the dataset as it does not add relevant information and there are data points missing."
      ]
    },
    {
      "cell_type": "code",
      "metadata": {
        "id": "IV3IuyKCmkFN"
      },
      "source": [
        "labels_apps = (\r\n",
        "    device_apps\r\n",
        "    \r\n",
        "     # Merge on event_id\r\n",
        "    .merge(app_labels, how = 'left', left_on = 'app_id', right_on = 'app_id')\r\n",
        "    \r\n",
        "     # event_id itself is not interesting\r\n",
        "    .drop('app_id', axis = 1)\r\n",
        "    \r\n",
        "     # Because the events correspond to more than just\r\n",
        "     # being installed, there are many duplicates\r\n",
        "    .drop_duplicates())"
      ],
      "execution_count": 81,
      "outputs": []
    },
    {
      "cell_type": "code",
      "metadata": {
        "id": "vw7f9gSGm6n3"
      },
      "source": [
        "#Clean the dataset removing empty cells from the data set\r\n",
        "labels_apps = labels_apps.dropna()\r\n",
        "\r\n",
        "#convert first or second to str or int\r\n",
        "labels_apps['device_id'] = labels_apps['device_id'].astype(int)\r\n",
        "\r\n",
        "#Merge the column back into the dataset\r\n",
        "gender_age_train['device_id'] = gender_age_train['device_id'].astype(int)"
      ],
      "execution_count": 82,
      "outputs": []
    },
    {
      "cell_type": "code",
      "metadata": {
        "colab": {
          "base_uri": "https://localhost:8080/"
        },
        "id": "opA7rVY-tlkN",
        "outputId": "392a2de2-c9ac-4d37-9798-c90e774a68e6"
      },
      "source": [
        "labels_apps.info()"
      ],
      "execution_count": 83,
      "outputs": [
        {
          "output_type": "stream",
          "text": [
            "<class 'pandas.core.frame.DataFrame'>\n",
            "Int64Index: 5977729 entries, 0 to 18279373\n",
            "Data columns (total 3 columns):\n",
            " #   Column     Dtype\n",
            "---  ------     -----\n",
            " 0   is_active  int64\n",
            " 1   device_id  int64\n",
            " 2   label_id   int64\n",
            "dtypes: int64(3)\n",
            "memory usage: 182.4 MB\n"
          ],
          "name": "stdout"
        }
      ]
    },
    {
      "cell_type": "code",
      "metadata": {
        "colab": {
          "base_uri": "https://localhost:8080/",
          "height": 195
        },
        "id": "o6aZ7bxgttUV",
        "outputId": "88be9963-d9fb-4efa-9b76-855a7a275364"
      },
      "source": [
        "labels_apps.head()"
      ],
      "execution_count": 84,
      "outputs": [
        {
          "output_type": "execute_result",
          "data": {
            "text/html": [
              "<div>\n",
              "<style scoped>\n",
              "    .dataframe tbody tr th:only-of-type {\n",
              "        vertical-align: middle;\n",
              "    }\n",
              "\n",
              "    .dataframe tbody tr th {\n",
              "        vertical-align: top;\n",
              "    }\n",
              "\n",
              "    .dataframe thead th {\n",
              "        text-align: right;\n",
              "    }\n",
              "</style>\n",
              "<table border=\"1\" class=\"dataframe\">\n",
              "  <thead>\n",
              "    <tr style=\"text-align: right;\">\n",
              "      <th></th>\n",
              "      <th>is_active</th>\n",
              "      <th>device_id</th>\n",
              "      <th>label_id</th>\n",
              "    </tr>\n",
              "  </thead>\n",
              "  <tbody>\n",
              "    <tr>\n",
              "      <th>0</th>\n",
              "      <td>1</td>\n",
              "      <td>-6401643145415154744</td>\n",
              "      <td>549</td>\n",
              "    </tr>\n",
              "    <tr>\n",
              "      <th>1</th>\n",
              "      <td>1</td>\n",
              "      <td>-6401643145415154744</td>\n",
              "      <td>710</td>\n",
              "    </tr>\n",
              "    <tr>\n",
              "      <th>2</th>\n",
              "      <td>1</td>\n",
              "      <td>-6401643145415154744</td>\n",
              "      <td>704</td>\n",
              "    </tr>\n",
              "    <tr>\n",
              "      <th>3</th>\n",
              "      <td>1</td>\n",
              "      <td>-6401643145415154744</td>\n",
              "      <td>548</td>\n",
              "    </tr>\n",
              "    <tr>\n",
              "      <th>4</th>\n",
              "      <td>1</td>\n",
              "      <td>-6401643145415154744</td>\n",
              "      <td>172</td>\n",
              "    </tr>\n",
              "  </tbody>\n",
              "</table>\n",
              "</div>"
            ],
            "text/plain": [
              "   is_active            device_id  label_id\n",
              "0          1 -6401643145415154744       549\n",
              "1          1 -6401643145415154744       710\n",
              "2          1 -6401643145415154744       704\n",
              "3          1 -6401643145415154744       548\n",
              "4          1 -6401643145415154744       172"
            ]
          },
          "metadata": {
            "tags": []
          },
          "execution_count": 84
        }
      ]
    },
    {
      "cell_type": "markdown",
      "metadata": {
        "id": "Ms5G9fUUaR4_"
      },
      "source": [
        "The dataset containing data about the usage of the apps, the activity, device id is linked with the dataset containing the device id and information about the gender, age and age group. The age groups used are the ones provided in the dataset and have not been changed.\r\n",
        "\r\n",
        "There are 12 groups that differentiate the age and gender. The groups roughly split the population in even groups and the distribution of data points for each group is shown in the following graph."
      ]
    },
    {
      "cell_type": "code",
      "metadata": {
        "id": "sRAY5yf0t7fi"
      },
      "source": [
        "#Merge the app_events and events to access app_ids.\r\n",
        "gender_labels_apps = (\r\n",
        "    labels_apps.merge(gender_age_train, how = 'left', left_on = 'device_id', right_on = 'device_id')\r\n",
        "   \r\n",
        "     # Because the events correspond to more than just\r\n",
        "     # being installed, there are many duplicates\r\n",
        "    .drop_duplicates())"
      ],
      "execution_count": 85,
      "outputs": []
    },
    {
      "cell_type": "code",
      "metadata": {
        "colab": {
          "base_uri": "https://localhost:8080/"
        },
        "id": "TV0qWA9pup6D",
        "outputId": "6f5fc62b-a945-48d4-b051-ba121c6c979d"
      },
      "source": [
        "gender_labels_apps.info()"
      ],
      "execution_count": 86,
      "outputs": [
        {
          "output_type": "stream",
          "text": [
            "<class 'pandas.core.frame.DataFrame'>\n",
            "Int64Index: 5977729 entries, 0 to 5977728\n",
            "Data columns (total 6 columns):\n",
            " #   Column     Dtype  \n",
            "---  ------     -----  \n",
            " 0   is_active  int64  \n",
            " 1   device_id  int64  \n",
            " 2   label_id   int64  \n",
            " 3   gender     object \n",
            " 4   age        float64\n",
            " 5   group      object \n",
            "dtypes: float64(1), int64(3), object(2)\n",
            "memory usage: 319.2+ MB\n"
          ],
          "name": "stdout"
        }
      ]
    },
    {
      "cell_type": "code",
      "metadata": {
        "colab": {
          "base_uri": "https://localhost:8080/"
        },
        "id": "TK00jiDelUfc",
        "outputId": "d97deadb-f87a-48c1-ff73-52448fb9f0ed"
      },
      "source": [
        "#Identify null values\r\n",
        "gender_labels_apps.isnull().sum()"
      ],
      "execution_count": 87,
      "outputs": [
        {
          "output_type": "execute_result",
          "data": {
            "text/plain": [
              "is_active          0\n",
              "device_id          0\n",
              "label_id           0\n",
              "gender       3663482\n",
              "age          3663482\n",
              "group        3663482\n",
              "dtype: int64"
            ]
          },
          "metadata": {
            "tags": []
          },
          "execution_count": 87
        }
      ]
    },
    {
      "cell_type": "code",
      "metadata": {
        "id": "aWmnXMRylILG"
      },
      "source": [
        "#Drop null values\r\n",
        "gender_labels_apps = gender_labels_apps.dropna()"
      ],
      "execution_count": 88,
      "outputs": []
    },
    {
      "cell_type": "code",
      "metadata": {
        "colab": {
          "base_uri": "https://localhost:8080/",
          "height": 402
        },
        "id": "ZoGLUMobloQX",
        "outputId": "e4b0fad1-02f1-4772-8b85-8b8b0a1da875"
      },
      "source": [
        "#Reset index in the new dataset\r\n",
        "gender_labels_apps.reset_index(drop= True)"
      ],
      "execution_count": 89,
      "outputs": [
        {
          "output_type": "execute_result",
          "data": {
            "text/html": [
              "<div>\n",
              "<style scoped>\n",
              "    .dataframe tbody tr th:only-of-type {\n",
              "        vertical-align: middle;\n",
              "    }\n",
              "\n",
              "    .dataframe tbody tr th {\n",
              "        vertical-align: top;\n",
              "    }\n",
              "\n",
              "    .dataframe thead th {\n",
              "        text-align: right;\n",
              "    }\n",
              "</style>\n",
              "<table border=\"1\" class=\"dataframe\">\n",
              "  <thead>\n",
              "    <tr style=\"text-align: right;\">\n",
              "      <th></th>\n",
              "      <th>is_active</th>\n",
              "      <th>device_id</th>\n",
              "      <th>label_id</th>\n",
              "      <th>gender</th>\n",
              "      <th>age</th>\n",
              "      <th>group</th>\n",
              "    </tr>\n",
              "  </thead>\n",
              "  <tbody>\n",
              "    <tr>\n",
              "      <th>0</th>\n",
              "      <td>1</td>\n",
              "      <td>1476664663289716375</td>\n",
              "      <td>549</td>\n",
              "      <td>M</td>\n",
              "      <td>19.0</td>\n",
              "      <td>M22-</td>\n",
              "    </tr>\n",
              "    <tr>\n",
              "      <th>1</th>\n",
              "      <td>1</td>\n",
              "      <td>1476664663289716375</td>\n",
              "      <td>721</td>\n",
              "      <td>M</td>\n",
              "      <td>19.0</td>\n",
              "      <td>M22-</td>\n",
              "    </tr>\n",
              "    <tr>\n",
              "      <th>2</th>\n",
              "      <td>1</td>\n",
              "      <td>1476664663289716375</td>\n",
              "      <td>704</td>\n",
              "      <td>M</td>\n",
              "      <td>19.0</td>\n",
              "      <td>M22-</td>\n",
              "    </tr>\n",
              "    <tr>\n",
              "      <th>3</th>\n",
              "      <td>1</td>\n",
              "      <td>1476664663289716375</td>\n",
              "      <td>302</td>\n",
              "      <td>M</td>\n",
              "      <td>19.0</td>\n",
              "      <td>M22-</td>\n",
              "    </tr>\n",
              "    <tr>\n",
              "      <th>4</th>\n",
              "      <td>1</td>\n",
              "      <td>1476664663289716375</td>\n",
              "      <td>303</td>\n",
              "      <td>M</td>\n",
              "      <td>19.0</td>\n",
              "      <td>M22-</td>\n",
              "    </tr>\n",
              "    <tr>\n",
              "      <th>...</th>\n",
              "      <td>...</td>\n",
              "      <td>...</td>\n",
              "      <td>...</td>\n",
              "      <td>...</td>\n",
              "      <td>...</td>\n",
              "      <td>...</td>\n",
              "    </tr>\n",
              "    <tr>\n",
              "      <th>2314242</th>\n",
              "      <td>1</td>\n",
              "      <td>-3073329096930708245</td>\n",
              "      <td>209</td>\n",
              "      <td>F</td>\n",
              "      <td>33.0</td>\n",
              "      <td>F33-42</td>\n",
              "    </tr>\n",
              "    <tr>\n",
              "      <th>2314243</th>\n",
              "      <td>1</td>\n",
              "      <td>-2180577908480078273</td>\n",
              "      <td>215</td>\n",
              "      <td>M</td>\n",
              "      <td>44.0</td>\n",
              "      <td>M39+</td>\n",
              "    </tr>\n",
              "    <tr>\n",
              "      <th>2314244</th>\n",
              "      <td>1</td>\n",
              "      <td>-2180577908480078273</td>\n",
              "      <td>1014</td>\n",
              "      <td>M</td>\n",
              "      <td>44.0</td>\n",
              "      <td>M39+</td>\n",
              "    </tr>\n",
              "    <tr>\n",
              "      <th>2314245</th>\n",
              "      <td>0</td>\n",
              "      <td>-2180577908480078273</td>\n",
              "      <td>706</td>\n",
              "      <td>M</td>\n",
              "      <td>44.0</td>\n",
              "      <td>M39+</td>\n",
              "    </tr>\n",
              "    <tr>\n",
              "      <th>2314246</th>\n",
              "      <td>0</td>\n",
              "      <td>-2180577908480078273</td>\n",
              "      <td>209</td>\n",
              "      <td>M</td>\n",
              "      <td>44.0</td>\n",
              "      <td>M39+</td>\n",
              "    </tr>\n",
              "  </tbody>\n",
              "</table>\n",
              "<p>2314247 rows × 6 columns</p>\n",
              "</div>"
            ],
            "text/plain": [
              "         is_active            device_id  label_id gender   age   group\n",
              "0                1  1476664663289716375       549      M  19.0    M22-\n",
              "1                1  1476664663289716375       721      M  19.0    M22-\n",
              "2                1  1476664663289716375       704      M  19.0    M22-\n",
              "3                1  1476664663289716375       302      M  19.0    M22-\n",
              "4                1  1476664663289716375       303      M  19.0    M22-\n",
              "...            ...                  ...       ...    ...   ...     ...\n",
              "2314242          1 -3073329096930708245       209      F  33.0  F33-42\n",
              "2314243          1 -2180577908480078273       215      M  44.0    M39+\n",
              "2314244          1 -2180577908480078273      1014      M  44.0    M39+\n",
              "2314245          0 -2180577908480078273       706      M  44.0    M39+\n",
              "2314246          0 -2180577908480078273       209      M  44.0    M39+\n",
              "\n",
              "[2314247 rows x 6 columns]"
            ]
          },
          "metadata": {
            "tags": []
          },
          "execution_count": 89
        }
      ]
    },
    {
      "cell_type": "markdown",
      "metadata": {
        "id": "-fH60RRhoOWR"
      },
      "source": [
        "###Exploratory Data Analysis (EDA)/ Data Visualization"
      ]
    },
    {
      "cell_type": "code",
      "metadata": {
        "colab": {
          "base_uri": "https://localhost:8080/",
          "height": 729
        },
        "id": "CjFHZGf4mPQI",
        "outputId": "1a6b35af-527d-4ebd-8cbc-ddd9c1afd797"
      },
      "source": [
        "#Plot the distribution of age in the dataset\r\n",
        "\r\n",
        "plt.figure(figsize=(18, 10))\r\n",
        "gender_labels_apps.age.hist(bins=50, grid = False)\r\n",
        "plt.title('Distribution of Age')\r\n",
        "plt.xlabel('Age')\r\n",
        "plt.ylabel('Frequency')\r\n",
        "plt.tight_layout()\r\n",
        "plt.show()"
      ],
      "execution_count": null,
      "outputs": [
        {
          "output_type": "display_data",
          "data": {
            "image/png": "[encoded data removed]",
            "text/plain": [
              "<Figure size 1296x720 with 1 Axes>"
            ]
          },
          "metadata": {
            "tags": [],
            "needs_background": "light"
          }
        }
      ]
    },
    {
      "cell_type": "markdown",
      "metadata": {
        "id": "I_sSxu4f9fQ8"
      },
      "source": [
        "Visual inspection of the distribution of data between ages show that the data is skewed to the right, showing that most of the data represents the age group between 20 and 35 years old. This corresponds to the grouping that has been done age-wise."
      ]
    },
    {
      "cell_type": "code",
      "metadata": {
        "colab": {
          "base_uri": "https://localhost:8080/",
          "height": 729
        },
        "id": "bqX8WatIpEws",
        "outputId": "934e04d0-38d9-4d01-93bf-00a7594e7c2d"
      },
      "source": [
        "#Plot installed vs active apps\r\n",
        "\r\n",
        "plt.figure(figsize=(18, 10))\r\n",
        "sns.set_style(\"white\")\r\n",
        "ax = sns.countplot(x=\"is_active\", data=gender_labels_apps, palette=\"Set3\")\r\n",
        "ax.set_title('Active vs Installed Apps')\r\n",
        "ax.set_ylabel('Frequency')\r\n",
        "ax.set_xticklabels(['Installed','Active'], fontsize=10)\r\n",
        "plt.tight_layout()\r\n",
        "plt.show()"
      ],
      "execution_count": null,
      "outputs": [
        {
          "output_type": "display_data",
          "data": {
            "image/png": "[encoded data removed]",
            "text/plain": [
              "<Figure size 1296x720 with 1 Axes>"
            ]
          },
          "metadata": {
            "tags": [],
            "needs_background": "light"
          }
        }
      ]
    },
    {
      "cell_type": "markdown",
      "metadata": {
        "id": "FseTnXjb93rf"
      },
      "source": [
        "In the Chinese market the number of apps that is actively used from the ones installed in the devices equate to roughly 50%."
      ]
    },
    {
      "cell_type": "markdown",
      "metadata": {
        "id": "Bybg5ZWhsD1m"
      },
      "source": [
        "Before adding the data for phone brands and models, a dictionary is taken from Kaggle to translate the brands from Chinese to English. Additionally, for those brands with no translation add “NoBrandXX” where XX for two digits. "
      ]
    },
    {
      "cell_type": "code",
      "metadata": {
        "id": "rTGNZkp1sKew"
      },
      "source": [
        "english_translation_phone_brands = {\"三星\": \"samsung\",\"天语\": \"Ktouch\", \"海信\": \"hisense\", \"联想\": \"lenovo\", \"欧比\": \"obi\",\r\n",
        "                                \"爱派尔\": \"ipair\", \"努比亚\": \"nubia\", \"优米\": \"youmi\", \"朵唯\": \"dowe\", \"黑米\": \"heymi\",\r\n",
        "                                \"锤子\": \"hammer\", \"酷比魔方\": \"koobee\", \"美图\": \"meitu\", \"尼比鲁\": \"nibilu\", \"一加\": \"oneplus\",\r\n",
        "                                \"优购\": \"yougo\", \"诺基亚\": \"nokia\", \"糖葫芦\": \"candy\", \"中国移动\": \"ccmc\", \"语信\": \"yuxin\",\r\n",
        "                                \"基伍\": \"kiwu\", \"青橙\": \"greeno\", \"华硕\": \"asus\", \"夏新\": \"panasonic\", \"维图\": \"weitu\",\r\n",
        "                                \"艾优尼\": \"aiyouni\", \"摩托罗拉\": \"moto\", \"乡米\": \"xiangmi\", \"米奇\": \"micky\", \"大可乐\": \"bigcola\",\r\n",
        "                                \"沃普丰\": \"wpf\", \"神舟\": \"hasse\", \"摩乐\": \"mole\", \"飞秒\": \"fs\", \"米歌\": \"mige\", \"富可视\": \"fks\",\r\n",
        "                                \"德赛\": \"desci\", \"梦米\": \"mengmi\", \"乐视\": \"lshi\", \"小杨树\": \"smallt\", \"纽曼\": \"newman\",\r\n",
        "                                \"邦华\": \"banghua\", \"E派\": \"epai\", \"易派\": \"epai\", \"普耐尔\": \"pner\", \"欧新\": \"ouxin\", \"西米\": \"ximi\",\r\n",
        "                                \"海尔\": \"haier\", \"波导\": \"bodao\", \"糯米\": \"nuomi\", \"唯米\": \"weimi\", \"酷珀\": \"kupo\", \"谷歌\": \"google\",\r\n",
        "                                \"昂达\": \"ada\", \"聆韵\": \"lingyun\", \"小米\": \"Xiaomi\", \"华为\": \"Huawei\", \"魅族\": \"Meizu\", \"中兴\": \"ZTE\",\r\n",
        "                                \"酷派\": \"Coolpad\", \"金立\": \"Gionee\", \"SUGAR\": \"SUGAR\", \"OPPO\": \"OPPO\", \"vivo\": \"vivo\", \"HTC\": \"HTC\",\r\n",
        "                                \"LG\": \"LG\", \"ZUK\": \"ZUK\", \"TCL\": \"TCL\", \"LOGO\": \"LOGO\", \"SUGAR\": \"SUGAR\", \"Lovme\": \"Lovme\",\r\n",
        "                                \"PPTV\": \"PPTV\", \"ZOYE\": \"ZOYE\", \"MIL\": \"MIL\", \"索尼\" : \"Sony\", \"欧博信\" : \"Opssom\", \"奇酷\" : \"Qiku\",\r\n",
        "                                \"酷比\" : \"CUBE\", \"康佳\" : \"Konka\", \"亿通\" : \"Yitong\", \"金星数码\" : \"JXD\", \"至尊宝\" : \"Monkey King\",\r\n",
        "                                \"百立丰\" : \"Hundred Li Feng\", \"贝尔丰\" : \"Bifer\", \"百加\" : \"Bacardi\", \"诺亚信\" : \"Noain\", \r\n",
        "                                \"广信\" : \"Kingsun\", \"世纪天元\" : \"Ctyon\", \"青葱\" : \"Cong\", \"果米\" : \"Taobao\", \"斐讯\" : \"Phicomm\",\r\n",
        "                                \"长虹\" : \"Changhong\", \"欧奇\" : \"Oukimobile\", \"先锋\" : \"XFPLAY\", \"台电\" : \"Teclast\", \"大Q\" : \"Daq\",\r\n",
        "                                \"蓝魔\" : \"Ramos\", \"奥克斯\" : \"AUX\", \"索尼\" : \"Sony\", \"欧博信\" : \"Opssom\", \"奇酷\" : \"Qiku\",\r\n",
        "                                \"酷比\" : \"CUBE\", \"康佳\" : \"Konka\", \"亿通\" : \"Yitong\", \"金星数码\" : \"JXD\", \"至尊宝\" : \"Monkey King\",\r\n",
        "                                \"百立丰\" : \"Hundred Li Feng\", \"贝尔丰\" : \"Bifer\", \"百加\" : \"Bacardi\", \"诺亚信\" : \"Noain\",\r\n",
        "                                \"广信\" : \"Kingsun\", \"世纪天元\" : \"Ctyon\", \"青葱\" : \"Cong\", \"果米\" : \"Taobao\", \"斐讯\" : \"Phicomm\",\r\n",
        "                                \"长虹\" : \"Changhong\", \"欧奇\" : \"Oukimobile\", \"先锋\" : \"XFPLAY\", \"台电\" : \"Teclast\", \"大Q\" : \"Daq\", \r\n",
        "                                \"蓝魔\" : \"Ramos\", \"奥克斯\" : \"AUX\", \"飞利浦\": \"Philips\", \"智镁\": \"Zhimei\", \"惠普\": \"HP\",\r\n",
        "                                \"原点\": \"Origin\", \"戴尔\": \"Dell\", \"碟米\": \"Diemi\", \"西门子\": \"Siemens\", \"亚马逊\": \"Amazon\",\r\n",
        "                                \"宏碁\": \"Acer\",\r\n",
        "                                '世纪星': \"NoBrand1\", '丰米': \"NoBrand2\", '优语':'NoBrand3', '凯利通': \"NoBrand4\", '唯比': \"NoBrand5\", '嘉源': \"NoBrand6\",\r\n",
        "                                 '大显': \"NoBrand7\", '天宏时代': \"NoBrand8\", '宝捷讯': 'NoBrand9','帷幄': 'NoBrand10', '德卡诺': 'NoBrand11',\r\n",
        "                                '恒宇丰': 'NoBrand12', '本为': 'NoBrand13', '极米': 'NoBrand14', '欧乐迪': 'NoBrand15', '欧乐酷': 'NoBrand16',\r\n",
        "                                '欧沃': 'NoBrand17', '瑞米': 'NoBrand18', '瑞高': 'NoBrand19', '白米': 'NoBrand20', '虾米': 'NoBrand21', '赛博宇华': 'NoBrand22',\r\n",
        "                                '首云': 'NoBrand23', '鲜米': 'NoBrand24'}"
      ],
      "execution_count": 90,
      "outputs": []
    },
    {
      "cell_type": "markdown",
      "metadata": {
        "id": "uh4f8SeVZNRX"
      },
      "source": [
        "The phone brands dataset has been added to the previous dataset containing all the information about apps, age, gender, etc. In the instances in which the device id does not appear the NaN results have been filled in with zeros. The devices that are duplicate have been deleted to make the dataset manageable from a computing perspective reducing from two million rows to 23k data rows. The device id and device model columns have been dropped as in further research they were not adding information for the feature generation. Additionally, a dummy variable has been created for the variable gender."
      ]
    },
    {
      "cell_type": "code",
      "metadata": {
        "id": "zIuWityGuga7"
      },
      "source": [
        "#Replace phone brands in Chinese with English\r\n",
        "phone_brand_device_model['phone_brand'].replace(english_translation_phone_brands, inplace=True)"
      ],
      "execution_count": 91,
      "outputs": []
    },
    {
      "cell_type": "code",
      "metadata": {
        "id": "nk81DPAYvhf2"
      },
      "source": [
        "#Drop the device model column as it is not adding information\r\n",
        "phone_brand_device_model = phone_brand_device_model.drop(columns='device_model')"
      ],
      "execution_count": 92,
      "outputs": []
    },
    {
      "cell_type": "code",
      "metadata": {
        "colab": {
          "base_uri": "https://localhost:8080/"
        },
        "id": "h1SiyTW6vwku",
        "outputId": "b3dfa86f-b3a1-41d2-8e31-230fdea3f72f"
      },
      "source": [
        "phone_brand_device_model.info()"
      ],
      "execution_count": 93,
      "outputs": [
        {
          "output_type": "stream",
          "text": [
            "<class 'pandas.core.frame.DataFrame'>\n",
            "Int64Index: 186716 entries, 0 to 187243\n",
            "Data columns (total 2 columns):\n",
            " #   Column       Non-Null Count   Dtype \n",
            "---  ------       --------------   ----- \n",
            " 0   device_id    186716 non-null  int64 \n",
            " 1   phone_brand  186716 non-null  object\n",
            "dtypes: int64(1), object(1)\n",
            "memory usage: 4.3+ MB\n"
          ],
          "name": "stdout"
        }
      ]
    },
    {
      "cell_type": "code",
      "metadata": {
        "colab": {
          "base_uri": "https://localhost:8080/",
          "height": 195
        },
        "id": "It7OZesevz2I",
        "outputId": "f557eed4-011f-4b40-9d45-fa4a7571b2a4"
      },
      "source": [
        "phone_brand_device_model.head()"
      ],
      "execution_count": 94,
      "outputs": [
        {
          "output_type": "execute_result",
          "data": {
            "text/html": [
              "<div>\n",
              "<style scoped>\n",
              "    .dataframe tbody tr th:only-of-type {\n",
              "        vertical-align: middle;\n",
              "    }\n",
              "\n",
              "    .dataframe tbody tr th {\n",
              "        vertical-align: top;\n",
              "    }\n",
              "\n",
              "    .dataframe thead th {\n",
              "        text-align: right;\n",
              "    }\n",
              "</style>\n",
              "<table border=\"1\" class=\"dataframe\">\n",
              "  <thead>\n",
              "    <tr style=\"text-align: right;\">\n",
              "      <th></th>\n",
              "      <th>device_id</th>\n",
              "      <th>phone_brand</th>\n",
              "    </tr>\n",
              "  </thead>\n",
              "  <tbody>\n",
              "    <tr>\n",
              "      <th>0</th>\n",
              "      <td>-8890648629457979026</td>\n",
              "      <td>Xiaomi</td>\n",
              "    </tr>\n",
              "    <tr>\n",
              "      <th>1</th>\n",
              "      <td>1277779817574759137</td>\n",
              "      <td>Xiaomi</td>\n",
              "    </tr>\n",
              "    <tr>\n",
              "      <th>2</th>\n",
              "      <td>5137427614288105724</td>\n",
              "      <td>samsung</td>\n",
              "    </tr>\n",
              "    <tr>\n",
              "      <th>3</th>\n",
              "      <td>3669464369358936369</td>\n",
              "      <td>SUGAR</td>\n",
              "    </tr>\n",
              "    <tr>\n",
              "      <th>4</th>\n",
              "      <td>-5019277647504317457</td>\n",
              "      <td>samsung</td>\n",
              "    </tr>\n",
              "  </tbody>\n",
              "</table>\n",
              "</div>"
            ],
            "text/plain": [
              "             device_id phone_brand\n",
              "0 -8890648629457979026      Xiaomi\n",
              "1  1277779817574759137      Xiaomi\n",
              "2  5137427614288105724     samsung\n",
              "3  3669464369358936369       SUGAR\n",
              "4 -5019277647504317457     samsung"
            ]
          },
          "metadata": {
            "tags": []
          },
          "execution_count": 94
        }
      ]
    },
    {
      "cell_type": "code",
      "metadata": {
        "colab": {
          "base_uri": "https://localhost:8080/",
          "height": 863
        },
        "id": "5yTbx9LQv1hm",
        "outputId": "b9c306fd-c53f-4183-a56b-4ef102a6a3f6"
      },
      "source": [
        "#Plot the distribution of phone brand\r\n",
        "\r\n",
        "plt.figure(figsize=(18, 10))\r\n",
        "phone_brand_device_model.phone_brand.value_counts().plot(kind='bar', grid=False)\r\n",
        "plt.title('Distribution of Phone Brand')\r\n",
        "plt.xlabel('Phone Brands')\r\n",
        "plt.ylabel('Frequency')\r\n",
        "plt.tight_layout()\r\n",
        "plt.show()"
      ],
      "execution_count": 30,
      "outputs": [
        {
          "output_type": "stream",
          "text": [
            "/usr/local/lib/python3.6/dist-packages/matplotlib/backends/backend_agg.py:214: RuntimeWarning: Glyph 20154 missing from current font.\n",
            "  font.set_text(s, 0.0, flags=flags)\n",
            "/usr/local/lib/python3.6/dist-packages/matplotlib/backends/backend_agg.py:214: RuntimeWarning: Glyph 26412 missing from current font.\n",
            "  font.set_text(s, 0.0, flags=flags)\n",
            "/usr/local/lib/python3.6/dist-packages/matplotlib/backends/backend_agg.py:183: RuntimeWarning: Glyph 20154 missing from current font.\n",
            "  font.set_text(s, 0, flags=flags)\n",
            "/usr/local/lib/python3.6/dist-packages/matplotlib/backends/backend_agg.py:183: RuntimeWarning: Glyph 26412 missing from current font.\n",
            "  font.set_text(s, 0, flags=flags)\n"
          ],
          "name": "stderr"
        },
        {
          "output_type": "display_data",
          "data": {
            "image/png": "[encoded data removed]",
            "text/plain": [
              "<Figure size 1296x720 with 1 Axes>"
            ]
          },
          "metadata": {
            "tags": [],
            "needs_background": "light"
          }
        }
      ]
    },
    {
      "cell_type": "markdown",
      "metadata": {
        "id": "-U-QTxSo-IPb"
      },
      "source": [
        "As it is shown in the graph above, eight brands represent 90% of the sample in the Chinese market."
      ]
    },
    {
      "cell_type": "markdown",
      "metadata": {
        "id": "WLogcgZlZrYG"
      },
      "source": [
        "Dummy variables are created based on the apps that are installed on the devices. In this case 484 additional columns are created with categorical data that counts the appearance of each app category in the device. To avoid the dummy variable trap whereby collinearity exists between the variables one redundant category is dropped when transforming the categorical variables into dummies."
      ]
    },
    {
      "cell_type": "code",
      "metadata": {
        "id": "yUYUjI0UwbFk"
      },
      "source": [
        "# Create dummy variables for gender_labels_apps\r\n",
        "df_dummies = pd.get_dummies(gender_labels_apps, columns = ['label_id'], sparse = True).reset_index(drop= True)"
      ],
      "execution_count": 95,
      "outputs": []
    },
    {
      "cell_type": "code",
      "metadata": {
        "colab": {
          "base_uri": "https://localhost:8080/",
          "height": 244
        },
        "id": "5cpoJXBr-Pbc",
        "outputId": "4d5d4bb3-8f61-4e64-9a3c-bf5efe25c9c9"
      },
      "source": [
        "df_dummies.head()"
      ],
      "execution_count": 96,
      "outputs": [
        {
          "output_type": "execute_result",
          "data": {
            "text/html": [
              "<div>\n",
              "<style scoped>\n",
              "    .dataframe tbody tr th:only-of-type {\n",
              "        vertical-align: middle;\n",
              "    }\n",
              "\n",
              "    .dataframe tbody tr th {\n",
              "        vertical-align: top;\n",
              "    }\n",
              "\n",
              "    .dataframe thead th {\n",
              "        text-align: right;\n",
              "    }\n",
              "</style>\n",
              "<table border=\"1\" class=\"dataframe\">\n",
              "  <thead>\n",
              "    <tr style=\"text-align: right;\">\n",
              "      <th></th>\n",
              "      <th>is_active</th>\n",
              "      <th>device_id</th>\n",
              "      <th>gender</th>\n",
              "      <th>age</th>\n",
              "      <th>group</th>\n",
              "      <th>label_id_2</th>\n",
              "      <th>label_id_4</th>\n",
              "      <th>label_id_6</th>\n",
              "      <th>label_id_7</th>\n",
              "      <th>label_id_8</th>\n",
              "      <th>label_id_9</th>\n",
              "      <th>label_id_10</th>\n",
              "      <th>label_id_11</th>\n",
              "      <th>label_id_12</th>\n",
              "      <th>label_id_13</th>\n",
              "      <th>label_id_14</th>\n",
              "      <th>label_id_16</th>\n",
              "      <th>label_id_17</th>\n",
              "      <th>label_id_18</th>\n",
              "      <th>label_id_19</th>\n",
              "      <th>label_id_20</th>\n",
              "      <th>label_id_21</th>\n",
              "      <th>label_id_22</th>\n",
              "      <th>label_id_23</th>\n",
              "      <th>label_id_24</th>\n",
              "      <th>label_id_25</th>\n",
              "      <th>label_id_26</th>\n",
              "      <th>label_id_27</th>\n",
              "      <th>label_id_29</th>\n",
              "      <th>label_id_30</th>\n",
              "      <th>label_id_31</th>\n",
              "      <th>label_id_32</th>\n",
              "      <th>label_id_33</th>\n",
              "      <th>label_id_35</th>\n",
              "      <th>label_id_36</th>\n",
              "      <th>label_id_37</th>\n",
              "      <th>label_id_38</th>\n",
              "      <th>label_id_39</th>\n",
              "      <th>label_id_40</th>\n",
              "      <th>label_id_41</th>\n",
              "      <th>...</th>\n",
              "      <th>label_id_973</th>\n",
              "      <th>label_id_974</th>\n",
              "      <th>label_id_975</th>\n",
              "      <th>label_id_976</th>\n",
              "      <th>label_id_977</th>\n",
              "      <th>label_id_978</th>\n",
              "      <th>label_id_980</th>\n",
              "      <th>label_id_982</th>\n",
              "      <th>label_id_983</th>\n",
              "      <th>label_id_984</th>\n",
              "      <th>label_id_986</th>\n",
              "      <th>label_id_987</th>\n",
              "      <th>label_id_988</th>\n",
              "      <th>label_id_990</th>\n",
              "      <th>label_id_991</th>\n",
              "      <th>label_id_993</th>\n",
              "      <th>label_id_995</th>\n",
              "      <th>label_id_996</th>\n",
              "      <th>label_id_997</th>\n",
              "      <th>label_id_998</th>\n",
              "      <th>label_id_999</th>\n",
              "      <th>label_id_1002</th>\n",
              "      <th>label_id_1003</th>\n",
              "      <th>label_id_1005</th>\n",
              "      <th>label_id_1006</th>\n",
              "      <th>label_id_1007</th>\n",
              "      <th>label_id_1008</th>\n",
              "      <th>label_id_1009</th>\n",
              "      <th>label_id_1010</th>\n",
              "      <th>label_id_1011</th>\n",
              "      <th>label_id_1012</th>\n",
              "      <th>label_id_1013</th>\n",
              "      <th>label_id_1014</th>\n",
              "      <th>label_id_1015</th>\n",
              "      <th>label_id_1016</th>\n",
              "      <th>label_id_1017</th>\n",
              "      <th>label_id_1018</th>\n",
              "      <th>label_id_1019</th>\n",
              "      <th>label_id_1020</th>\n",
              "      <th>label_id_1021</th>\n",
              "    </tr>\n",
              "  </thead>\n",
              "  <tbody>\n",
              "    <tr>\n",
              "      <th>0</th>\n",
              "      <td>1</td>\n",
              "      <td>1476664663289716375</td>\n",
              "      <td>M</td>\n",
              "      <td>19.0</td>\n",
              "      <td>M22-</td>\n",
              "      <td>0</td>\n",
              "      <td>0</td>\n",
              "      <td>0</td>\n",
              "      <td>0</td>\n",
              "      <td>0</td>\n",
              "      <td>0</td>\n",
              "      <td>0</td>\n",
              "      <td>0</td>\n",
              "      <td>0</td>\n",
              "      <td>0</td>\n",
              "      <td>0</td>\n",
              "      <td>0</td>\n",
              "      <td>0</td>\n",
              "      <td>0</td>\n",
              "      <td>0</td>\n",
              "      <td>0</td>\n",
              "      <td>0</td>\n",
              "      <td>0</td>\n",
              "      <td>0</td>\n",
              "      <td>0</td>\n",
              "      <td>0</td>\n",
              "      <td>0</td>\n",
              "      <td>0</td>\n",
              "      <td>0</td>\n",
              "      <td>0</td>\n",
              "      <td>0</td>\n",
              "      <td>0</td>\n",
              "      <td>0</td>\n",
              "      <td>0</td>\n",
              "      <td>0</td>\n",
              "      <td>0</td>\n",
              "      <td>0</td>\n",
              "      <td>0</td>\n",
              "      <td>0</td>\n",
              "      <td>0</td>\n",
              "      <td>...</td>\n",
              "      <td>0</td>\n",
              "      <td>0</td>\n",
              "      <td>0</td>\n",
              "      <td>0</td>\n",
              "      <td>0</td>\n",
              "      <td>0</td>\n",
              "      <td>0</td>\n",
              "      <td>0</td>\n",
              "      <td>0</td>\n",
              "      <td>0</td>\n",
              "      <td>0</td>\n",
              "      <td>0</td>\n",
              "      <td>0</td>\n",
              "      <td>0</td>\n",
              "      <td>0</td>\n",
              "      <td>0</td>\n",
              "      <td>0</td>\n",
              "      <td>0</td>\n",
              "      <td>0</td>\n",
              "      <td>0</td>\n",
              "      <td>0</td>\n",
              "      <td>0</td>\n",
              "      <td>0</td>\n",
              "      <td>0</td>\n",
              "      <td>0</td>\n",
              "      <td>0</td>\n",
              "      <td>0</td>\n",
              "      <td>0</td>\n",
              "      <td>0</td>\n",
              "      <td>0</td>\n",
              "      <td>0</td>\n",
              "      <td>0</td>\n",
              "      <td>0</td>\n",
              "      <td>0</td>\n",
              "      <td>0</td>\n",
              "      <td>0</td>\n",
              "      <td>0</td>\n",
              "      <td>0</td>\n",
              "      <td>0</td>\n",
              "      <td>0</td>\n",
              "    </tr>\n",
              "    <tr>\n",
              "      <th>1</th>\n",
              "      <td>1</td>\n",
              "      <td>1476664663289716375</td>\n",
              "      <td>M</td>\n",
              "      <td>19.0</td>\n",
              "      <td>M22-</td>\n",
              "      <td>0</td>\n",
              "      <td>0</td>\n",
              "      <td>0</td>\n",
              "      <td>0</td>\n",
              "      <td>0</td>\n",
              "      <td>0</td>\n",
              "      <td>0</td>\n",
              "      <td>0</td>\n",
              "      <td>0</td>\n",
              "      <td>0</td>\n",
              "      <td>0</td>\n",
              "      <td>0</td>\n",
              "      <td>0</td>\n",
              "      <td>0</td>\n",
              "      <td>0</td>\n",
              "      <td>0</td>\n",
              "      <td>0</td>\n",
              "      <td>0</td>\n",
              "      <td>0</td>\n",
              "      <td>0</td>\n",
              "      <td>0</td>\n",
              "      <td>0</td>\n",
              "      <td>0</td>\n",
              "      <td>0</td>\n",
              "      <td>0</td>\n",
              "      <td>0</td>\n",
              "      <td>0</td>\n",
              "      <td>0</td>\n",
              "      <td>0</td>\n",
              "      <td>0</td>\n",
              "      <td>0</td>\n",
              "      <td>0</td>\n",
              "      <td>0</td>\n",
              "      <td>0</td>\n",
              "      <td>0</td>\n",
              "      <td>...</td>\n",
              "      <td>0</td>\n",
              "      <td>0</td>\n",
              "      <td>0</td>\n",
              "      <td>0</td>\n",
              "      <td>0</td>\n",
              "      <td>0</td>\n",
              "      <td>0</td>\n",
              "      <td>0</td>\n",
              "      <td>0</td>\n",
              "      <td>0</td>\n",
              "      <td>0</td>\n",
              "      <td>0</td>\n",
              "      <td>0</td>\n",
              "      <td>0</td>\n",
              "      <td>0</td>\n",
              "      <td>0</td>\n",
              "      <td>0</td>\n",
              "      <td>0</td>\n",
              "      <td>0</td>\n",
              "      <td>0</td>\n",
              "      <td>0</td>\n",
              "      <td>0</td>\n",
              "      <td>0</td>\n",
              "      <td>0</td>\n",
              "      <td>0</td>\n",
              "      <td>0</td>\n",
              "      <td>0</td>\n",
              "      <td>0</td>\n",
              "      <td>0</td>\n",
              "      <td>0</td>\n",
              "      <td>0</td>\n",
              "      <td>0</td>\n",
              "      <td>0</td>\n",
              "      <td>0</td>\n",
              "      <td>0</td>\n",
              "      <td>0</td>\n",
              "      <td>0</td>\n",
              "      <td>0</td>\n",
              "      <td>0</td>\n",
              "      <td>0</td>\n",
              "    </tr>\n",
              "    <tr>\n",
              "      <th>2</th>\n",
              "      <td>1</td>\n",
              "      <td>1476664663289716375</td>\n",
              "      <td>M</td>\n",
              "      <td>19.0</td>\n",
              "      <td>M22-</td>\n",
              "      <td>0</td>\n",
              "      <td>0</td>\n",
              "      <td>0</td>\n",
              "      <td>0</td>\n",
              "      <td>0</td>\n",
              "      <td>0</td>\n",
              "      <td>0</td>\n",
              "      <td>0</td>\n",
              "      <td>0</td>\n",
              "      <td>0</td>\n",
              "      <td>0</td>\n",
              "      <td>0</td>\n",
              "      <td>0</td>\n",
              "      <td>0</td>\n",
              "      <td>0</td>\n",
              "      <td>0</td>\n",
              "      <td>0</td>\n",
              "      <td>0</td>\n",
              "      <td>0</td>\n",
              "      <td>0</td>\n",
              "      <td>0</td>\n",
              "      <td>0</td>\n",
              "      <td>0</td>\n",
              "      <td>0</td>\n",
              "      <td>0</td>\n",
              "      <td>0</td>\n",
              "      <td>0</td>\n",
              "      <td>0</td>\n",
              "      <td>0</td>\n",
              "      <td>0</td>\n",
              "      <td>0</td>\n",
              "      <td>0</td>\n",
              "      <td>0</td>\n",
              "      <td>0</td>\n",
              "      <td>0</td>\n",
              "      <td>...</td>\n",
              "      <td>0</td>\n",
              "      <td>0</td>\n",
              "      <td>0</td>\n",
              "      <td>0</td>\n",
              "      <td>0</td>\n",
              "      <td>0</td>\n",
              "      <td>0</td>\n",
              "      <td>0</td>\n",
              "      <td>0</td>\n",
              "      <td>0</td>\n",
              "      <td>0</td>\n",
              "      <td>0</td>\n",
              "      <td>0</td>\n",
              "      <td>0</td>\n",
              "      <td>0</td>\n",
              "      <td>0</td>\n",
              "      <td>0</td>\n",
              "      <td>0</td>\n",
              "      <td>0</td>\n",
              "      <td>0</td>\n",
              "      <td>0</td>\n",
              "      <td>0</td>\n",
              "      <td>0</td>\n",
              "      <td>0</td>\n",
              "      <td>0</td>\n",
              "      <td>0</td>\n",
              "      <td>0</td>\n",
              "      <td>0</td>\n",
              "      <td>0</td>\n",
              "      <td>0</td>\n",
              "      <td>0</td>\n",
              "      <td>0</td>\n",
              "      <td>0</td>\n",
              "      <td>0</td>\n",
              "      <td>0</td>\n",
              "      <td>0</td>\n",
              "      <td>0</td>\n",
              "      <td>0</td>\n",
              "      <td>0</td>\n",
              "      <td>0</td>\n",
              "    </tr>\n",
              "    <tr>\n",
              "      <th>3</th>\n",
              "      <td>1</td>\n",
              "      <td>1476664663289716375</td>\n",
              "      <td>M</td>\n",
              "      <td>19.0</td>\n",
              "      <td>M22-</td>\n",
              "      <td>0</td>\n",
              "      <td>0</td>\n",
              "      <td>0</td>\n",
              "      <td>0</td>\n",
              "      <td>0</td>\n",
              "      <td>0</td>\n",
              "      <td>0</td>\n",
              "      <td>0</td>\n",
              "      <td>0</td>\n",
              "      <td>0</td>\n",
              "      <td>0</td>\n",
              "      <td>0</td>\n",
              "      <td>0</td>\n",
              "      <td>0</td>\n",
              "      <td>0</td>\n",
              "      <td>0</td>\n",
              "      <td>0</td>\n",
              "      <td>0</td>\n",
              "      <td>0</td>\n",
              "      <td>0</td>\n",
              "      <td>0</td>\n",
              "      <td>0</td>\n",
              "      <td>0</td>\n",
              "      <td>0</td>\n",
              "      <td>0</td>\n",
              "      <td>0</td>\n",
              "      <td>0</td>\n",
              "      <td>0</td>\n",
              "      <td>0</td>\n",
              "      <td>0</td>\n",
              "      <td>0</td>\n",
              "      <td>0</td>\n",
              "      <td>0</td>\n",
              "      <td>0</td>\n",
              "      <td>0</td>\n",
              "      <td>...</td>\n",
              "      <td>0</td>\n",
              "      <td>0</td>\n",
              "      <td>0</td>\n",
              "      <td>0</td>\n",
              "      <td>0</td>\n",
              "      <td>0</td>\n",
              "      <td>0</td>\n",
              "      <td>0</td>\n",
              "      <td>0</td>\n",
              "      <td>0</td>\n",
              "      <td>0</td>\n",
              "      <td>0</td>\n",
              "      <td>0</td>\n",
              "      <td>0</td>\n",
              "      <td>0</td>\n",
              "      <td>0</td>\n",
              "      <td>0</td>\n",
              "      <td>0</td>\n",
              "      <td>0</td>\n",
              "      <td>0</td>\n",
              "      <td>0</td>\n",
              "      <td>0</td>\n",
              "      <td>0</td>\n",
              "      <td>0</td>\n",
              "      <td>0</td>\n",
              "      <td>0</td>\n",
              "      <td>0</td>\n",
              "      <td>0</td>\n",
              "      <td>0</td>\n",
              "      <td>0</td>\n",
              "      <td>0</td>\n",
              "      <td>0</td>\n",
              "      <td>0</td>\n",
              "      <td>0</td>\n",
              "      <td>0</td>\n",
              "      <td>0</td>\n",
              "      <td>0</td>\n",
              "      <td>0</td>\n",
              "      <td>0</td>\n",
              "      <td>0</td>\n",
              "    </tr>\n",
              "    <tr>\n",
              "      <th>4</th>\n",
              "      <td>1</td>\n",
              "      <td>1476664663289716375</td>\n",
              "      <td>M</td>\n",
              "      <td>19.0</td>\n",
              "      <td>M22-</td>\n",
              "      <td>0</td>\n",
              "      <td>0</td>\n",
              "      <td>0</td>\n",
              "      <td>0</td>\n",
              "      <td>0</td>\n",
              "      <td>0</td>\n",
              "      <td>0</td>\n",
              "      <td>0</td>\n",
              "      <td>0</td>\n",
              "      <td>0</td>\n",
              "      <td>0</td>\n",
              "      <td>0</td>\n",
              "      <td>0</td>\n",
              "      <td>0</td>\n",
              "      <td>0</td>\n",
              "      <td>0</td>\n",
              "      <td>0</td>\n",
              "      <td>0</td>\n",
              "      <td>0</td>\n",
              "      <td>0</td>\n",
              "      <td>0</td>\n",
              "      <td>0</td>\n",
              "      <td>0</td>\n",
              "      <td>0</td>\n",
              "      <td>0</td>\n",
              "      <td>0</td>\n",
              "      <td>0</td>\n",
              "      <td>0</td>\n",
              "      <td>0</td>\n",
              "      <td>0</td>\n",
              "      <td>0</td>\n",
              "      <td>0</td>\n",
              "      <td>0</td>\n",
              "      <td>0</td>\n",
              "      <td>0</td>\n",
              "      <td>...</td>\n",
              "      <td>0</td>\n",
              "      <td>0</td>\n",
              "      <td>0</td>\n",
              "      <td>0</td>\n",
              "      <td>0</td>\n",
              "      <td>0</td>\n",
              "      <td>0</td>\n",
              "      <td>0</td>\n",
              "      <td>0</td>\n",
              "      <td>0</td>\n",
              "      <td>0</td>\n",
              "      <td>0</td>\n",
              "      <td>0</td>\n",
              "      <td>0</td>\n",
              "      <td>0</td>\n",
              "      <td>0</td>\n",
              "      <td>0</td>\n",
              "      <td>0</td>\n",
              "      <td>0</td>\n",
              "      <td>0</td>\n",
              "      <td>0</td>\n",
              "      <td>0</td>\n",
              "      <td>0</td>\n",
              "      <td>0</td>\n",
              "      <td>0</td>\n",
              "      <td>0</td>\n",
              "      <td>0</td>\n",
              "      <td>0</td>\n",
              "      <td>0</td>\n",
              "      <td>0</td>\n",
              "      <td>0</td>\n",
              "      <td>0</td>\n",
              "      <td>0</td>\n",
              "      <td>0</td>\n",
              "      <td>0</td>\n",
              "      <td>0</td>\n",
              "      <td>0</td>\n",
              "      <td>0</td>\n",
              "      <td>0</td>\n",
              "      <td>0</td>\n",
              "    </tr>\n",
              "  </tbody>\n",
              "</table>\n",
              "<p>5 rows × 490 columns</p>\n",
              "</div>"
            ],
            "text/plain": [
              "   is_active            device_id  ... label_id_1020  label_id_1021\n",
              "0          1  1476664663289716375  ...             0              0\n",
              "1          1  1476664663289716375  ...             0              0\n",
              "2          1  1476664663289716375  ...             0              0\n",
              "3          1  1476664663289716375  ...             0              0\n",
              "4          1  1476664663289716375  ...             0              0\n",
              "\n",
              "[5 rows x 490 columns]"
            ]
          },
          "metadata": {
            "tags": []
          },
          "execution_count": 96
        }
      ]
    },
    {
      "cell_type": "code",
      "metadata": {
        "id": "dGwmWGE2-Zp9"
      },
      "source": [
        "# Create dummy variables for gender_labels_apps\r\n",
        "phone_brand_dummies = pd.get_dummies(phone_brand_device_model, columns = ['phone_brand'], sparse = True).reset_index(drop= True)"
      ],
      "execution_count": 97,
      "outputs": []
    },
    {
      "cell_type": "code",
      "metadata": {
        "id": "wxWR46hZw1dH"
      },
      "source": [
        "#Create the final dataset\r\n",
        "#Merge the demographic dataset with the phone dataset\r\n",
        "df = (\r\n",
        "    df_dummies\r\n",
        "    \r\n",
        "     # Merge on event_id\r\n",
        "    .merge(phone_brand_dummies, how = 'left', left_on = 'device_id', right_on = 'device_id')\r\n",
        "    \r\n",
        "     # event_id itself is not interesting\r\n",
        "    .fillna(0))"
      ],
      "execution_count": 98,
      "outputs": []
    },
    {
      "cell_type": "code",
      "metadata": {
        "colab": {
          "base_uri": "https://localhost:8080/"
        },
        "id": "lvGmr_yGyLWq",
        "outputId": "a4fac0eb-5d04-422c-fe45-69f096c291a8"
      },
      "source": [
        "df.info()"
      ],
      "execution_count": 99,
      "outputs": [
        {
          "output_type": "stream",
          "text": [
            "<class 'pandas.core.frame.DataFrame'>\n",
            "Int64Index: 2314247 entries, 0 to 2314246\n",
            "Columns: 620 entries, is_active to phone_brand_yuxin\n",
            "dtypes: Sparse[int64, 0](615), float64(1), int64(2), object(2)\n",
            "memory usage: 158.9+ MB\n"
          ],
          "name": "stdout"
        }
      ]
    },
    {
      "cell_type": "code",
      "metadata": {
        "id": "H1Nb6hO3yMeg"
      },
      "source": [
        "#Drop from the final dataset duplicates for the devices keeping the first one\r\n",
        "df = df.drop_duplicates('device_id',keep= 'first').reset_index(drop=True)"
      ],
      "execution_count": 100,
      "outputs": []
    },
    {
      "cell_type": "code",
      "metadata": {
        "colab": {
          "base_uri": "https://localhost:8080/"
        },
        "id": "5Pbb0Ilm0AP2",
        "outputId": "40576bc2-3730-467f-df5b-0b0082bb82fa"
      },
      "source": [
        "df.info()"
      ],
      "execution_count": 101,
      "outputs": [
        {
          "output_type": "stream",
          "text": [
            "<class 'pandas.core.frame.DataFrame'>\n",
            "RangeIndex: 23290 entries, 0 to 23289\n",
            "Columns: 620 entries, is_active to phone_brand_yuxin\n",
            "dtypes: Sparse[int64, 0](615), float64(1), int64(2), object(2)\n",
            "memory usage: 1.4+ MB\n"
          ],
          "name": "stdout"
        }
      ]
    },
    {
      "cell_type": "code",
      "metadata": {
        "colab": {
          "base_uri": "https://localhost:8080/",
          "height": 278
        },
        "id": "rNsNtqmR0BPQ",
        "outputId": "768a4ac1-a651-4641-afe0-3e243f675075"
      },
      "source": [
        "df.head()"
      ],
      "execution_count": 102,
      "outputs": [
        {
          "output_type": "execute_result",
          "data": {
            "text/html": [
              "<div>\n",
              "<style scoped>\n",
              "    .dataframe tbody tr th:only-of-type {\n",
              "        vertical-align: middle;\n",
              "    }\n",
              "\n",
              "    .dataframe tbody tr th {\n",
              "        vertical-align: top;\n",
              "    }\n",
              "\n",
              "    .dataframe thead th {\n",
              "        text-align: right;\n",
              "    }\n",
              "</style>\n",
              "<table border=\"1\" class=\"dataframe\">\n",
              "  <thead>\n",
              "    <tr style=\"text-align: right;\">\n",
              "      <th></th>\n",
              "      <th>is_active</th>\n",
              "      <th>device_id</th>\n",
              "      <th>gender</th>\n",
              "      <th>age</th>\n",
              "      <th>group</th>\n",
              "      <th>label_id_2</th>\n",
              "      <th>label_id_4</th>\n",
              "      <th>label_id_6</th>\n",
              "      <th>label_id_7</th>\n",
              "      <th>label_id_8</th>\n",
              "      <th>label_id_9</th>\n",
              "      <th>label_id_10</th>\n",
              "      <th>label_id_11</th>\n",
              "      <th>label_id_12</th>\n",
              "      <th>label_id_13</th>\n",
              "      <th>label_id_14</th>\n",
              "      <th>label_id_16</th>\n",
              "      <th>label_id_17</th>\n",
              "      <th>label_id_18</th>\n",
              "      <th>label_id_19</th>\n",
              "      <th>label_id_20</th>\n",
              "      <th>label_id_21</th>\n",
              "      <th>label_id_22</th>\n",
              "      <th>label_id_23</th>\n",
              "      <th>label_id_24</th>\n",
              "      <th>label_id_25</th>\n",
              "      <th>label_id_26</th>\n",
              "      <th>label_id_27</th>\n",
              "      <th>label_id_29</th>\n",
              "      <th>label_id_30</th>\n",
              "      <th>label_id_31</th>\n",
              "      <th>label_id_32</th>\n",
              "      <th>label_id_33</th>\n",
              "      <th>label_id_35</th>\n",
              "      <th>label_id_36</th>\n",
              "      <th>label_id_37</th>\n",
              "      <th>label_id_38</th>\n",
              "      <th>label_id_39</th>\n",
              "      <th>label_id_40</th>\n",
              "      <th>label_id_41</th>\n",
              "      <th>...</th>\n",
              "      <th>phone_brand_greeno</th>\n",
              "      <th>phone_brand_haier</th>\n",
              "      <th>phone_brand_hammer</th>\n",
              "      <th>phone_brand_hasse</th>\n",
              "      <th>phone_brand_heymi</th>\n",
              "      <th>phone_brand_hisense</th>\n",
              "      <th>phone_brand_ipair</th>\n",
              "      <th>phone_brand_kiwu</th>\n",
              "      <th>phone_brand_koobee</th>\n",
              "      <th>phone_brand_kupo</th>\n",
              "      <th>phone_brand_lenovo</th>\n",
              "      <th>phone_brand_lingyun</th>\n",
              "      <th>phone_brand_lshi</th>\n",
              "      <th>phone_brand_meitu</th>\n",
              "      <th>phone_brand_mengmi</th>\n",
              "      <th>phone_brand_micky</th>\n",
              "      <th>phone_brand_mige</th>\n",
              "      <th>phone_brand_mole</th>\n",
              "      <th>phone_brand_moto</th>\n",
              "      <th>phone_brand_newman</th>\n",
              "      <th>phone_brand_nibilu</th>\n",
              "      <th>phone_brand_nokia</th>\n",
              "      <th>phone_brand_nubia</th>\n",
              "      <th>phone_brand_nuomi</th>\n",
              "      <th>phone_brand_obi</th>\n",
              "      <th>phone_brand_oneplus</th>\n",
              "      <th>phone_brand_ouxin</th>\n",
              "      <th>phone_brand_panasonic</th>\n",
              "      <th>phone_brand_pner</th>\n",
              "      <th>phone_brand_samsung</th>\n",
              "      <th>phone_brand_smallt</th>\n",
              "      <th>phone_brand_vivo</th>\n",
              "      <th>phone_brand_weimi</th>\n",
              "      <th>phone_brand_weitu</th>\n",
              "      <th>phone_brand_wpf</th>\n",
              "      <th>phone_brand_xiangmi</th>\n",
              "      <th>phone_brand_ximi</th>\n",
              "      <th>phone_brand_yougo</th>\n",
              "      <th>phone_brand_youmi</th>\n",
              "      <th>phone_brand_yuxin</th>\n",
              "    </tr>\n",
              "  </thead>\n",
              "  <tbody>\n",
              "    <tr>\n",
              "      <th>0</th>\n",
              "      <td>1</td>\n",
              "      <td>1476664663289716375</td>\n",
              "      <td>M</td>\n",
              "      <td>19.0</td>\n",
              "      <td>M22-</td>\n",
              "      <td>0</td>\n",
              "      <td>0</td>\n",
              "      <td>0</td>\n",
              "      <td>0</td>\n",
              "      <td>0</td>\n",
              "      <td>0</td>\n",
              "      <td>0</td>\n",
              "      <td>0</td>\n",
              "      <td>0</td>\n",
              "      <td>0</td>\n",
              "      <td>0</td>\n",
              "      <td>0</td>\n",
              "      <td>0</td>\n",
              "      <td>0</td>\n",
              "      <td>0</td>\n",
              "      <td>0</td>\n",
              "      <td>0</td>\n",
              "      <td>0</td>\n",
              "      <td>0</td>\n",
              "      <td>0</td>\n",
              "      <td>0</td>\n",
              "      <td>0</td>\n",
              "      <td>0</td>\n",
              "      <td>0</td>\n",
              "      <td>0</td>\n",
              "      <td>0</td>\n",
              "      <td>0</td>\n",
              "      <td>0</td>\n",
              "      <td>0</td>\n",
              "      <td>0</td>\n",
              "      <td>0</td>\n",
              "      <td>0</td>\n",
              "      <td>0</td>\n",
              "      <td>0</td>\n",
              "      <td>0</td>\n",
              "      <td>...</td>\n",
              "      <td>0</td>\n",
              "      <td>0</td>\n",
              "      <td>0</td>\n",
              "      <td>0</td>\n",
              "      <td>0</td>\n",
              "      <td>0</td>\n",
              "      <td>0</td>\n",
              "      <td>0</td>\n",
              "      <td>0</td>\n",
              "      <td>0</td>\n",
              "      <td>0</td>\n",
              "      <td>0</td>\n",
              "      <td>0</td>\n",
              "      <td>0</td>\n",
              "      <td>0</td>\n",
              "      <td>0</td>\n",
              "      <td>0</td>\n",
              "      <td>0</td>\n",
              "      <td>0</td>\n",
              "      <td>0</td>\n",
              "      <td>0</td>\n",
              "      <td>0</td>\n",
              "      <td>0</td>\n",
              "      <td>0</td>\n",
              "      <td>0</td>\n",
              "      <td>0</td>\n",
              "      <td>0</td>\n",
              "      <td>0</td>\n",
              "      <td>0</td>\n",
              "      <td>0</td>\n",
              "      <td>0</td>\n",
              "      <td>0</td>\n",
              "      <td>0</td>\n",
              "      <td>0</td>\n",
              "      <td>0</td>\n",
              "      <td>0</td>\n",
              "      <td>0</td>\n",
              "      <td>0</td>\n",
              "      <td>0</td>\n",
              "      <td>0</td>\n",
              "    </tr>\n",
              "    <tr>\n",
              "      <th>1</th>\n",
              "      <td>1</td>\n",
              "      <td>7166563712658305181</td>\n",
              "      <td>M</td>\n",
              "      <td>60.0</td>\n",
              "      <td>M39+</td>\n",
              "      <td>0</td>\n",
              "      <td>0</td>\n",
              "      <td>0</td>\n",
              "      <td>0</td>\n",
              "      <td>0</td>\n",
              "      <td>0</td>\n",
              "      <td>0</td>\n",
              "      <td>0</td>\n",
              "      <td>0</td>\n",
              "      <td>0</td>\n",
              "      <td>0</td>\n",
              "      <td>0</td>\n",
              "      <td>0</td>\n",
              "      <td>0</td>\n",
              "      <td>0</td>\n",
              "      <td>0</td>\n",
              "      <td>0</td>\n",
              "      <td>0</td>\n",
              "      <td>0</td>\n",
              "      <td>0</td>\n",
              "      <td>0</td>\n",
              "      <td>0</td>\n",
              "      <td>0</td>\n",
              "      <td>0</td>\n",
              "      <td>0</td>\n",
              "      <td>0</td>\n",
              "      <td>0</td>\n",
              "      <td>0</td>\n",
              "      <td>0</td>\n",
              "      <td>0</td>\n",
              "      <td>0</td>\n",
              "      <td>0</td>\n",
              "      <td>0</td>\n",
              "      <td>0</td>\n",
              "      <td>0</td>\n",
              "      <td>...</td>\n",
              "      <td>0</td>\n",
              "      <td>0</td>\n",
              "      <td>0</td>\n",
              "      <td>0</td>\n",
              "      <td>0</td>\n",
              "      <td>0</td>\n",
              "      <td>0</td>\n",
              "      <td>0</td>\n",
              "      <td>0</td>\n",
              "      <td>0</td>\n",
              "      <td>0</td>\n",
              "      <td>0</td>\n",
              "      <td>0</td>\n",
              "      <td>0</td>\n",
              "      <td>0</td>\n",
              "      <td>0</td>\n",
              "      <td>0</td>\n",
              "      <td>0</td>\n",
              "      <td>0</td>\n",
              "      <td>0</td>\n",
              "      <td>0</td>\n",
              "      <td>0</td>\n",
              "      <td>0</td>\n",
              "      <td>0</td>\n",
              "      <td>0</td>\n",
              "      <td>0</td>\n",
              "      <td>0</td>\n",
              "      <td>0</td>\n",
              "      <td>0</td>\n",
              "      <td>0</td>\n",
              "      <td>0</td>\n",
              "      <td>0</td>\n",
              "      <td>0</td>\n",
              "      <td>0</td>\n",
              "      <td>0</td>\n",
              "      <td>0</td>\n",
              "      <td>0</td>\n",
              "      <td>0</td>\n",
              "      <td>0</td>\n",
              "      <td>0</td>\n",
              "    </tr>\n",
              "    <tr>\n",
              "      <th>2</th>\n",
              "      <td>1</td>\n",
              "      <td>-3449419341168524142</td>\n",
              "      <td>M</td>\n",
              "      <td>28.0</td>\n",
              "      <td>M27-28</td>\n",
              "      <td>0</td>\n",
              "      <td>0</td>\n",
              "      <td>0</td>\n",
              "      <td>0</td>\n",
              "      <td>0</td>\n",
              "      <td>0</td>\n",
              "      <td>0</td>\n",
              "      <td>0</td>\n",
              "      <td>0</td>\n",
              "      <td>0</td>\n",
              "      <td>0</td>\n",
              "      <td>0</td>\n",
              "      <td>0</td>\n",
              "      <td>0</td>\n",
              "      <td>0</td>\n",
              "      <td>0</td>\n",
              "      <td>0</td>\n",
              "      <td>0</td>\n",
              "      <td>0</td>\n",
              "      <td>0</td>\n",
              "      <td>0</td>\n",
              "      <td>0</td>\n",
              "      <td>0</td>\n",
              "      <td>0</td>\n",
              "      <td>0</td>\n",
              "      <td>0</td>\n",
              "      <td>0</td>\n",
              "      <td>0</td>\n",
              "      <td>0</td>\n",
              "      <td>0</td>\n",
              "      <td>0</td>\n",
              "      <td>0</td>\n",
              "      <td>0</td>\n",
              "      <td>0</td>\n",
              "      <td>0</td>\n",
              "      <td>...</td>\n",
              "      <td>0</td>\n",
              "      <td>0</td>\n",
              "      <td>0</td>\n",
              "      <td>0</td>\n",
              "      <td>0</td>\n",
              "      <td>0</td>\n",
              "      <td>0</td>\n",
              "      <td>0</td>\n",
              "      <td>0</td>\n",
              "      <td>0</td>\n",
              "      <td>0</td>\n",
              "      <td>0</td>\n",
              "      <td>0</td>\n",
              "      <td>0</td>\n",
              "      <td>0</td>\n",
              "      <td>0</td>\n",
              "      <td>0</td>\n",
              "      <td>0</td>\n",
              "      <td>0</td>\n",
              "      <td>0</td>\n",
              "      <td>0</td>\n",
              "      <td>0</td>\n",
              "      <td>0</td>\n",
              "      <td>0</td>\n",
              "      <td>0</td>\n",
              "      <td>0</td>\n",
              "      <td>0</td>\n",
              "      <td>0</td>\n",
              "      <td>0</td>\n",
              "      <td>0</td>\n",
              "      <td>0</td>\n",
              "      <td>0</td>\n",
              "      <td>0</td>\n",
              "      <td>0</td>\n",
              "      <td>0</td>\n",
              "      <td>0</td>\n",
              "      <td>0</td>\n",
              "      <td>0</td>\n",
              "      <td>0</td>\n",
              "      <td>0</td>\n",
              "    </tr>\n",
              "    <tr>\n",
              "      <th>3</th>\n",
              "      <td>1</td>\n",
              "      <td>-6542093539413689868</td>\n",
              "      <td>M</td>\n",
              "      <td>26.0</td>\n",
              "      <td>M23-26</td>\n",
              "      <td>0</td>\n",
              "      <td>0</td>\n",
              "      <td>0</td>\n",
              "      <td>0</td>\n",
              "      <td>0</td>\n",
              "      <td>0</td>\n",
              "      <td>0</td>\n",
              "      <td>0</td>\n",
              "      <td>0</td>\n",
              "      <td>0</td>\n",
              "      <td>0</td>\n",
              "      <td>0</td>\n",
              "      <td>0</td>\n",
              "      <td>0</td>\n",
              "      <td>0</td>\n",
              "      <td>0</td>\n",
              "      <td>0</td>\n",
              "      <td>0</td>\n",
              "      <td>0</td>\n",
              "      <td>0</td>\n",
              "      <td>0</td>\n",
              "      <td>0</td>\n",
              "      <td>0</td>\n",
              "      <td>0</td>\n",
              "      <td>0</td>\n",
              "      <td>0</td>\n",
              "      <td>0</td>\n",
              "      <td>0</td>\n",
              "      <td>0</td>\n",
              "      <td>0</td>\n",
              "      <td>0</td>\n",
              "      <td>0</td>\n",
              "      <td>0</td>\n",
              "      <td>0</td>\n",
              "      <td>0</td>\n",
              "      <td>...</td>\n",
              "      <td>0</td>\n",
              "      <td>0</td>\n",
              "      <td>0</td>\n",
              "      <td>0</td>\n",
              "      <td>0</td>\n",
              "      <td>0</td>\n",
              "      <td>0</td>\n",
              "      <td>0</td>\n",
              "      <td>0</td>\n",
              "      <td>0</td>\n",
              "      <td>0</td>\n",
              "      <td>0</td>\n",
              "      <td>0</td>\n",
              "      <td>0</td>\n",
              "      <td>0</td>\n",
              "      <td>0</td>\n",
              "      <td>0</td>\n",
              "      <td>0</td>\n",
              "      <td>0</td>\n",
              "      <td>0</td>\n",
              "      <td>0</td>\n",
              "      <td>0</td>\n",
              "      <td>0</td>\n",
              "      <td>0</td>\n",
              "      <td>0</td>\n",
              "      <td>0</td>\n",
              "      <td>0</td>\n",
              "      <td>0</td>\n",
              "      <td>0</td>\n",
              "      <td>0</td>\n",
              "      <td>0</td>\n",
              "      <td>0</td>\n",
              "      <td>0</td>\n",
              "      <td>0</td>\n",
              "      <td>0</td>\n",
              "      <td>0</td>\n",
              "      <td>0</td>\n",
              "      <td>0</td>\n",
              "      <td>0</td>\n",
              "      <td>0</td>\n",
              "    </tr>\n",
              "    <tr>\n",
              "      <th>4</th>\n",
              "      <td>1</td>\n",
              "      <td>-5638521260975573107</td>\n",
              "      <td>M</td>\n",
              "      <td>22.0</td>\n",
              "      <td>M22-</td>\n",
              "      <td>0</td>\n",
              "      <td>0</td>\n",
              "      <td>0</td>\n",
              "      <td>0</td>\n",
              "      <td>0</td>\n",
              "      <td>0</td>\n",
              "      <td>0</td>\n",
              "      <td>0</td>\n",
              "      <td>0</td>\n",
              "      <td>0</td>\n",
              "      <td>0</td>\n",
              "      <td>0</td>\n",
              "      <td>0</td>\n",
              "      <td>0</td>\n",
              "      <td>0</td>\n",
              "      <td>0</td>\n",
              "      <td>0</td>\n",
              "      <td>0</td>\n",
              "      <td>0</td>\n",
              "      <td>0</td>\n",
              "      <td>0</td>\n",
              "      <td>0</td>\n",
              "      <td>0</td>\n",
              "      <td>0</td>\n",
              "      <td>0</td>\n",
              "      <td>0</td>\n",
              "      <td>0</td>\n",
              "      <td>0</td>\n",
              "      <td>0</td>\n",
              "      <td>0</td>\n",
              "      <td>0</td>\n",
              "      <td>0</td>\n",
              "      <td>0</td>\n",
              "      <td>0</td>\n",
              "      <td>0</td>\n",
              "      <td>...</td>\n",
              "      <td>0</td>\n",
              "      <td>0</td>\n",
              "      <td>0</td>\n",
              "      <td>0</td>\n",
              "      <td>0</td>\n",
              "      <td>0</td>\n",
              "      <td>0</td>\n",
              "      <td>0</td>\n",
              "      <td>0</td>\n",
              "      <td>0</td>\n",
              "      <td>0</td>\n",
              "      <td>0</td>\n",
              "      <td>0</td>\n",
              "      <td>0</td>\n",
              "      <td>0</td>\n",
              "      <td>0</td>\n",
              "      <td>0</td>\n",
              "      <td>0</td>\n",
              "      <td>0</td>\n",
              "      <td>0</td>\n",
              "      <td>0</td>\n",
              "      <td>0</td>\n",
              "      <td>0</td>\n",
              "      <td>0</td>\n",
              "      <td>0</td>\n",
              "      <td>0</td>\n",
              "      <td>0</td>\n",
              "      <td>0</td>\n",
              "      <td>0</td>\n",
              "      <td>0</td>\n",
              "      <td>0</td>\n",
              "      <td>0</td>\n",
              "      <td>0</td>\n",
              "      <td>0</td>\n",
              "      <td>0</td>\n",
              "      <td>0</td>\n",
              "      <td>0</td>\n",
              "      <td>0</td>\n",
              "      <td>0</td>\n",
              "      <td>0</td>\n",
              "    </tr>\n",
              "  </tbody>\n",
              "</table>\n",
              "<p>5 rows × 620 columns</p>\n",
              "</div>"
            ],
            "text/plain": [
              "   is_active            device_id  ... phone_brand_youmi  phone_brand_yuxin\n",
              "0          1  1476664663289716375  ...                 0                  0\n",
              "1          1  7166563712658305181  ...                 0                  0\n",
              "2          1 -3449419341168524142  ...                 0                  0\n",
              "3          1 -6542093539413689868  ...                 0                  0\n",
              "4          1 -5638521260975573107  ...                 0                  0\n",
              "\n",
              "[5 rows x 620 columns]"
            ]
          },
          "metadata": {
            "tags": []
          },
          "execution_count": 102
        }
      ]
    },
    {
      "cell_type": "markdown",
      "metadata": {
        "id": "J8CGCPeM_Uhc"
      },
      "source": [
        "The Final dataset has been created. The target variables that groups gender and age “group” has been transformed into numbers so that supervised algorithms are used for prediction."
      ]
    },
    {
      "cell_type": "code",
      "metadata": {
        "colab": {
          "base_uri": "https://localhost:8080/",
          "height": 729
        },
        "id": "Sw1QAzq_0Cmw",
        "outputId": "52e39fa5-359f-4aad-ea89-2a5a2df46d85"
      },
      "source": [
        "# Visualize the classification by Gender\r\n",
        "plt.figure(figsize=(18, 10))\r\n",
        "sns.set_style(\"white\")\r\n",
        "\r\n",
        "plt.subplot(1, 2, 1)\r\n",
        "ax = sns.countplot(x=\"gender\", data=df, palette=\"Set2\")\r\n",
        "ax.set_title('Classification by Gender')\r\n",
        "ax.set_ylabel('Frequency')\r\n",
        "ax.set_xticklabels(['Male','Female'], fontsize=10)\r\n",
        "plt.ylim(0, 20000)\r\n",
        "\r\n",
        "plt.tight_layout()\r\n",
        "plt.show()"
      ],
      "execution_count": null,
      "outputs": [
        {
          "output_type": "display_data",
          "data": {
            "image/png": "[encoded data removed]",
            "text/plain": [
              "<Figure size 1296x720 with 1 Axes>"
            ]
          },
          "metadata": {
            "tags": []
          }
        }
      ]
    },
    {
      "cell_type": "markdown",
      "metadata": {
        "id": "J_x6xC3R_0xA"
      },
      "source": [
        "The gender split in the data is not even, being more male than women in the customer base of the company. This has an impact in the further segmentation by age (including gender) expecting groups that have a lower number of data points in the case it is for women. A visual inspection of the groups show that the groups are unbalanced. This will impact the accuracy of the models for classification purposes. Further resampling is required and in this case, up-sampling will be considered using the number of samples in the largest group: males (3338 samples)."
      ]
    },
    {
      "cell_type": "code",
      "metadata": {
        "colab": {
          "base_uri": "https://localhost:8080/",
          "height": 729
        },
        "id": "aL5NEWj60rMH",
        "outputId": "abc6130d-836d-4fed-c783-6b68306c3641"
      },
      "source": [
        "# Visualize the classification by Gender and Age range\r\n",
        "plt.figure(figsize=(18, 10))\r\n",
        "sns.set_style(\"white\")\r\n",
        "\r\n",
        "plt.subplot(1, 2, 2)\r\n",
        "ax = sns.countplot(x=\"group\", data=df, palette=\"Set1\")\r\n",
        "ax.set_title('Classification by Gender & Age range')\r\n",
        "ax.set_ylabel('Frequency')\r\n",
        "ax.set_xticklabels(['M39+','M32-38', 'M29-31', 'M27-28', 'M23-26','M22-','F43+','F33-42', 'F29-32', 'F27-28', 'F24-26', 'F23-'], fontsize=10)\r\n",
        "plt.ylim(0, 5000)\r\n",
        "\r\n",
        "plt.tight_layout()\r\n",
        "plt.show()"
      ],
      "execution_count": null,
      "outputs": [
        {
          "output_type": "display_data",
          "data": {
            "image/png": "[encoded data removed]",
            "text/plain": [
              "<Figure size 1296x720 with 1 Axes>"
            ]
          },
          "metadata": {
            "tags": []
          }
        }
      ]
    },
    {
      "cell_type": "markdown",
      "metadata": {
        "id": "H6dq4j1sAEOo"
      },
      "source": [
        "As the different groups are not balanced, the minority groups are balanced resampling the data and up-sampling the minority groups. This will allow the different algorithms to achieve a better accuracy in general. Some algorithms are highly sensitive to unbalanced groups in the output variable."
      ]
    },
    {
      "cell_type": "code",
      "metadata": {
        "colab": {
          "base_uri": "https://localhost:8080/"
        },
        "id": "A0-EowkF1N4f",
        "outputId": "8b6e8b84-9541-4913-e226-2ea727b1e7b1"
      },
      "source": [
        "#Count number of datapoints to check class imbalancing.\r\n",
        "print(df['group'].value_counts())"
      ],
      "execution_count": 40,
      "outputs": [
        {
          "output_type": "stream",
          "text": [
            "M32-38    3338\n",
            "M39+      3137\n",
            "M23-26    2770\n",
            "M29-31    2423\n",
            "M22-      1901\n",
            "F33-42    1832\n",
            "M27-28    1682\n",
            "F29-32    1387\n",
            "F23-      1365\n",
            "F43+      1357\n",
            "F24-26    1140\n",
            "F27-28     958\n",
            "Name: group, dtype: int64\n"
          ],
          "name": "stdout"
        }
      ]
    },
    {
      "cell_type": "code",
      "metadata": {
        "id": "mjSa2Mox4HwY"
      },
      "source": [
        "# Upsample minority classes\r\n",
        "# Separate majority and minority classes\r\n",
        "df_majority = df[df.group=='M32-38']\r\n",
        "\r\n",
        "#Minorty classes\r\n",
        "df_minority_1 = df[df.group=='M39+']\r\n",
        "df_minority_2 = df[df.group=='M23-26']\r\n",
        "df_minority_3 = df[df.group=='M29-31']\r\n",
        "df_minority_4 = df[df.group=='M22-']\r\n",
        "df_minority_5 = df[df.group=='F33-42']\r\n",
        "df_minority_6 = df[df.group=='M27-28']\r\n",
        "df_minority_7 = df[df.group=='F29-32']\r\n",
        "df_minority_8 = df[df.group=='F23-']\r\n",
        "df_minority_9 = df[df.group=='F43+']\r\n",
        "df_minority_10 = df[df.group=='F24-26']\r\n",
        "df_minority_11 = df[df.group=='F27-28']"
      ],
      "execution_count": 41,
      "outputs": []
    },
    {
      "cell_type": "code",
      "metadata": {
        "id": "5VonILOu5Re7"
      },
      "source": [
        "# Upsample minority classes\r\n",
        "df_upsampled_1 = resample(df_minority_1, replace=True, n_samples=3338, random_state=42) \r\n",
        "df_upsampled_2 = resample(df_minority_2, replace=True, n_samples=3338, random_state=42)\r\n",
        "df_upsampled_3 = resample(df_minority_3, replace=True, n_samples=3338, random_state=42)\r\n",
        "df_upsampled_4 = resample(df_minority_4, replace=True, n_samples=3338, random_state=42)\r\n",
        "df_upsampled_5 = resample(df_minority_5, replace=True, n_samples=3338, random_state=42)\r\n",
        "df_upsampled_6 = resample(df_minority_6, replace=True, n_samples=3338, random_state=42)\r\n",
        "df_upsampled_7 = resample(df_minority_7, replace=True, n_samples=3338, random_state=42)\r\n",
        "df_upsampled_8 = resample(df_minority_8, replace=True, n_samples=3338, random_state=42)\r\n",
        "df_upsampled_9 = resample(df_minority_9, replace=True, n_samples=3338, random_state=42)\r\n",
        "df_upsampled_10 = resample(df_minority_10, replace=True, n_samples=3338, random_state=42)\r\n",
        "df_upsampled_11 = resample(df_minority_11, replace=True, n_samples=3338, random_state=42)"
      ],
      "execution_count": 42,
      "outputs": []
    },
    {
      "cell_type": "code",
      "metadata": {
        "id": "etU9WOUx55wU"
      },
      "source": [
        "# Combine majority class with upsampled minority classes\r\n",
        "df_upsampled = pd.concat([df_majority, df_upsampled_1, df_upsampled_2, df_upsampled_3, df_upsampled_4, df_upsampled_5, df_upsampled_6, df_upsampled_7, df_upsampled_8,\r\n",
        "                        df_upsampled_9, df_upsampled_10, df_upsampled_11])"
      ],
      "execution_count": 43,
      "outputs": []
    },
    {
      "cell_type": "code",
      "metadata": {
        "colab": {
          "base_uri": "https://localhost:8080/"
        },
        "id": "98BrpKOS6akw",
        "outputId": "bdae2ed8-e2c6-4394-9e06-9ec29dd922b0"
      },
      "source": [
        "# Display new class counts\r\n",
        "df_upsampled.group.value_counts()"
      ],
      "execution_count": 44,
      "outputs": [
        {
          "output_type": "execute_result",
          "data": {
            "text/plain": [
              "F23-      3338\n",
              "M23-26    3338\n",
              "F43+      3338\n",
              "F24-26    3338\n",
              "F29-32    3338\n",
              "M29-31    3338\n",
              "F27-28    3338\n",
              "M27-28    3338\n",
              "M32-38    3338\n",
              "M39+      3338\n",
              "F33-42    3338\n",
              "M22-      3338\n",
              "Name: group, dtype: int64"
            ]
          },
          "metadata": {
            "tags": []
          },
          "execution_count": 44
        }
      ]
    },
    {
      "cell_type": "code",
      "metadata": {
        "id": "RdsbmyMP70rT"
      },
      "source": [
        "#Get dummy variables for the gender variable and reset index\r\n",
        "df = pd.get_dummies(df_upsampled, columns = ['gender'], sparse = True,).reset_index(drop= True)"
      ],
      "execution_count": 45,
      "outputs": []
    },
    {
      "cell_type": "code",
      "metadata": {
        "id": "OAs5itKn7_n4"
      },
      "source": [
        "#Delete column with device_id\r\n",
        "df = df.drop(columns='device_id')"
      ],
      "execution_count": 46,
      "outputs": []
    },
    {
      "cell_type": "code",
      "metadata": {
        "id": "Sz9hKOX18Itz"
      },
      "source": [
        "#Delete columns that are all zeros\r\n",
        "df = df.drop(df.columns[(df == 0).all()], axis = 1)"
      ],
      "execution_count": 47,
      "outputs": []
    },
    {
      "cell_type": "code",
      "metadata": {
        "id": "it3-57FE8SJA"
      },
      "source": [
        "#Substitute the categorical output variable \r\n",
        "df['group'] = df['group'].map({'M39+' :0,'M32-38':1, 'M29-31':2, 'M27-28':3, 'M23-26':4,'M22-': 5,\r\n",
        "                                           'F43+' :6,'F33-42':7, 'F29-32':8, 'F27-28':9, 'F24-26':10, 'F23-':11 })"
      ],
      "execution_count": 48,
      "outputs": []
    },
    {
      "cell_type": "code",
      "metadata": {
        "colab": {
          "base_uri": "https://localhost:8080/",
          "height": 244
        },
        "id": "dRl-nfd48bRg",
        "outputId": "bd0a3135-b479-4685-ecaf-feb96b5c433f"
      },
      "source": [
        "# Check the first 5 rows of the data frame\r\n",
        "df.head()"
      ],
      "execution_count": 49,
      "outputs": [
        {
          "output_type": "execute_result",
          "data": {
            "text/html": [
              "<div>\n",
              "<style scoped>\n",
              "    .dataframe tbody tr th:only-of-type {\n",
              "        vertical-align: middle;\n",
              "    }\n",
              "\n",
              "    .dataframe tbody tr th {\n",
              "        vertical-align: top;\n",
              "    }\n",
              "\n",
              "    .dataframe thead th {\n",
              "        text-align: right;\n",
              "    }\n",
              "</style>\n",
              "<table border=\"1\" class=\"dataframe\">\n",
              "  <thead>\n",
              "    <tr style=\"text-align: right;\">\n",
              "      <th></th>\n",
              "      <th>is_active</th>\n",
              "      <th>age</th>\n",
              "      <th>group</th>\n",
              "      <th>label_id_6</th>\n",
              "      <th>label_id_8</th>\n",
              "      <th>label_id_10</th>\n",
              "      <th>label_id_11</th>\n",
              "      <th>label_id_12</th>\n",
              "      <th>label_id_13</th>\n",
              "      <th>label_id_14</th>\n",
              "      <th>label_id_16</th>\n",
              "      <th>label_id_17</th>\n",
              "      <th>label_id_22</th>\n",
              "      <th>label_id_24</th>\n",
              "      <th>label_id_26</th>\n",
              "      <th>label_id_27</th>\n",
              "      <th>label_id_29</th>\n",
              "      <th>label_id_30</th>\n",
              "      <th>label_id_31</th>\n",
              "      <th>label_id_32</th>\n",
              "      <th>label_id_33</th>\n",
              "      <th>label_id_35</th>\n",
              "      <th>label_id_36</th>\n",
              "      <th>label_id_38</th>\n",
              "      <th>label_id_39</th>\n",
              "      <th>label_id_40</th>\n",
              "      <th>label_id_42</th>\n",
              "      <th>label_id_43</th>\n",
              "      <th>label_id_44</th>\n",
              "      <th>label_id_46</th>\n",
              "      <th>label_id_47</th>\n",
              "      <th>label_id_51</th>\n",
              "      <th>label_id_54</th>\n",
              "      <th>label_id_57</th>\n",
              "      <th>label_id_58</th>\n",
              "      <th>label_id_59</th>\n",
              "      <th>label_id_61</th>\n",
              "      <th>label_id_64</th>\n",
              "      <th>label_id_66</th>\n",
              "      <th>label_id_69</th>\n",
              "      <th>...</th>\n",
              "      <th>phone_brand_dowe</th>\n",
              "      <th>phone_brand_epai</th>\n",
              "      <th>phone_brand_fks</th>\n",
              "      <th>phone_brand_google</th>\n",
              "      <th>phone_brand_haier</th>\n",
              "      <th>phone_brand_hammer</th>\n",
              "      <th>phone_brand_hasse</th>\n",
              "      <th>phone_brand_hisense</th>\n",
              "      <th>phone_brand_ipair</th>\n",
              "      <th>phone_brand_kiwu</th>\n",
              "      <th>phone_brand_koobee</th>\n",
              "      <th>phone_brand_kupo</th>\n",
              "      <th>phone_brand_lenovo</th>\n",
              "      <th>phone_brand_lingyun</th>\n",
              "      <th>phone_brand_lshi</th>\n",
              "      <th>phone_brand_meitu</th>\n",
              "      <th>phone_brand_mengmi</th>\n",
              "      <th>phone_brand_micky</th>\n",
              "      <th>phone_brand_moto</th>\n",
              "      <th>phone_brand_newman</th>\n",
              "      <th>phone_brand_nibilu</th>\n",
              "      <th>phone_brand_nokia</th>\n",
              "      <th>phone_brand_nubia</th>\n",
              "      <th>phone_brand_nuomi</th>\n",
              "      <th>phone_brand_obi</th>\n",
              "      <th>phone_brand_oneplus</th>\n",
              "      <th>phone_brand_ouxin</th>\n",
              "      <th>phone_brand_panasonic</th>\n",
              "      <th>phone_brand_samsung</th>\n",
              "      <th>phone_brand_vivo</th>\n",
              "      <th>phone_brand_weimi</th>\n",
              "      <th>phone_brand_weitu</th>\n",
              "      <th>phone_brand_wpf</th>\n",
              "      <th>phone_brand_xiangmi</th>\n",
              "      <th>phone_brand_ximi</th>\n",
              "      <th>phone_brand_yougo</th>\n",
              "      <th>phone_brand_youmi</th>\n",
              "      <th>phone_brand_yuxin</th>\n",
              "      <th>gender_F</th>\n",
              "      <th>gender_M</th>\n",
              "    </tr>\n",
              "  </thead>\n",
              "  <tbody>\n",
              "    <tr>\n",
              "      <th>0</th>\n",
              "      <td>1</td>\n",
              "      <td>35.0</td>\n",
              "      <td>1</td>\n",
              "      <td>0</td>\n",
              "      <td>0</td>\n",
              "      <td>0</td>\n",
              "      <td>0</td>\n",
              "      <td>0</td>\n",
              "      <td>0</td>\n",
              "      <td>0</td>\n",
              "      <td>0</td>\n",
              "      <td>0</td>\n",
              "      <td>0</td>\n",
              "      <td>0</td>\n",
              "      <td>0</td>\n",
              "      <td>0</td>\n",
              "      <td>0</td>\n",
              "      <td>0</td>\n",
              "      <td>0</td>\n",
              "      <td>0</td>\n",
              "      <td>0</td>\n",
              "      <td>0</td>\n",
              "      <td>0</td>\n",
              "      <td>0</td>\n",
              "      <td>0</td>\n",
              "      <td>0</td>\n",
              "      <td>0</td>\n",
              "      <td>0</td>\n",
              "      <td>0</td>\n",
              "      <td>0</td>\n",
              "      <td>0</td>\n",
              "      <td>0</td>\n",
              "      <td>0</td>\n",
              "      <td>0</td>\n",
              "      <td>0</td>\n",
              "      <td>0</td>\n",
              "      <td>0</td>\n",
              "      <td>0</td>\n",
              "      <td>0</td>\n",
              "      <td>0</td>\n",
              "      <td>...</td>\n",
              "      <td>0</td>\n",
              "      <td>0</td>\n",
              "      <td>0</td>\n",
              "      <td>0</td>\n",
              "      <td>0</td>\n",
              "      <td>0</td>\n",
              "      <td>0</td>\n",
              "      <td>0</td>\n",
              "      <td>0</td>\n",
              "      <td>0</td>\n",
              "      <td>0</td>\n",
              "      <td>0</td>\n",
              "      <td>0</td>\n",
              "      <td>0</td>\n",
              "      <td>0</td>\n",
              "      <td>0</td>\n",
              "      <td>0</td>\n",
              "      <td>0</td>\n",
              "      <td>0</td>\n",
              "      <td>0</td>\n",
              "      <td>0</td>\n",
              "      <td>0</td>\n",
              "      <td>0</td>\n",
              "      <td>0</td>\n",
              "      <td>0</td>\n",
              "      <td>0</td>\n",
              "      <td>0</td>\n",
              "      <td>0</td>\n",
              "      <td>0</td>\n",
              "      <td>0</td>\n",
              "      <td>0</td>\n",
              "      <td>0</td>\n",
              "      <td>0</td>\n",
              "      <td>0</td>\n",
              "      <td>0</td>\n",
              "      <td>0</td>\n",
              "      <td>0</td>\n",
              "      <td>0</td>\n",
              "      <td>0</td>\n",
              "      <td>1</td>\n",
              "    </tr>\n",
              "    <tr>\n",
              "      <th>1</th>\n",
              "      <td>0</td>\n",
              "      <td>34.0</td>\n",
              "      <td>1</td>\n",
              "      <td>0</td>\n",
              "      <td>0</td>\n",
              "      <td>0</td>\n",
              "      <td>0</td>\n",
              "      <td>0</td>\n",
              "      <td>0</td>\n",
              "      <td>0</td>\n",
              "      <td>0</td>\n",
              "      <td>0</td>\n",
              "      <td>0</td>\n",
              "      <td>0</td>\n",
              "      <td>0</td>\n",
              "      <td>0</td>\n",
              "      <td>0</td>\n",
              "      <td>0</td>\n",
              "      <td>0</td>\n",
              "      <td>0</td>\n",
              "      <td>0</td>\n",
              "      <td>0</td>\n",
              "      <td>0</td>\n",
              "      <td>0</td>\n",
              "      <td>0</td>\n",
              "      <td>0</td>\n",
              "      <td>0</td>\n",
              "      <td>0</td>\n",
              "      <td>0</td>\n",
              "      <td>0</td>\n",
              "      <td>0</td>\n",
              "      <td>0</td>\n",
              "      <td>0</td>\n",
              "      <td>0</td>\n",
              "      <td>0</td>\n",
              "      <td>0</td>\n",
              "      <td>0</td>\n",
              "      <td>0</td>\n",
              "      <td>0</td>\n",
              "      <td>0</td>\n",
              "      <td>...</td>\n",
              "      <td>0</td>\n",
              "      <td>0</td>\n",
              "      <td>0</td>\n",
              "      <td>0</td>\n",
              "      <td>0</td>\n",
              "      <td>0</td>\n",
              "      <td>0</td>\n",
              "      <td>0</td>\n",
              "      <td>0</td>\n",
              "      <td>0</td>\n",
              "      <td>0</td>\n",
              "      <td>0</td>\n",
              "      <td>0</td>\n",
              "      <td>0</td>\n",
              "      <td>0</td>\n",
              "      <td>0</td>\n",
              "      <td>0</td>\n",
              "      <td>0</td>\n",
              "      <td>0</td>\n",
              "      <td>0</td>\n",
              "      <td>0</td>\n",
              "      <td>0</td>\n",
              "      <td>0</td>\n",
              "      <td>0</td>\n",
              "      <td>0</td>\n",
              "      <td>0</td>\n",
              "      <td>0</td>\n",
              "      <td>0</td>\n",
              "      <td>0</td>\n",
              "      <td>0</td>\n",
              "      <td>0</td>\n",
              "      <td>0</td>\n",
              "      <td>0</td>\n",
              "      <td>0</td>\n",
              "      <td>0</td>\n",
              "      <td>0</td>\n",
              "      <td>0</td>\n",
              "      <td>0</td>\n",
              "      <td>0</td>\n",
              "      <td>1</td>\n",
              "    </tr>\n",
              "    <tr>\n",
              "      <th>2</th>\n",
              "      <td>0</td>\n",
              "      <td>36.0</td>\n",
              "      <td>1</td>\n",
              "      <td>0</td>\n",
              "      <td>0</td>\n",
              "      <td>0</td>\n",
              "      <td>0</td>\n",
              "      <td>0</td>\n",
              "      <td>0</td>\n",
              "      <td>0</td>\n",
              "      <td>0</td>\n",
              "      <td>0</td>\n",
              "      <td>0</td>\n",
              "      <td>0</td>\n",
              "      <td>0</td>\n",
              "      <td>0</td>\n",
              "      <td>0</td>\n",
              "      <td>0</td>\n",
              "      <td>0</td>\n",
              "      <td>0</td>\n",
              "      <td>0</td>\n",
              "      <td>0</td>\n",
              "      <td>0</td>\n",
              "      <td>0</td>\n",
              "      <td>0</td>\n",
              "      <td>0</td>\n",
              "      <td>0</td>\n",
              "      <td>0</td>\n",
              "      <td>0</td>\n",
              "      <td>0</td>\n",
              "      <td>0</td>\n",
              "      <td>0</td>\n",
              "      <td>0</td>\n",
              "      <td>0</td>\n",
              "      <td>0</td>\n",
              "      <td>0</td>\n",
              "      <td>0</td>\n",
              "      <td>0</td>\n",
              "      <td>0</td>\n",
              "      <td>0</td>\n",
              "      <td>...</td>\n",
              "      <td>0</td>\n",
              "      <td>0</td>\n",
              "      <td>0</td>\n",
              "      <td>0</td>\n",
              "      <td>0</td>\n",
              "      <td>0</td>\n",
              "      <td>0</td>\n",
              "      <td>0</td>\n",
              "      <td>0</td>\n",
              "      <td>0</td>\n",
              "      <td>0</td>\n",
              "      <td>0</td>\n",
              "      <td>0</td>\n",
              "      <td>0</td>\n",
              "      <td>0</td>\n",
              "      <td>0</td>\n",
              "      <td>0</td>\n",
              "      <td>0</td>\n",
              "      <td>0</td>\n",
              "      <td>0</td>\n",
              "      <td>0</td>\n",
              "      <td>0</td>\n",
              "      <td>0</td>\n",
              "      <td>0</td>\n",
              "      <td>0</td>\n",
              "      <td>0</td>\n",
              "      <td>0</td>\n",
              "      <td>0</td>\n",
              "      <td>0</td>\n",
              "      <td>0</td>\n",
              "      <td>0</td>\n",
              "      <td>0</td>\n",
              "      <td>0</td>\n",
              "      <td>0</td>\n",
              "      <td>0</td>\n",
              "      <td>0</td>\n",
              "      <td>0</td>\n",
              "      <td>0</td>\n",
              "      <td>0</td>\n",
              "      <td>1</td>\n",
              "    </tr>\n",
              "    <tr>\n",
              "      <th>3</th>\n",
              "      <td>0</td>\n",
              "      <td>35.0</td>\n",
              "      <td>1</td>\n",
              "      <td>0</td>\n",
              "      <td>0</td>\n",
              "      <td>0</td>\n",
              "      <td>0</td>\n",
              "      <td>0</td>\n",
              "      <td>0</td>\n",
              "      <td>0</td>\n",
              "      <td>0</td>\n",
              "      <td>0</td>\n",
              "      <td>0</td>\n",
              "      <td>0</td>\n",
              "      <td>0</td>\n",
              "      <td>0</td>\n",
              "      <td>0</td>\n",
              "      <td>0</td>\n",
              "      <td>0</td>\n",
              "      <td>0</td>\n",
              "      <td>0</td>\n",
              "      <td>0</td>\n",
              "      <td>0</td>\n",
              "      <td>0</td>\n",
              "      <td>0</td>\n",
              "      <td>0</td>\n",
              "      <td>0</td>\n",
              "      <td>0</td>\n",
              "      <td>0</td>\n",
              "      <td>0</td>\n",
              "      <td>0</td>\n",
              "      <td>0</td>\n",
              "      <td>0</td>\n",
              "      <td>0</td>\n",
              "      <td>0</td>\n",
              "      <td>0</td>\n",
              "      <td>0</td>\n",
              "      <td>0</td>\n",
              "      <td>0</td>\n",
              "      <td>0</td>\n",
              "      <td>...</td>\n",
              "      <td>0</td>\n",
              "      <td>0</td>\n",
              "      <td>0</td>\n",
              "      <td>0</td>\n",
              "      <td>0</td>\n",
              "      <td>0</td>\n",
              "      <td>0</td>\n",
              "      <td>0</td>\n",
              "      <td>0</td>\n",
              "      <td>0</td>\n",
              "      <td>0</td>\n",
              "      <td>0</td>\n",
              "      <td>0</td>\n",
              "      <td>0</td>\n",
              "      <td>0</td>\n",
              "      <td>0</td>\n",
              "      <td>0</td>\n",
              "      <td>0</td>\n",
              "      <td>0</td>\n",
              "      <td>0</td>\n",
              "      <td>0</td>\n",
              "      <td>0</td>\n",
              "      <td>0</td>\n",
              "      <td>0</td>\n",
              "      <td>0</td>\n",
              "      <td>0</td>\n",
              "      <td>0</td>\n",
              "      <td>0</td>\n",
              "      <td>0</td>\n",
              "      <td>0</td>\n",
              "      <td>0</td>\n",
              "      <td>0</td>\n",
              "      <td>0</td>\n",
              "      <td>0</td>\n",
              "      <td>0</td>\n",
              "      <td>0</td>\n",
              "      <td>0</td>\n",
              "      <td>0</td>\n",
              "      <td>0</td>\n",
              "      <td>1</td>\n",
              "    </tr>\n",
              "    <tr>\n",
              "      <th>4</th>\n",
              "      <td>0</td>\n",
              "      <td>33.0</td>\n",
              "      <td>1</td>\n",
              "      <td>0</td>\n",
              "      <td>0</td>\n",
              "      <td>0</td>\n",
              "      <td>0</td>\n",
              "      <td>0</td>\n",
              "      <td>0</td>\n",
              "      <td>0</td>\n",
              "      <td>0</td>\n",
              "      <td>0</td>\n",
              "      <td>0</td>\n",
              "      <td>0</td>\n",
              "      <td>0</td>\n",
              "      <td>0</td>\n",
              "      <td>0</td>\n",
              "      <td>0</td>\n",
              "      <td>0</td>\n",
              "      <td>0</td>\n",
              "      <td>0</td>\n",
              "      <td>0</td>\n",
              "      <td>0</td>\n",
              "      <td>0</td>\n",
              "      <td>0</td>\n",
              "      <td>0</td>\n",
              "      <td>0</td>\n",
              "      <td>0</td>\n",
              "      <td>0</td>\n",
              "      <td>0</td>\n",
              "      <td>0</td>\n",
              "      <td>0</td>\n",
              "      <td>0</td>\n",
              "      <td>0</td>\n",
              "      <td>0</td>\n",
              "      <td>0</td>\n",
              "      <td>0</td>\n",
              "      <td>0</td>\n",
              "      <td>0</td>\n",
              "      <td>0</td>\n",
              "      <td>...</td>\n",
              "      <td>0</td>\n",
              "      <td>0</td>\n",
              "      <td>0</td>\n",
              "      <td>0</td>\n",
              "      <td>0</td>\n",
              "      <td>0</td>\n",
              "      <td>0</td>\n",
              "      <td>0</td>\n",
              "      <td>0</td>\n",
              "      <td>0</td>\n",
              "      <td>0</td>\n",
              "      <td>0</td>\n",
              "      <td>0</td>\n",
              "      <td>0</td>\n",
              "      <td>0</td>\n",
              "      <td>0</td>\n",
              "      <td>0</td>\n",
              "      <td>0</td>\n",
              "      <td>0</td>\n",
              "      <td>0</td>\n",
              "      <td>0</td>\n",
              "      <td>0</td>\n",
              "      <td>0</td>\n",
              "      <td>0</td>\n",
              "      <td>0</td>\n",
              "      <td>0</td>\n",
              "      <td>0</td>\n",
              "      <td>0</td>\n",
              "      <td>0</td>\n",
              "      <td>1</td>\n",
              "      <td>0</td>\n",
              "      <td>0</td>\n",
              "      <td>0</td>\n",
              "      <td>0</td>\n",
              "      <td>0</td>\n",
              "      <td>0</td>\n",
              "      <td>0</td>\n",
              "      <td>0</td>\n",
              "      <td>0</td>\n",
              "      <td>1</td>\n",
              "    </tr>\n",
              "  </tbody>\n",
              "</table>\n",
              "<p>5 rows × 277 columns</p>\n",
              "</div>"
            ],
            "text/plain": [
              "   is_active   age  group  ...  phone_brand_yuxin  gender_F  gender_M\n",
              "0          1  35.0      1  ...                  0         0         1\n",
              "1          0  34.0      1  ...                  0         0         1\n",
              "2          0  36.0      1  ...                  0         0         1\n",
              "3          0  35.0      1  ...                  0         0         1\n",
              "4          0  33.0      1  ...                  0         0         1\n",
              "\n",
              "[5 rows x 277 columns]"
            ]
          },
          "metadata": {
            "tags": []
          },
          "execution_count": 49
        }
      ]
    },
    {
      "cell_type": "code",
      "metadata": {
        "id": "cCNHmCRu8lOb"
      },
      "source": [
        "#Build the predictors and target variables\r\n",
        "X = df.drop('group',axis = 1)\r\n",
        "y = df.group\r\n",
        "\r\n",
        "#Normalize the data\r\n",
        "names = X.columns\r\n",
        "X_normalized = pd.DataFrame(normalize(X), columns = names)"
      ],
      "execution_count": 50,
      "outputs": []
    },
    {
      "cell_type": "code",
      "metadata": {
        "colab": {
          "base_uri": "https://localhost:8080/"
        },
        "id": "HzFUGTey-g9B",
        "outputId": "132c153a-1177-4ad8-9fae-54a021950a0a"
      },
      "source": [
        "#Check shape of X_normalized and y\r\n",
        "print(X.shape, y.shape)\r\n",
        "\r\n",
        "#Print the groups in y\r\n",
        "print(y.unique())"
      ],
      "execution_count": 51,
      "outputs": [
        {
          "output_type": "stream",
          "text": [
            "(40056, 276) (40056,)\n",
            "[ 1  0  4  2  5  7  3  8 11  6 10  9]\n"
          ],
          "name": "stdout"
        }
      ]
    },
    {
      "cell_type": "code",
      "metadata": {
        "id": "t7VGLAyY-l8O"
      },
      "source": [
        "#Split the dataset into a training and testing dataset as 75% and 25%\r\n",
        "X_train, X_test, y_train, y_test = train_test_split(X_normalized, y,test_size=0.25, random_state=42)"
      ],
      "execution_count": 52,
      "outputs": []
    },
    {
      "cell_type": "markdown",
      "metadata": {
        "id": "naJMxVx5AoG5"
      },
      "source": [
        "The dataset has been split into predictors and target variable and the dataset split into a train and test data set (75/25) defining five folds for cross validation. This train test split will be used for the feature extraction."
      ]
    },
    {
      "cell_type": "markdown",
      "metadata": {
        "id": "ila0DOw3_EmY"
      },
      "source": [
        "###Feature Engineering"
      ]
    },
    {
      "cell_type": "markdown",
      "metadata": {
        "id": "7s1vFxSHtnJ0"
      },
      "source": [
        "Use SelectKbest method to select top features "
      ]
    },
    {
      "cell_type": "code",
      "metadata": {
        "id": "kqYPfQwY_IBP"
      },
      "source": [
        "#Use SelectKBest Feature extraction. Fit the model\r\n",
        "test = SelectKBest()\r\n",
        "fit = test.fit(X_normalized, y)"
      ],
      "execution_count": 53,
      "outputs": []
    },
    {
      "cell_type": "code",
      "metadata": {
        "id": "ySHpmEKYq85U"
      },
      "source": [
        "#Identify features with highest scores \r\n",
        "names = X_normalized.columns"
      ],
      "execution_count": 54,
      "outputs": []
    },
    {
      "cell_type": "code",
      "metadata": {
        "id": "jf-zhcsRrDeH"
      },
      "source": [
        "#Put the features and scores into a dataframe.\r\n",
        "K_best_features = pd.DataFrame(fit.scores_, index = names).reset_index()\r\n",
        "K_best_features.columns = ['SelectKBest Features', 'Scores']"
      ],
      "execution_count": 55,
      "outputs": []
    },
    {
      "cell_type": "code",
      "metadata": {
        "colab": {
          "base_uri": "https://localhost:8080/",
          "height": 402
        },
        "id": "5CYvsS-erZ7B",
        "outputId": "47d330f1-852b-4c19-d090-3e82216cea30"
      },
      "source": [
        "#Show the features in descending order \r\n",
        "K_best_features.sort_values(by=['Scores'], ascending=False)"
      ],
      "execution_count": 56,
      "outputs": [
        {
          "output_type": "execute_result",
          "data": {
            "text/html": [
              "<div>\n",
              "<style scoped>\n",
              "    .dataframe tbody tr th:only-of-type {\n",
              "        vertical-align: middle;\n",
              "    }\n",
              "\n",
              "    .dataframe tbody tr th {\n",
              "        vertical-align: top;\n",
              "    }\n",
              "\n",
              "    .dataframe thead th {\n",
              "        text-align: right;\n",
              "    }\n",
              "</style>\n",
              "<table border=\"1\" class=\"dataframe\">\n",
              "  <thead>\n",
              "    <tr style=\"text-align: right;\">\n",
              "      <th></th>\n",
              "      <th>SelectKBest Features</th>\n",
              "      <th>Scores</th>\n",
              "    </tr>\n",
              "  </thead>\n",
              "  <tbody>\n",
              "    <tr>\n",
              "      <th>275</th>\n",
              "      <td>gender_M</td>\n",
              "      <td>453236.090993</td>\n",
              "    </tr>\n",
              "    <tr>\n",
              "      <th>274</th>\n",
              "      <td>gender_F</td>\n",
              "      <td>426838.209522</td>\n",
              "    </tr>\n",
              "    <tr>\n",
              "      <th>1</th>\n",
              "      <td>age</td>\n",
              "      <td>16256.784842</td>\n",
              "    </tr>\n",
              "    <tr>\n",
              "      <th>117</th>\n",
              "      <td>label_id_549</td>\n",
              "      <td>190.693682</td>\n",
              "    </tr>\n",
              "    <tr>\n",
              "      <th>0</th>\n",
              "      <td>is_active</td>\n",
              "      <td>182.656237</td>\n",
              "    </tr>\n",
              "    <tr>\n",
              "      <th>...</th>\n",
              "      <td>...</td>\n",
              "      <td>...</td>\n",
              "    </tr>\n",
              "    <tr>\n",
              "      <th>205</th>\n",
              "      <td>phone_brand_Lovme</td>\n",
              "      <td>0.909896</td>\n",
              "    </tr>\n",
              "    <tr>\n",
              "      <th>30</th>\n",
              "      <td>label_id_51</td>\n",
              "      <td>0.909531</td>\n",
              "    </tr>\n",
              "    <tr>\n",
              "      <th>247</th>\n",
              "      <td>phone_brand_kupo</td>\n",
              "      <td>0.909342</td>\n",
              "    </tr>\n",
              "    <tr>\n",
              "      <th>50</th>\n",
              "      <td>label_id_140</td>\n",
              "      <td>0.882549</td>\n",
              "    </tr>\n",
              "    <tr>\n",
              "      <th>86</th>\n",
              "      <td>label_id_219</td>\n",
              "      <td>0.839215</td>\n",
              "    </tr>\n",
              "  </tbody>\n",
              "</table>\n",
              "<p>276 rows × 2 columns</p>\n",
              "</div>"
            ],
            "text/plain": [
              "    SelectKBest Features         Scores\n",
              "275             gender_M  453236.090993\n",
              "274             gender_F  426838.209522\n",
              "1                    age   16256.784842\n",
              "117         label_id_549     190.693682\n",
              "0              is_active     182.656237\n",
              "..                   ...            ...\n",
              "205    phone_brand_Lovme       0.909896\n",
              "30           label_id_51       0.909531\n",
              "247     phone_brand_kupo       0.909342\n",
              "50          label_id_140       0.882549\n",
              "86          label_id_219       0.839215\n",
              "\n",
              "[276 rows x 2 columns]"
            ]
          },
          "metadata": {
            "tags": []
          },
          "execution_count": 56
        }
      ]
    },
    {
      "cell_type": "code",
      "metadata": {
        "id": "6szWGYUwsPMy"
      },
      "source": [
        "#Select all the features that have scores higher than 1.\r\n",
        "Top_K_best_features = K_best_features.loc[K_best_features['Scores'] > 1]['SelectKBest Features'].tolist()"
      ],
      "execution_count": 57,
      "outputs": []
    },
    {
      "cell_type": "markdown",
      "metadata": {
        "id": "mI6EKJuSBJVe"
      },
      "source": [
        "Due to the characteristics of the variables the use of all the features create a lot of noise when the supervised models are run, there is overfitting in all cases. Hence, the number of variables is reduced using SelectKKbest using only those that have an explanatory power higher than 1. A dataframe is created with this new set of features."
      ]
    },
    {
      "cell_type": "code",
      "metadata": {
        "id": "x64l4EChslmH"
      },
      "source": [
        "#Create a dataframe with the new features\r\n",
        "columns = Top_K_best_features\r\n",
        "X_best_features = pd.DataFrame(X_normalized, columns = columns).reset_index(drop= True)"
      ],
      "execution_count": 58,
      "outputs": []
    },
    {
      "cell_type": "code",
      "metadata": {
        "colab": {
          "base_uri": "https://localhost:8080/"
        },
        "id": "GS6YjEaBtIuy",
        "outputId": "eefc4fef-ba04-4db6-89bd-0abf68b14b62"
      },
      "source": [
        "X_best_features.info()"
      ],
      "execution_count": 59,
      "outputs": [
        {
          "output_type": "stream",
          "text": [
            "<class 'pandas.core.frame.DataFrame'>\n",
            "RangeIndex: 40056 entries, 0 to 40055\n",
            "Columns: 240 entries, is_active to gender_M\n",
            "dtypes: float64(240)\n",
            "memory usage: 73.3 MB\n"
          ],
          "name": "stdout"
        }
      ]
    },
    {
      "cell_type": "markdown",
      "metadata": {
        "id": "jR2Xsogut2kp"
      },
      "source": [
        "PCA Analysis"
      ]
    },
    {
      "cell_type": "markdown",
      "metadata": {
        "id": "4TaVVaz-BjnH"
      },
      "source": [
        "The variables selected by Kbest are transformed using PCA analysis.From the PCA analysis below the the PCA features are created to maximize accuracy."
      ]
    },
    {
      "cell_type": "code",
      "metadata": {
        "colab": {
          "base_uri": "https://localhost:8080/"
        },
        "id": "YQyrs483tuy2",
        "outputId": "7955cccf-3b35-4734-b128-1c924435e8d8"
      },
      "source": [
        "#PCA features\r\n",
        "from sklearn.decomposition import PCA\r\n",
        "\r\n",
        "# Create a scaler object\r\n",
        "scaler = StandardScaler()\r\n",
        "\r\n",
        "# Fit the scaler to the features and transform\r\n",
        "X_std = X_best_features \r\n",
        "\r\n",
        "pca = PCA(n_components=5)\r\n",
        "\r\n",
        "# Fit the PCA and transform the data\r\n",
        "X_pca = pca.fit_transform(X_std)\r\n",
        "\r\n",
        "# View the new feature data's shape\r\n",
        "X_pca.shape"
      ],
      "execution_count": 60,
      "outputs": [
        {
          "output_type": "execute_result",
          "data": {
            "text/plain": [
              "(40056, 5)"
            ]
          },
          "metadata": {
            "tags": []
          },
          "execution_count": 60
        }
      ]
    },
    {
      "cell_type": "markdown",
      "metadata": {
        "id": "YfpUCKJ8Ettb"
      },
      "source": [
        "###Supervised Learning\r\n",
        "The dataset is split 75/25 train test and several Supervised Learning models will be tuned in the training set and run on the test set calculating their accuracy using cross validation. The purpose of this is to train and test the classification models avoiding overfitting, exposing the algorithms to unknown data in the test set. The cross validation will be done using five folds. The data has been resampled so the representation of each class is even across folds avoiding the need to stratify the data, and reducing the bias and variance effects if classes were not evenly distributed in the dataset.\r\n",
        "\r\n",
        "Further, all models' hyperparameters will be tuned in the training set using cross validation and gridsearch tuning several hyper parameters.\r\n",
        "\r\n",
        "All classes have been transformed from their original categorical tag to values from 0 to 11 to enable classification.\r\n",
        "\r\n",
        "The time required to fit the model and run the cross validation using five folds will be used to indicate the computational effort of each model."
      ]
    },
    {
      "cell_type": "code",
      "metadata": {
        "id": "DOPecEiTwpyg"
      },
      "source": [
        "#Split into test and train sets\r\n",
        "X_train, X_test, y_train, y_test = train_test_split(X_pca, y, test_size=0.25, random_state=42)"
      ],
      "execution_count": 127,
      "outputs": []
    },
    {
      "cell_type": "code",
      "metadata": {
        "id": "6mlwXaTWbsFs"
      },
      "source": [
        "#KFold for cross validation analysis\r\n",
        "kf = KFold(5)"
      ],
      "execution_count": 128,
      "outputs": []
    },
    {
      "cell_type": "markdown",
      "metadata": {
        "id": "thGrOkR0b90V"
      },
      "source": [
        "Logistic Regression Model\r\n",
        "\r\n",
        "The first model to be run is the Logistic Regression model. The following hyperparameters of the model have been tuned using searchgridCV and the overall accuracy as the selection strategy:\r\n",
        "\r\n",
        "Parameter \"C\" will be tuned in the training set. Lower values of C parameter will show a higher regularization.\r\n",
        "The model is initialized and several values are tested. The solver is set to \"lbfgs\" as it provides a similar accuracy than \"liblinear\" reducing the computational effort considerably (from 45 min to 3.9 min) being adequate for the problem and size of the dataset."
      ]
    },
    {
      "cell_type": "code",
      "metadata": {
        "colab": {
          "base_uri": "https://localhost:8080/"
        },
        "id": "76Ll1vjgcmbm",
        "outputId": "d6a5946e-96d9-49f9-9191-79ebb4aac237"
      },
      "source": [
        "# Initialize and fit the model.\r\n",
        "log_reg = LogisticRegression(class_weight='balanced', multi_class= 'multinomial', solver = 'lbfgs', max_iter = 1500)\r\n",
        "\r\n",
        "#Tune parameters: C parameter\r\n",
        "c_param = [100, 200, 1000]\r\n",
        "\r\n",
        "parameters = {'C': c_param}\r\n",
        "\r\n",
        "#Fit parameters\r\n",
        "log_reg_tuned = GridSearchCV(log_reg, param_grid=parameters, n_jobs = -1, cv=kf, verbose = 1)\r\n",
        "\r\n",
        "#Fit the tunned classifier in the training space\r\n",
        "log_reg_tuned.fit(X_train, y_train)\r\n",
        "\r\n",
        "# Examine the best model\r\n",
        "print(log_reg_tuned.best_score_)\r\n",
        "print(log_reg_tuned.best_params_)\r\n",
        "print(log_reg_tuned.best_estimator_)"
      ],
      "execution_count": null,
      "outputs": [
        {
          "output_type": "stream",
          "text": [
            "Fitting 5 folds for each of 3 candidates, totalling 15 fits\n"
          ],
          "name": "stdout"
        },
        {
          "output_type": "stream",
          "text": [
            "[Parallel(n_jobs=-1)]: Using backend LokyBackend with 2 concurrent workers.\n",
            "[Parallel(n_jobs=-1)]: Done  15 out of  15 | elapsed:  3.9min finished\n"
          ],
          "name": "stderr"
        },
        {
          "output_type": "stream",
          "text": [
            "0.836761973107804\n",
            "{'C': 1000}\n",
            "LogisticRegression(C=1000, class_weight='balanced', dual=False,\n",
            "                   fit_intercept=True, intercept_scaling=1, l1_ratio=None,\n",
            "                   max_iter=1500, multi_class='multinomial', n_jobs=None,\n",
            "                   penalty='l2', random_state=None, solver='lbfgs', tol=0.0001,\n",
            "                   verbose=0, warm_start=False)\n"
          ],
          "name": "stdout"
        },
        {
          "output_type": "stream",
          "text": [
            "/usr/local/lib/python3.6/dist-packages/sklearn/linear_model/_logistic.py:940: ConvergenceWarning: lbfgs failed to converge (status=1):\n",
            "STOP: TOTAL NO. of ITERATIONS REACHED LIMIT.\n",
            "\n",
            "Increase the number of iterations (max_iter) or scale the data as shown in:\n",
            "    https://scikit-learn.org/stable/modules/preprocessing.html\n",
            "Please also refer to the documentation for alternative solver options:\n",
            "    https://scikit-learn.org/stable/modules/linear_model.html#logistic-regression\n",
            "  extra_warning_msg=_LOGISTIC_SOLVER_CONVERGENCE_MSG)\n"
          ],
          "name": "stderr"
        }
      ]
    },
    {
      "cell_type": "code",
      "metadata": {
        "colab": {
          "base_uri": "https://localhost:8080/"
        },
        "id": "7_GaJOTXh1W3",
        "outputId": "d3359d11-22d9-460e-b367-1280797a2a49"
      },
      "source": [
        "#Once the model has been trained test it on the test dataset\r\n",
        "log_reg_tuned.fit(X_test, y_test)\r\n",
        "\r\n",
        "# Predict on test set\r\n",
        "y_predtest_lr = log_reg_tuned.predict(X_test)"
      ],
      "execution_count": null,
      "outputs": [
        {
          "output_type": "stream",
          "text": [
            "Fitting 5 folds for each of 3 candidates, totalling 15 fits\n"
          ],
          "name": "stdout"
        },
        {
          "output_type": "stream",
          "text": [
            "[Parallel(n_jobs=-1)]: Using backend LokyBackend with 2 concurrent workers.\n",
            "[Parallel(n_jobs=-1)]: Done  15 out of  15 | elapsed:   54.1s finished\n"
          ],
          "name": "stderr"
        }
      ]
    },
    {
      "cell_type": "markdown",
      "metadata": {
        "id": "F4YU8efaFWvk"
      },
      "source": [
        "The tuned model is fit and run on the test set and the computational effort is measured considering the time required to fit the test set. The model requires 54.1s to run which will be used as a time threshold to measure the computational effort of other models. To calculate the accuracy, the model is evaluated on the test set.\r\n"
      ]
    },
    {
      "cell_type": "code",
      "metadata": {
        "colab": {
          "base_uri": "https://localhost:8080/"
        },
        "id": "2KJEOX31ioA4",
        "outputId": "535be8bd-4962-4d15-c834-9437924ddfe7"
      },
      "source": [
        "#Evaluation of the model (testing)\r\n",
        "\r\n",
        "#Define the Target values\r\n",
        "target_names = ['0.0', '1.0','2.0','3.0','4.0','5.0','6.0','7.0','8.0','9.0','10.0','11,0']\r\n",
        "\r\n",
        "#Print the Classification Report\r\n",
        "print(('Classification Report: \\n {}').format(classification_report(y_test, y_predtest_lr, target_names=target_names)))\r\n",
        "\r\n",
        "#Calculate the confusion matrix\r\n",
        "confusion_lr = confusion_matrix(y_test, y_predtest_lr)\r\n",
        "\r\n",
        "#Print the Confusion Matrix\r\n",
        "print(('Confusion Matrix: \\n\\n {}\\n').format(confusion_lr))\r\n",
        "\r\n",
        "#Print the overall accuracy per class\r\n",
        "print(('Logistic Regression accuracy: {0:.2f} % \\n').format(cross_val_score(log_reg_tuned, X_test, y_test,cv=kf).mean()*100))"
      ],
      "execution_count": null,
      "outputs": [
        {
          "output_type": "stream",
          "text": [
            "Classification Report: \n",
            "               precision    recall  f1-score   support\n",
            "\n",
            "         0.0       0.74      0.86      0.80       847\n",
            "         1.0       0.75      0.56      0.64       862\n",
            "         2.0       0.66      0.62      0.64       796\n",
            "         3.0       0.62      0.61      0.62       828\n",
            "         4.0       0.73      0.77      0.75       848\n",
            "         5.0       0.88      0.97      0.93       830\n",
            "         6.0       0.77      0.85      0.81       834\n",
            "         7.0       0.74      0.59      0.66       839\n",
            "         8.0       0.68      0.63      0.65       818\n",
            "         9.0       0.59      0.56      0.57       817\n",
            "        10.0       0.74      0.85      0.79       881\n",
            "        11,0       0.93      0.98      0.96       814\n",
            "\n",
            "    accuracy                           0.74     10014\n",
            "   macro avg       0.74      0.74      0.73     10014\n",
            "weighted avg       0.74      0.74      0.73     10014\n",
            "\n",
            "Confusion Matrix: \n",
            "\n",
            " [[729 118   0   0   0   0   0   0   0   0   0   0]\n",
            " [223 482 155   2   0   0   0   0   0   0   0   0]\n",
            " [ 32  42 496 220   6   0   0   0   0   0   0   0]\n",
            " [  0   0 104 505 219   0   0   0   0   0   0   0]\n",
            " [  0   0   0  87 655 106   0   0   0   0   0   0]\n",
            " [  0   0   0   0  22 808   0   0   0   0   0   0]\n",
            " [  0   0   0   0   0   0 708 126   0   0   0   0]\n",
            " [  0   0   0   0   0   0 215 497 127   0   0   0]\n",
            " [  0   0   0   0   0   0   2  53 514 248   1   0]\n",
            " [  0   0   0   0   0   0   0   0 114 454 249   0]\n",
            " [  0   0   0   0   0   0   0   0   0  74 751  56]\n",
            " [  0   0   0   0   0   0   0   0   0   0  14 800]]\n",
            "\n",
            "Fitting 5 folds for each of 3 candidates, totalling 15 fits\n"
          ],
          "name": "stdout"
        },
        {
          "output_type": "stream",
          "text": [
            "[Parallel(n_jobs=-1)]: Using backend LokyBackend with 2 concurrent workers.\n",
            "[Parallel(n_jobs=-1)]: Done  15 out of  15 | elapsed:   38.5s finished\n"
          ],
          "name": "stderr"
        },
        {
          "output_type": "stream",
          "text": [
            "Fitting 5 folds for each of 3 candidates, totalling 15 fits\n"
          ],
          "name": "stdout"
        },
        {
          "output_type": "stream",
          "text": [
            "[Parallel(n_jobs=-1)]: Using backend LokyBackend with 2 concurrent workers.\n",
            "[Parallel(n_jobs=-1)]: Done  15 out of  15 | elapsed:   39.6s finished\n"
          ],
          "name": "stderr"
        },
        {
          "output_type": "stream",
          "text": [
            "Fitting 5 folds for each of 3 candidates, totalling 15 fits\n"
          ],
          "name": "stdout"
        },
        {
          "output_type": "stream",
          "text": [
            "[Parallel(n_jobs=-1)]: Using backend LokyBackend with 2 concurrent workers.\n",
            "[Parallel(n_jobs=-1)]: Done  15 out of  15 | elapsed:   38.6s finished\n"
          ],
          "name": "stderr"
        },
        {
          "output_type": "stream",
          "text": [
            "Fitting 5 folds for each of 3 candidates, totalling 15 fits\n"
          ],
          "name": "stdout"
        },
        {
          "output_type": "stream",
          "text": [
            "[Parallel(n_jobs=-1)]: Using backend LokyBackend with 2 concurrent workers.\n",
            "[Parallel(n_jobs=-1)]: Done  15 out of  15 | elapsed:   37.8s finished\n"
          ],
          "name": "stderr"
        },
        {
          "output_type": "stream",
          "text": [
            "Fitting 5 folds for each of 3 candidates, totalling 15 fits\n"
          ],
          "name": "stdout"
        },
        {
          "output_type": "stream",
          "text": [
            "[Parallel(n_jobs=-1)]: Using backend LokyBackend with 2 concurrent workers.\n",
            "[Parallel(n_jobs=-1)]: Done  15 out of  15 | elapsed:   38.0s finished\n"
          ],
          "name": "stderr"
        },
        {
          "output_type": "stream",
          "text": [
            "Logistic Regression accuracy: 71.45 % \n",
            "\n"
          ],
          "name": "stdout"
        }
      ]
    },
    {
      "cell_type": "markdown",
      "metadata": {
        "id": "_VK59JUQGy5i"
      },
      "source": [
        "The overall accuracy of the Logistic Regression model is 71.45%. The overall accuracy is moderate and the computational effort is low.  From the classification report it can be seen that the data representing each class is evenly distributed across the classes. This reduces the probability of bias of the model when calculating the probabilities of each predicted value."
      ]
    },
    {
      "cell_type": "code",
      "metadata": {
        "colab": {
          "base_uri": "https://localhost:8080/",
          "height": 404
        },
        "id": "VjHhQZrCj98c",
        "outputId": "3208e559-b840-43fe-cedd-6f47e276fad5"
      },
      "source": [
        "import seaborn as sns\r\n",
        "\r\n",
        "#plotting a confusion matrix\r\n",
        "labels = ['Not Churned', 'Churned']\r\n",
        "plt.figure(figsize=(8,6))\r\n",
        "ax= plt.subplot()\r\n",
        "sns.heatmap(confusion_lr,cmap=\"Blues\",annot=True,fmt='.1f', ax = ax); #annot=True to annotate cells\r\n",
        "\r\n",
        "# labels, title and ticks\r\n",
        "ax.set_xticklabels(labels)\r\n",
        "ax.set_yticklabels(labels)\r\n",
        "ax.set_xlabel('Predicted labels');ax.set_ylabel('True labels'); \r\n",
        "ax.set_title('Confusion Matrix Logistic Regression');"
      ],
      "execution_count": null,
      "outputs": [
        {
          "output_type": "display_data",
          "data": {
            "image/png": "[encoded data removed]",
            "text/plain": [
              "<Figure size 576x432 with 2 Axes>"
            ]
          },
          "metadata": {
            "tags": []
          }
        }
      ]
    },
    {
      "cell_type": "markdown",
      "metadata": {
        "id": "nrZF5db9kdai"
      },
      "source": [
        "K-Nearest neighbors\r\n",
        "\r\n",
        "A K-Neighbors model has been implemented and tuned on the train set. The parameters tuned are:\r\n",
        "\r\n",
        "Number of neighbors which will determine the number of points used to classify into each of the categories the data points\r\n",
        "Two weighting systems to be tested: uniform and distance.\r\n",
        "The number of neighbors when tuning the model has a range from 1 to 100."
      ]
    },
    {
      "cell_type": "code",
      "metadata": {
        "colab": {
          "base_uri": "https://localhost:8080/"
        },
        "id": "wRPmOkGdkgWD",
        "outputId": "96efd71a-a26a-408a-e99b-a8c064e7d361"
      },
      "source": [
        "#Train model\r\n",
        "# Initialize and fit the model.\r\n",
        "KNN = KNeighborsClassifier()\r\n",
        "\r\n",
        "#Tune hyperparameters\r\n",
        "#Create range of values to fit parameters\r\n",
        "k_range = list(range(1, 100))\r\n",
        "weights = ['uniform', 'distance']\r\n",
        "\r\n",
        "#Fit parameters\r\n",
        "parameters = {'n_neighbors': k_range, 'weights': weights}\r\n",
        "\r\n",
        "#Fit parameters using gridsearch\r\n",
        "KNN_tuned = GridSearchCV(KNN, param_grid=parameters, n_jobs = -1, cv=kf, verbose = 1)\r\n",
        "\r\n",
        "#Fit the tunned classifier in the training space\r\n",
        "KNN_tuned.fit(X_train, y_train)\r\n",
        "\r\n",
        "# Examine the best model\r\n",
        "print(KNN_tuned.best_score_)\r\n",
        "print(KNN_tuned.best_params_)\r\n",
        "print(KNN_tuned.best_estimator_)"
      ],
      "execution_count": null,
      "outputs": [
        {
          "output_type": "stream",
          "text": [
            "Fitting 5 folds for each of 198 candidates, totalling 990 fits\n"
          ],
          "name": "stdout"
        },
        {
          "output_type": "stream",
          "text": [
            "[Parallel(n_jobs=-1)]: Using backend LokyBackend with 2 concurrent workers.\n",
            "[Parallel(n_jobs=-1)]: Done  46 tasks      | elapsed:    7.1s\n",
            "[Parallel(n_jobs=-1)]: Done 196 tasks      | elapsed:   27.0s\n",
            "[Parallel(n_jobs=-1)]: Done 446 tasks      | elapsed:  1.1min\n",
            "[Parallel(n_jobs=-1)]: Done 796 tasks      | elapsed:  2.3min\n"
          ],
          "name": "stderr"
        },
        {
          "output_type": "stream",
          "text": [
            "0.9954730354534777\n",
            "{'n_neighbors': 1, 'weights': 'uniform'}\n",
            "KNeighborsClassifier(algorithm='auto', leaf_size=30, metric='minkowski',\n",
            "                     metric_params=None, n_jobs=None, n_neighbors=1, p=2,\n",
            "                     weights='uniform')\n"
          ],
          "name": "stdout"
        },
        {
          "output_type": "stream",
          "text": [
            "[Parallel(n_jobs=-1)]: Done 990 out of 990 | elapsed:  3.1min finished\n"
          ],
          "name": "stderr"
        }
      ]
    },
    {
      "cell_type": "markdown",
      "metadata": {
        "id": "bKySjR04IIQ0"
      },
      "source": [
        "The value for \"n_neighbors\" is the smallest of the values chosen to tune the parameters of the model. In this case the gridsearch has been carried out with values ranging from 1 to 100.  1 was the value that was appearing as the best one in terms of overall accuracy. The choice fo distance as the weight instead of uniform is reasonable were the points are weighted by the inverse of their distance. "
      ]
    },
    {
      "cell_type": "code",
      "metadata": {
        "colab": {
          "base_uri": "https://localhost:8080/"
        },
        "id": "6Sv5KuebmWqh",
        "outputId": "73ce2c5f-4616-434e-dfca-6665770b8c92"
      },
      "source": [
        "#Once the model has been trained test it on the test dataset\r\n",
        "KNN_tuned.fit(X_test, y_test)\r\n",
        "\r\n",
        "# Predict on test set\r\n",
        "y_predtest_knn = KNN_tuned.predict(X_test)"
      ],
      "execution_count": null,
      "outputs": [
        {
          "output_type": "stream",
          "text": [
            "Fitting 5 folds for each of 198 candidates, totalling 990 fits\n"
          ],
          "name": "stdout"
        },
        {
          "output_type": "stream",
          "text": [
            "[Parallel(n_jobs=-1)]: Using backend LokyBackend with 2 concurrent workers.\n",
            "[Parallel(n_jobs=-1)]: Done 160 tasks      | elapsed:    6.7s\n",
            "[Parallel(n_jobs=-1)]: Done 760 tasks      | elapsed:   42.5s\n",
            "[Parallel(n_jobs=-1)]: Done 990 out of 990 | elapsed:  1.0min finished\n"
          ],
          "name": "stderr"
        }
      ]
    },
    {
      "cell_type": "markdown",
      "metadata": {
        "id": "pIzi7-kII_23"
      },
      "source": [
        "The tuned model is fit and run on the test set and the computational effort is measured considering the time required to fit the test set. It took 1 min to fit the test set. "
      ]
    },
    {
      "cell_type": "code",
      "metadata": {
        "colab": {
          "base_uri": "https://localhost:8080/"
        },
        "id": "M1y1KkBNmr97",
        "outputId": "4785c81a-88a4-4711-e319-fa39082d18fc"
      },
      "source": [
        "#Evaluation of the model (testing)\r\n",
        "\r\n",
        "#Define targets\r\n",
        "target_names = ['0.0', '1.0', '2.0', '3.0', '4.0', '5.0', '6.0', '7.0', '8.0', '9.0', '10.0', '11.0']\r\n",
        "\r\n",
        "#Print classification report\r\n",
        "print(('Classification Report KNN: \\n {}\\n').format(classification_report(y_test, y_predtest_knn, target_names=target_names)))\r\n",
        "\r\n",
        "#Calculate confusion matrix\r\n",
        "confusion_knn = confusion_matrix(y_test, y_predtest_knn)\r\n",
        "\r\n",
        "#Print confusion matrix\r\n",
        "print(('Confusion Matrix KNN: \\n\\n {}\\n\\n').format(confusion_knn))\r\n",
        "\r\n",
        "#Print overall accuracy\r\n",
        "print(('KNN accuracy: {0:.2f} %\\n').format(cross_val_score(KNN_tuned, X_test, y_test,cv=kf).mean()*100))"
      ],
      "execution_count": null,
      "outputs": [
        {
          "output_type": "stream",
          "text": [
            "Classification Report KNN: \n",
            "               precision    recall  f1-score   support\n",
            "\n",
            "         0.0       1.00      1.00      1.00       847\n",
            "         1.0       1.00      1.00      1.00       862\n",
            "         2.0       1.00      1.00      1.00       796\n",
            "         3.0       1.00      1.00      1.00       828\n",
            "         4.0       1.00      1.00      1.00       848\n",
            "         5.0       1.00      1.00      1.00       830\n",
            "         6.0       1.00      1.00      1.00       834\n",
            "         7.0       1.00      1.00      1.00       839\n",
            "         8.0       1.00      1.00      1.00       818\n",
            "         9.0       1.00      1.00      1.00       817\n",
            "        10.0       1.00      1.00      1.00       881\n",
            "        11.0       1.00      1.00      1.00       814\n",
            "\n",
            "    accuracy                           1.00     10014\n",
            "   macro avg       1.00      1.00      1.00     10014\n",
            "weighted avg       1.00      1.00      1.00     10014\n",
            "\n",
            "\n",
            "Confusion Matrix KNN: \n",
            "\n",
            " [[847   0   0   0   0   0   0   0   0   0   0   0]\n",
            " [  0 862   0   0   0   0   0   0   0   0   0   0]\n",
            " [  0   0 796   0   0   0   0   0   0   0   0   0]\n",
            " [  0   0   0 828   0   0   0   0   0   0   0   0]\n",
            " [  0   0   0   0 848   0   0   0   0   0   0   0]\n",
            " [  0   0   0   0   0 830   0   0   0   0   0   0]\n",
            " [  0   0   0   0   0   0 834   0   0   0   0   0]\n",
            " [  0   0   0   0   0   0   0 839   0   0   0   0]\n",
            " [  0   0   0   0   0   0   0   0 818   0   0   0]\n",
            " [  0   0   0   0   0   0   0   0   0 817   0   0]\n",
            " [  0   0   0   0   0   0   0   0   0   0 881   0]\n",
            " [  0   0   0   0   0   0   0   0   0   0   0 814]]\n",
            "\n",
            "\n",
            "Fitting 5 folds for each of 198 candidates, totalling 990 fits\n"
          ],
          "name": "stdout"
        },
        {
          "output_type": "stream",
          "text": [
            "[Parallel(n_jobs=-1)]: Using backend LokyBackend with 2 concurrent workers.\n",
            "[Parallel(n_jobs=-1)]: Done 164 tasks      | elapsed:    5.7s\n",
            "[Parallel(n_jobs=-1)]: Done 764 tasks      | elapsed:   34.7s\n",
            "[Parallel(n_jobs=-1)]: Done 990 out of 990 | elapsed:   49.0s finished\n",
            "[Parallel(n_jobs=-1)]: Using backend LokyBackend with 2 concurrent workers.\n"
          ],
          "name": "stderr"
        },
        {
          "output_type": "stream",
          "text": [
            "Fitting 5 folds for each of 198 candidates, totalling 990 fits\n"
          ],
          "name": "stdout"
        },
        {
          "output_type": "stream",
          "text": [
            "[Parallel(n_jobs=-1)]: Done 164 tasks      | elapsed:    5.6s\n",
            "[Parallel(n_jobs=-1)]: Done 764 tasks      | elapsed:   34.6s\n",
            "[Parallel(n_jobs=-1)]: Done 990 out of 990 | elapsed:   48.7s finished\n",
            "[Parallel(n_jobs=-1)]: Using backend LokyBackend with 2 concurrent workers.\n"
          ],
          "name": "stderr"
        },
        {
          "output_type": "stream",
          "text": [
            "Fitting 5 folds for each of 198 candidates, totalling 990 fits\n"
          ],
          "name": "stdout"
        },
        {
          "output_type": "stream",
          "text": [
            "[Parallel(n_jobs=-1)]: Done 164 tasks      | elapsed:    5.6s\n",
            "[Parallel(n_jobs=-1)]: Done 764 tasks      | elapsed:   34.6s\n",
            "[Parallel(n_jobs=-1)]: Done 990 out of 990 | elapsed:   48.7s finished\n",
            "[Parallel(n_jobs=-1)]: Using backend LokyBackend with 2 concurrent workers.\n"
          ],
          "name": "stderr"
        },
        {
          "output_type": "stream",
          "text": [
            "Fitting 5 folds for each of 198 candidates, totalling 990 fits\n"
          ],
          "name": "stdout"
        },
        {
          "output_type": "stream",
          "text": [
            "[Parallel(n_jobs=-1)]: Done 164 tasks      | elapsed:    5.6s\n",
            "[Parallel(n_jobs=-1)]: Done 764 tasks      | elapsed:   34.8s\n",
            "[Parallel(n_jobs=-1)]: Done 990 out of 990 | elapsed:   48.9s finished\n",
            "[Parallel(n_jobs=-1)]: Using backend LokyBackend with 2 concurrent workers.\n"
          ],
          "name": "stderr"
        },
        {
          "output_type": "stream",
          "text": [
            "Fitting 5 folds for each of 198 candidates, totalling 990 fits\n"
          ],
          "name": "stdout"
        },
        {
          "output_type": "stream",
          "text": [
            "[Parallel(n_jobs=-1)]: Done 164 tasks      | elapsed:    5.7s\n",
            "[Parallel(n_jobs=-1)]: Done 764 tasks      | elapsed:   34.6s\n"
          ],
          "name": "stderr"
        },
        {
          "output_type": "stream",
          "text": [
            "KNN accuracy: 97.85 %\n",
            "\n"
          ],
          "name": "stdout"
        },
        {
          "output_type": "stream",
          "text": [
            "[Parallel(n_jobs=-1)]: Done 990 out of 990 | elapsed:   48.8s finished\n"
          ],
          "name": "stderr"
        }
      ]
    },
    {
      "cell_type": "markdown",
      "metadata": {
        "id": "BdlHDFI-Jhly"
      },
      "source": [
        "The overall accuracy is hight at 97.85%. The classification report and confusion matrix show overfitting as there will be some data points misclassified. "
      ]
    },
    {
      "cell_type": "code",
      "metadata": {
        "colab": {
          "base_uri": "https://localhost:8080/",
          "height": 404
        },
        "id": "TKBsCqV6nZxD",
        "outputId": "65d27ade-8168-41ca-f48b-ae4b00e87856"
      },
      "source": [
        "import seaborn as sns\r\n",
        "\r\n",
        "#plotting a confusion matrix\r\n",
        "labels = ['Not Churned', 'Churned']\r\n",
        "plt.figure(figsize=(8,6))\r\n",
        "ax= plt.subplot()\r\n",
        "sns.heatmap(confusion_knn,cmap=\"Blues\",annot=True,fmt='.1f', ax = ax); #annot=True to annotate cells\r\n",
        "\r\n",
        "# labels, title and ticks\r\n",
        "ax.set_xticklabels(labels)\r\n",
        "ax.set_yticklabels(labels)\r\n",
        "ax.set_xlabel('Predicted labels');ax.set_ylabel('True labels'); \r\n",
        "ax.set_title('Confusion Matrix K-Nearest neighbors');"
      ],
      "execution_count": null,
      "outputs": [
        {
          "output_type": "display_data",
          "data": {
            "image/png": "[encoded data removed]",
            "text/plain": [
              "<Figure size 576x432 with 2 Axes>"
            ]
          },
          "metadata": {
            "tags": []
          }
        }
      ]
    },
    {
      "cell_type": "markdown",
      "metadata": {
        "id": "2-62yPNZxCzH"
      },
      "source": [
        "Random Forest Model\r\n",
        "\r\n",
        "The hyperparamters of the random forest model will be tuned. The parameters to be tuned are:\r\n",
        "\r\n",
        "1.N_estimators determining the number of trees that will be part of the algorithm.\r\n",
        "2.Max depth determining the size of the tree."
      ]
    },
    {
      "cell_type": "code",
      "metadata": {
        "colab": {
          "base_uri": "https://localhost:8080/"
        },
        "id": "i8vttRTU3P_1",
        "outputId": "3e70960f-df33-4e19-c463-8ee4c131d883"
      },
      "source": [
        "# Initialize and fit the model.\r\n",
        "rf = RandomForestClassifier()\r\n",
        "\r\n",
        "#Tune hyperparameters\r\n",
        "#Create range of values to fit parameters\r\n",
        "n_estimators_param = np.arange(50,250,10)\r\n",
        "max_depth_param = np.arange(1,50,5)\r\n",
        "\r\n",
        "#Fit parameters\r\n",
        "parameters = {'n_estimators': n_estimators_param, 'max_depth': max_depth_param}\r\n",
        "\r\n",
        "#Fit parameters using gridsearch\r\n",
        "rf_tuned = GridSearchCV(rf, param_grid=parameters,  n_jobs = -1, cv=kf, verbose = 1)\r\n",
        "\r\n",
        "#Fit the tunned classifier in the training space\r\n",
        "rf_tuned.fit(X_train, y_train)\r\n",
        "\r\n",
        "# Examine the best model\r\n",
        "print(rf_tuned.best_score_)\r\n",
        "print(rf_tuned.best_params_)\r\n",
        "print(rf_tuned.best_estimator_)"
      ],
      "execution_count": null,
      "outputs": [
        {
          "output_type": "stream",
          "text": [
            "Fitting 5 folds for each of 200 candidates, totalling 1000 fits\n"
          ],
          "name": "stdout"
        },
        {
          "output_type": "stream",
          "text": [
            "[Parallel(n_jobs=-1)]: Using backend LokyBackend with 2 concurrent workers.\n",
            "[Parallel(n_jobs=-1)]: Done  46 tasks      | elapsed:   32.5s\n",
            "[Parallel(n_jobs=-1)]: Done 196 tasks      | elapsed:  5.9min\n",
            "[Parallel(n_jobs=-1)]: Done 446 tasks      | elapsed: 22.4min\n",
            "[Parallel(n_jobs=-1)]: Done 796 tasks      | elapsed: 50.3min\n",
            "[Parallel(n_jobs=-1)]: Done 1000 out of 1000 | elapsed: 66.1min finished\n"
          ],
          "name": "stderr"
        },
        {
          "output_type": "stream",
          "text": [
            "0.9963051483582438\n",
            "{'max_depth': 26, 'n_estimators': 160}\n",
            "RandomForestClassifier(bootstrap=True, ccp_alpha=0.0, class_weight=None,\n",
            "                       criterion='gini', max_depth=26, max_features='auto',\n",
            "                       max_leaf_nodes=None, max_samples=None,\n",
            "                       min_impurity_decrease=0.0, min_impurity_split=None,\n",
            "                       min_samples_leaf=1, min_samples_split=2,\n",
            "                       min_weight_fraction_leaf=0.0, n_estimators=160,\n",
            "                       n_jobs=None, oob_score=False, random_state=None,\n",
            "                       verbose=0, warm_start=False)\n"
          ],
          "name": "stdout"
        }
      ]
    },
    {
      "cell_type": "markdown",
      "metadata": {
        "id": "vv2DsjYlKnXr"
      },
      "source": [
        "The number of trees used is 160 being the depth of each tree 26. After several simulations, the parameters have stayed stable around these values. The random forest algorithm is an ensemble algorithm that works bringing together different decision trees and being more powerful than an individual decision tree."
      ]
    },
    {
      "cell_type": "code",
      "metadata": {
        "colab": {
          "base_uri": "https://localhost:8080/"
        },
        "id": "MR1kKA8QoWSb",
        "outputId": "d7d1b252-c049-4b17-d6cf-f0c6ca7f695c"
      },
      "source": [
        "#Once the model has been trained test it on the test dataset\r\n",
        "rf_tuned.fit(X_test, y_test)\r\n",
        "\r\n",
        "# Predict on test set\r\n",
        "y_predtest_rf = rf_tuned.predict(X_test)"
      ],
      "execution_count": null,
      "outputs": [
        {
          "output_type": "stream",
          "text": [
            "Fitting 5 folds for each of 200 candidates, totalling 1000 fits\n"
          ],
          "name": "stdout"
        },
        {
          "output_type": "stream",
          "text": [
            "[Parallel(n_jobs=-1)]: Using backend LokyBackend with 2 concurrent workers.\n",
            "[Parallel(n_jobs=-1)]: Done  46 tasks      | elapsed:   13.4s\n",
            "[Parallel(n_jobs=-1)]: Done 196 tasks      | elapsed:  2.4min\n",
            "[Parallel(n_jobs=-1)]: Done 446 tasks      | elapsed:  8.6min\n",
            "[Parallel(n_jobs=-1)]: Done 796 tasks      | elapsed: 19.0min\n",
            "[Parallel(n_jobs=-1)]: Done 1000 out of 1000 | elapsed: 24.9min finished\n"
          ],
          "name": "stderr"
        }
      ]
    },
    {
      "cell_type": "markdown",
      "metadata": {
        "id": "5lr-eBdcK2ct"
      },
      "source": [
        "Once the parameters are tuned, the model is fit and run on the test set. As it can be seen from the hyperparameter tuning, the model requires much more time (computational effort) than the previous models. The increase in accuracy must justify the significant increase of time required to fit the model."
      ]
    },
    {
      "cell_type": "code",
      "metadata": {
        "colab": {
          "base_uri": "https://localhost:8080/"
        },
        "id": "bS3-BrnwAHBQ",
        "outputId": "6ec455d2-945d-4d67-9863-7a719ebf277e"
      },
      "source": [
        "#Evaluation of the model (testing)\r\n",
        "\r\n",
        "#Define the targets\r\n",
        "target_names = ['0.0', '1.0', '2.0', '3.0', '4.0', '5.0', '6.0', '7.0', '8.0', '9.0', '10.0', '11.0']\r\n",
        "\r\n",
        "#Print the classification report\r\n",
        "print(('Classification Report RF: \\n {}\\n').format(classification_report(y_test, y_predtest_rf,target_names=target_names)))\r\n",
        "\r\n",
        "#Calculate the confusion matrix\r\n",
        "confusion_rf = confusion_matrix(y_test, y_predtest_rf)\r\n",
        "\r\n",
        "#Print the confusion matrix\r\n",
        "print(('Confusion Matrix RF: \\n\\n {}\\n\\n').format(confusion_rf))\r\n",
        "\r\n",
        "#Print the overall accuracy\r\n",
        "print(('Random Forest accuracy RF: {0:.2f} %\\n').format(cross_val_score(rf_tuned, X_test, y_test, cv=kf).mean()*100))"
      ],
      "execution_count": null,
      "outputs": [
        {
          "output_type": "stream",
          "text": [
            "Classification Report RF: \n",
            "               precision    recall  f1-score   support\n",
            "\n",
            "         0.0       1.00      1.00      1.00       847\n",
            "         1.0       1.00      1.00      1.00       862\n",
            "         2.0       1.00      1.00      1.00       796\n",
            "         3.0       1.00      1.00      1.00       828\n",
            "         4.0       1.00      1.00      1.00       848\n",
            "         5.0       1.00      1.00      1.00       830\n",
            "         6.0       1.00      1.00      1.00       834\n",
            "         7.0       1.00      1.00      1.00       839\n",
            "         8.0       1.00      1.00      1.00       818\n",
            "         9.0       1.00      1.00      1.00       817\n",
            "        10.0       1.00      1.00      1.00       881\n",
            "        11.0       1.00      1.00      1.00       814\n",
            "\n",
            "    accuracy                           1.00     10014\n",
            "   macro avg       1.00      1.00      1.00     10014\n",
            "weighted avg       1.00      1.00      1.00     10014\n",
            "\n",
            "\n",
            "Confusion Matrix RF: \n",
            "\n",
            " [[847   0   0   0   0   0   0   0   0   0   0   0]\n",
            " [  0 862   0   0   0   0   0   0   0   0   0   0]\n",
            " [  0   0 796   0   0   0   0   0   0   0   0   0]\n",
            " [  0   0   0 828   0   0   0   0   0   0   0   0]\n",
            " [  0   0   0   0 848   0   0   0   0   0   0   0]\n",
            " [  0   0   0   0   0 830   0   0   0   0   0   0]\n",
            " [  0   0   0   0   0   0 834   0   0   0   0   0]\n",
            " [  0   0   0   0   0   0   0 839   0   0   0   0]\n",
            " [  0   0   0   0   0   0   0   0 818   0   0   0]\n",
            " [  0   0   0   0   0   0   0   0   0 817   0   0]\n",
            " [  0   0   0   0   0   0   0   0   0   0 881   0]\n",
            " [  0   0   0   0   0   0   0   0   0   0   0 814]]\n",
            "\n",
            "\n",
            "Fitting 5 folds for each of 200 candidates, totalling 1000 fits\n"
          ],
          "name": "stdout"
        },
        {
          "output_type": "stream",
          "text": [
            "[Parallel(n_jobs=-1)]: Using backend LokyBackend with 2 concurrent workers.\n",
            "[Parallel(n_jobs=-1)]: Done  46 tasks      | elapsed:   12.0s\n",
            "[Parallel(n_jobs=-1)]: Done 196 tasks      | elapsed:  2.1min\n",
            "[Parallel(n_jobs=-1)]: Done 446 tasks      | elapsed:  7.3min\n",
            "[Parallel(n_jobs=-1)]: Done 796 tasks      | elapsed: 16.0min\n",
            "[Parallel(n_jobs=-1)]: Done 1000 out of 1000 | elapsed: 21.0min finished\n"
          ],
          "name": "stderr"
        },
        {
          "output_type": "stream",
          "text": [
            "Fitting 5 folds for each of 200 candidates, totalling 1000 fits\n"
          ],
          "name": "stdout"
        },
        {
          "output_type": "stream",
          "text": [
            "[Parallel(n_jobs=-1)]: Using backend LokyBackend with 2 concurrent workers.\n",
            "[Parallel(n_jobs=-1)]: Done  46 tasks      | elapsed:   11.9s\n",
            "[Parallel(n_jobs=-1)]: Done 196 tasks      | elapsed:  2.1min\n",
            "[Parallel(n_jobs=-1)]: Done 446 tasks      | elapsed:  7.2min\n",
            "[Parallel(n_jobs=-1)]: Done 796 tasks      | elapsed: 15.9min\n",
            "[Parallel(n_jobs=-1)]: Done 1000 out of 1000 | elapsed: 20.8min finished\n"
          ],
          "name": "stderr"
        },
        {
          "output_type": "stream",
          "text": [
            "Fitting 5 folds for each of 200 candidates, totalling 1000 fits\n"
          ],
          "name": "stdout"
        },
        {
          "output_type": "stream",
          "text": [
            "[Parallel(n_jobs=-1)]: Using backend LokyBackend with 2 concurrent workers.\n",
            "[Parallel(n_jobs=-1)]: Done  46 tasks      | elapsed:   12.5s\n",
            "[Parallel(n_jobs=-1)]: Done 196 tasks      | elapsed:  2.1min\n",
            "[Parallel(n_jobs=-1)]: Done 446 tasks      | elapsed:  7.2min\n",
            "[Parallel(n_jobs=-1)]: Done 796 tasks      | elapsed: 15.8min\n",
            "[Parallel(n_jobs=-1)]: Done 1000 out of 1000 | elapsed: 20.7min finished\n"
          ],
          "name": "stderr"
        },
        {
          "output_type": "stream",
          "text": [
            "Fitting 5 folds for each of 200 candidates, totalling 1000 fits\n"
          ],
          "name": "stdout"
        },
        {
          "output_type": "stream",
          "text": [
            "[Parallel(n_jobs=-1)]: Using backend LokyBackend with 2 concurrent workers.\n",
            "[Parallel(n_jobs=-1)]: Done  46 tasks      | elapsed:   11.8s\n",
            "[Parallel(n_jobs=-1)]: Done 196 tasks      | elapsed:  2.1min\n",
            "[Parallel(n_jobs=-1)]: Done 446 tasks      | elapsed:  7.2min\n",
            "[Parallel(n_jobs=-1)]: Done 796 tasks      | elapsed: 15.7min\n",
            "[Parallel(n_jobs=-1)]: Done 1000 out of 1000 | elapsed: 20.5min finished\n"
          ],
          "name": "stderr"
        },
        {
          "output_type": "stream",
          "text": [
            "Fitting 5 folds for each of 200 candidates, totalling 1000 fits\n"
          ],
          "name": "stdout"
        },
        {
          "output_type": "stream",
          "text": [
            "[Parallel(n_jobs=-1)]: Using backend LokyBackend with 2 concurrent workers.\n",
            "[Parallel(n_jobs=-1)]: Done  46 tasks      | elapsed:   11.9s\n",
            "[Parallel(n_jobs=-1)]: Done 196 tasks      | elapsed:  2.1min\n",
            "[Parallel(n_jobs=-1)]: Done 446 tasks      | elapsed:  7.2min\n",
            "[Parallel(n_jobs=-1)]: Done 796 tasks      | elapsed: 15.8min\n",
            "[Parallel(n_jobs=-1)]: Done 1000 out of 1000 | elapsed: 20.7min finished\n"
          ],
          "name": "stderr"
        },
        {
          "output_type": "stream",
          "text": [
            "Random Forest accuracy RF: 98.04 %\n",
            "\n"
          ],
          "name": "stdout"
        }
      ]
    },
    {
      "cell_type": "markdown",
      "metadata": {
        "id": "Q2nRYU9tLC4t"
      },
      "source": [
        "The overall accuracy is high at 98.04%. But there is a significant increase in the computational effort required by this algorithm as it was expected. The classification report and the classification matrix present overfitting as the precision in all cases is one and there are no misclassified elements. To avoid this overfitting problem, cross validation has been performed on the random forest but still couldn't eliminate the overfitting problem."
      ]
    },
    {
      "cell_type": "code",
      "metadata": {
        "colab": {
          "base_uri": "https://localhost:8080/",
          "height": 404
        },
        "id": "weObglMOSYLp",
        "outputId": "6927c34e-443e-4472-e2ad-076178afc038"
      },
      "source": [
        "import seaborn as sns\r\n",
        "\r\n",
        "#plotting a confusion matrix\r\n",
        "labels = ['Not Churned', 'Churned']\r\n",
        "plt.figure(figsize=(8,6))\r\n",
        "ax= plt.subplot()\r\n",
        "sns.heatmap(confusion_rf,cmap=\"Blues\",annot=True,fmt='.1f', ax = ax); #annot=True to annotate cells\r\n",
        "\r\n",
        "# labels, title and ticks\r\n",
        "ax.set_xticklabels(labels)\r\n",
        "ax.set_yticklabels(labels)\r\n",
        "ax.set_xlabel('Predicted labels');ax.set_ylabel('True labels'); \r\n",
        "ax.set_title('Confusion Matrix Random Forests');"
      ],
      "execution_count": null,
      "outputs": [
        {
          "output_type": "display_data",
          "data": {
            "image/png": "[encoded data removed]",
            "text/plain": [
              "<Figure size 576x432 with 2 Axes>"
            ]
          },
          "metadata": {
            "tags": [],
            "needs_background": "light"
          }
        }
      ]
    },
    {
      "cell_type": "markdown",
      "metadata": {
        "id": "ZHHayYVkRBWX"
      },
      "source": [
        "Gradient Boosting Model\r\n",
        "The hyperparamters of the gradient boosting classifier that are tuned are the same than in the case of the random forest. The parameters to be tuned are \r\n",
        "\r\n",
        "1. N_estimators determining the number of trees that will be part of the algorithm.\r\n",
        "2. Max depth determining the size of the tree."
      ]
    },
    {
      "cell_type": "code",
      "metadata": {
        "id": "lsBQSNpPdd1c",
        "colab": {
          "base_uri": "https://localhost:8080/"
        },
        "outputId": "b0e17cf2-f2dd-4dfe-b07c-38e3d88f013a"
      },
      "source": [
        "# Train model\r\n",
        "GBC = GradientBoostingClassifier()\r\n",
        "\r\n",
        "#Tune hyperparameters\r\n",
        "#Create range of values to fit parameters\r\n",
        "\r\n",
        "n_estimators_param = np.arange(120,200,10)\r\n",
        "max_depth_param = np.arange(30,80,10)\r\n",
        "\r\n",
        "#Fit parameters\r\n",
        "parameters = {'n_estimators': n_estimators_param, 'max_depth': max_depth_param}\r\n",
        "\r\n",
        "#Fit parameters\r\n",
        "GBC_tuned = GridSearchCV(GBC, param_grid=parameters, n_jobs = -1, cv=kf, verbose = 1)\r\n",
        "\r\n",
        "#Fit the tunned model\r\n",
        "GBC_tuned.fit(X_train, y_train)\r\n",
        "\r\n",
        "#The best hyper parameters set\r\n",
        "# Examine the best model\r\n",
        "print(GBC_tuned.best_score_)\r\n",
        "print(GBC_tuned.best_params_)\r\n",
        "print(GBC_tuned.best_estimator_)"
      ],
      "execution_count": 61,
      "outputs": [
        {
          "output_type": "stream",
          "text": [
            "Fitting 5 folds for each of 40 candidates, totalling 200 fits\n"
          ],
          "name": "stdout"
        },
        {
          "output_type": "stream",
          "text": [
            "[Parallel(n_jobs=-1)]: Using backend LokyBackend with 2 concurrent workers.\n",
            "[Parallel(n_jobs=-1)]: Done  46 tasks      | elapsed: 19.5min\n",
            "[Parallel(n_jobs=-1)]: Done 196 tasks      | elapsed: 83.2min\n",
            "[Parallel(n_jobs=-1)]: Done 200 out of 200 | elapsed: 84.9min finished\n"
          ],
          "name": "stderr"
        },
        {
          "output_type": "stream",
          "text": [
            "0.9947073453290992\n",
            "{'max_depth': 40, 'n_estimators': 130}\n",
            "GradientBoostingClassifier(ccp_alpha=0.0, criterion='friedman_mse', init=None,\n",
            "                           learning_rate=0.1, loss='deviance', max_depth=40,\n",
            "                           max_features=None, max_leaf_nodes=None,\n",
            "                           min_impurity_decrease=0.0, min_impurity_split=None,\n",
            "                           min_samples_leaf=1, min_samples_split=2,\n",
            "                           min_weight_fraction_leaf=0.0, n_estimators=130,\n",
            "                           n_iter_no_change=None, presort='deprecated',\n",
            "                           random_state=None, subsample=1.0, tol=0.0001,\n",
            "                           validation_fraction=0.1, verbose=0,\n",
            "                           warm_start=False)\n"
          ],
          "name": "stdout"
        }
      ]
    },
    {
      "cell_type": "markdown",
      "metadata": {
        "id": "gC4OOw7GL9v_"
      },
      "source": [
        "In the case of Gradient boosting model, the data is passed over and over again tuning the parameters every time the data is passed. This is the reason why compared to the random forest it requires so much time. The number of trees is higher than the number of trees used in random forest and the depth is nearly doubling the one previously calculated for the random forest. In this case the computational effort has grown exponentially compared to other classifiers so it is expected that the accuracy is much higher than in the case of the logistic regression classifier to be a candidate for production."
      ]
    },
    {
      "cell_type": "code",
      "metadata": {
        "colab": {
          "base_uri": "https://localhost:8080/"
        },
        "id": "EnEjsyGiuhR6",
        "outputId": "3d73a78a-0ead-41e8-8ad6-b6153ba553a1"
      },
      "source": [
        "GBC_tuned.fit(X_test, y_test)\r\n",
        "\r\n",
        "# Predict on test set\r\n",
        "\r\n",
        "y_predtest_gb = GBC_tuned.predict(X_test)"
      ],
      "execution_count": 62,
      "outputs": [
        {
          "output_type": "stream",
          "text": [
            "Fitting 5 folds for each of 40 candidates, totalling 200 fits\n"
          ],
          "name": "stdout"
        },
        {
          "output_type": "stream",
          "text": [
            "[Parallel(n_jobs=-1)]: Using backend LokyBackend with 2 concurrent workers.\n",
            "[Parallel(n_jobs=-1)]: Done  46 tasks      | elapsed:  7.1min\n",
            "[Parallel(n_jobs=-1)]: Done 196 tasks      | elapsed: 30.5min\n",
            "[Parallel(n_jobs=-1)]: Done 200 out of 200 | elapsed: 31.1min finished\n"
          ],
          "name": "stderr"
        }
      ]
    },
    {
      "cell_type": "markdown",
      "metadata": {
        "id": "kbP1VdeOMi9t"
      },
      "source": [
        "In this case, the algorithm uses the gradient descendent algorithm to follow the steepest path that reduces the loss.As in the case of Random Forest, this classifier presents overfitting in the classification report and confusion matrix. To reduce the overfitting cross validation is applied."
      ]
    },
    {
      "cell_type": "code",
      "metadata": {
        "colab": {
          "base_uri": "https://localhost:8080/"
        },
        "id": "IaGvJ1TRvSO0",
        "outputId": "a6392749-d798-4946-c001-579a056a972f"
      },
      "source": [
        "#Evaluation of the model (testing)\r\n",
        "\r\n",
        "#Define the targets\r\n",
        "target_names = ['0.0', '1.0', '2.0', '3.0', '4.0', '5.0', '6.0', '7.0', '8.0', '9.0', '10.0', '11.0']\r\n",
        "\r\n",
        "#Print the classification report\r\n",
        "print(('Classification Report: \\n {}\\n').format(classification_report(y_test, y_predtest_gb,target_names=target_names)))\r\n",
        "\r\n",
        "#Calculate the confusion matrix\r\n",
        "confusion_GBC = confusion_matrix(y_test, y_predtest_gb)\r\n",
        "\r\n",
        "#Print the confusion matrix\r\n",
        "print(('Confusion Matrix: \\n\\n {}\\n\\n').format(confusion_GBC))\r\n",
        "\r\n",
        "#Print the overall accuracy\r\n",
        "print(( 'Gradient Boosting Classifier accuracy: {0:.2f} %\\n').format(cross_val_score(GBC_tuned, X_test, y_test,cv=kf).mean()*100))"
      ],
      "execution_count": 63,
      "outputs": [
        {
          "output_type": "stream",
          "text": [
            "Classification Report: \n",
            "               precision    recall  f1-score   support\n",
            "\n",
            "         0.0       1.00      1.00      1.00       847\n",
            "         1.0       1.00      1.00      1.00       862\n",
            "         2.0       1.00      1.00      1.00       796\n",
            "         3.0       1.00      1.00      1.00       828\n",
            "         4.0       1.00      1.00      1.00       848\n",
            "         5.0       1.00      1.00      1.00       830\n",
            "         6.0       1.00      1.00      1.00       834\n",
            "         7.0       1.00      1.00      1.00       839\n",
            "         8.0       1.00      1.00      1.00       818\n",
            "         9.0       1.00      1.00      1.00       817\n",
            "        10.0       1.00      1.00      1.00       881\n",
            "        11.0       1.00      1.00      1.00       814\n",
            "\n",
            "    accuracy                           1.00     10014\n",
            "   macro avg       1.00      1.00      1.00     10014\n",
            "weighted avg       1.00      1.00      1.00     10014\n",
            "\n",
            "\n",
            "Confusion Matrix: \n",
            "\n",
            " [[847   0   0   0   0   0   0   0   0   0   0   0]\n",
            " [  0 862   0   0   0   0   0   0   0   0   0   0]\n",
            " [  0   0 796   0   0   0   0   0   0   0   0   0]\n",
            " [  0   0   0 828   0   0   0   0   0   0   0   0]\n",
            " [  0   0   0   0 848   0   0   0   0   0   0   0]\n",
            " [  0   0   0   0   0 830   0   0   0   0   0   0]\n",
            " [  0   0   0   0   0   0 834   0   0   0   0   0]\n",
            " [  0   0   0   0   0   0   0 839   0   0   0   0]\n",
            " [  0   0   0   0   0   0   0   0 818   0   0   0]\n",
            " [  0   0   0   0   0   0   0   0   0 817   0   0]\n",
            " [  0   0   0   0   0   0   0   0   0   0 881   0]\n",
            " [  0   0   0   0   0   0   0   0   0   0   0 814]]\n",
            "\n",
            "\n",
            "Fitting 5 folds for each of 40 candidates, totalling 200 fits\n"
          ],
          "name": "stdout"
        },
        {
          "output_type": "stream",
          "text": [
            "[Parallel(n_jobs=-1)]: Using backend LokyBackend with 2 concurrent workers.\n",
            "[Parallel(n_jobs=-1)]: Done  46 tasks      | elapsed:  5.8min\n",
            "[Parallel(n_jobs=-1)]: Done 196 tasks      | elapsed: 25.0min\n",
            "[Parallel(n_jobs=-1)]: Done 200 out of 200 | elapsed: 25.5min finished\n"
          ],
          "name": "stderr"
        },
        {
          "output_type": "stream",
          "text": [
            "Fitting 5 folds for each of 40 candidates, totalling 200 fits\n"
          ],
          "name": "stdout"
        },
        {
          "output_type": "stream",
          "text": [
            "[Parallel(n_jobs=-1)]: Using backend LokyBackend with 2 concurrent workers.\n",
            "[Parallel(n_jobs=-1)]: Done  46 tasks      | elapsed:  5.7min\n",
            "[Parallel(n_jobs=-1)]: Done 196 tasks      | elapsed: 24.7min\n",
            "[Parallel(n_jobs=-1)]: Done 200 out of 200 | elapsed: 25.2min finished\n"
          ],
          "name": "stderr"
        },
        {
          "output_type": "stream",
          "text": [
            "Fitting 5 folds for each of 40 candidates, totalling 200 fits\n"
          ],
          "name": "stdout"
        },
        {
          "output_type": "stream",
          "text": [
            "[Parallel(n_jobs=-1)]: Using backend LokyBackend with 2 concurrent workers.\n",
            "[Parallel(n_jobs=-1)]: Done  46 tasks      | elapsed:  5.8min\n",
            "[Parallel(n_jobs=-1)]: Done 196 tasks      | elapsed: 25.0min\n",
            "[Parallel(n_jobs=-1)]: Done 200 out of 200 | elapsed: 25.5min finished\n"
          ],
          "name": "stderr"
        },
        {
          "output_type": "stream",
          "text": [
            "Fitting 5 folds for each of 40 candidates, totalling 200 fits\n"
          ],
          "name": "stdout"
        },
        {
          "output_type": "stream",
          "text": [
            "[Parallel(n_jobs=-1)]: Using backend LokyBackend with 2 concurrent workers.\n",
            "[Parallel(n_jobs=-1)]: Done  46 tasks      | elapsed:  5.8min\n",
            "[Parallel(n_jobs=-1)]: Done 196 tasks      | elapsed: 24.7min\n",
            "[Parallel(n_jobs=-1)]: Done 200 out of 200 | elapsed: 25.2min finished\n"
          ],
          "name": "stderr"
        },
        {
          "output_type": "stream",
          "text": [
            "Fitting 5 folds for each of 40 candidates, totalling 200 fits\n"
          ],
          "name": "stdout"
        },
        {
          "output_type": "stream",
          "text": [
            "[Parallel(n_jobs=-1)]: Using backend LokyBackend with 2 concurrent workers.\n",
            "[Parallel(n_jobs=-1)]: Done  46 tasks      | elapsed:  5.8min\n",
            "[Parallel(n_jobs=-1)]: Done 196 tasks      | elapsed: 24.8min\n",
            "[Parallel(n_jobs=-1)]: Done 200 out of 200 | elapsed: 25.3min finished\n"
          ],
          "name": "stderr"
        },
        {
          "output_type": "stream",
          "text": [
            "Gradient Boosting Classifier accuracy: 97.25 %\n",
            "\n"
          ],
          "name": "stdout"
        }
      ]
    },
    {
      "cell_type": "markdown",
      "metadata": {
        "id": "5cD4IOGDMVp3"
      },
      "source": [
        "The overall accuracy is high at 97.25%. The same principle regarding the feature selection applies than in the case of random forest so it is not strange to find in this case an overall accuracy close to the one obtained with random forest. The classification report and the classification matrix present overfitting as the precision in all cases is one and there are no misclassified elements. In the implementation of the descendent gradient over the random forest algorithm has not significantly improved the accuracy while it has increased the computational effort required to achieve it. Hence, this algorithm is not used for production."
      ]
    },
    {
      "cell_type": "code",
      "metadata": {
        "colab": {
          "base_uri": "https://localhost:8080/",
          "height": 404
        },
        "id": "1CDR-VT-VpMl",
        "outputId": "f5aa5a24-0885-4a0f-995e-9a2a592bf3e9"
      },
      "source": [
        "import seaborn as sns\r\n",
        "\r\n",
        "#plotting a confusion matrix\r\n",
        "labels = ['Not Churned', 'Churned']\r\n",
        "plt.figure(figsize=(8,6))\r\n",
        "ax= plt.subplot()\r\n",
        "sns.heatmap(confusion_GBC,cmap=\"Blues\",annot=True,fmt='.1f', ax = ax); #annot=True to annotate cells\r\n",
        "\r\n",
        "# labels, title and ticks\r\n",
        "ax.set_xticklabels(labels)\r\n",
        "ax.set_yticklabels(labels)\r\n",
        "ax.set_xlabel('Predicted labels');ax.set_ylabel('True labels'); \r\n",
        "ax.set_title('Confusion Matrix Gradient Boosting');"
      ],
      "execution_count": 64,
      "outputs": [
        {
          "output_type": "display_data",
          "data": {
            "image/png": "[encoded data removed]",
            "text/plain": [
              "<Figure size 576x432 with 2 Axes>"
            ]
          },
          "metadata": {
            "tags": [],
            "needs_background": "light"
          }
        }
      ]
    },
    {
      "cell_type": "markdown",
      "metadata": {
        "id": "WuXVlx1fWHFj"
      },
      "source": [
        "Support Vector Classifier (SVM) \r\n",
        "A support vector classifier has been set up and tuned on the training data and run on the test set. The hyperparameters that have been tuned are:\r\n",
        "\r\n",
        "C parameter, acting on the margin hyperplane having a bigger margin when C is smaller."
      ]
    },
    {
      "cell_type": "code",
      "metadata": {
        "colab": {
          "base_uri": "https://localhost:8080/"
        },
        "id": "RTNpC1_tWM2p",
        "outputId": "c7bee891-ce96-442c-959e-46e825e185e4"
      },
      "source": [
        "# Train model\r\n",
        "# Initialize and fit the model. \r\n",
        "svc = SVC(class_weight='balanced')\r\n",
        "\r\n",
        "#Tune hyperparameters\r\n",
        "#Create range of values to fit parameters\r\n",
        "\r\n",
        "C_param = [10,100,1000]\r\n",
        "\r\n",
        "#Fit parameters\r\n",
        "parameters = {'C': C_param}\r\n",
        "\r\n",
        "#Fit parameters using gridsearch\r\n",
        "svc_tuned = GridSearchCV(svc, param_grid=parameters, n_jobs = -1, cv=kf, verbose = 1)\r\n",
        "\r\n",
        "#Fit the tunned classifier in the training space\r\n",
        "svc_tuned.fit(X_train, y_train)\r\n",
        "\r\n",
        "#The best hyper parameters set\r\n",
        "print(svc_tuned.best_score_)\r\n",
        "print(svc_tuned.best_params_)\r\n",
        "print(svc_tuned.best_estimator_)"
      ],
      "execution_count": 129,
      "outputs": [
        {
          "output_type": "stream",
          "text": [
            "Fitting 5 folds for each of 3 candidates, totalling 15 fits\n"
          ],
          "name": "stdout"
        },
        {
          "output_type": "stream",
          "text": [
            "[Parallel(n_jobs=-1)]: Using backend LokyBackend with 2 concurrent workers.\n",
            "[Parallel(n_jobs=-1)]: Done  15 out of  15 | elapsed:   43.5s finished\n"
          ],
          "name": "stderr"
        },
        {
          "output_type": "stream",
          "text": [
            "0.977631283877557\n",
            "{'C': 1000}\n",
            "SVC(C=1000, break_ties=False, cache_size=200, class_weight='balanced',\n",
            "    coef0=0.0, decision_function_shape='ovr', degree=3, gamma='scale',\n",
            "    kernel='rbf', max_iter=-1, probability=False, random_state=None,\n",
            "    shrinking=True, tol=0.001, verbose=False)\n"
          ],
          "name": "stdout"
        }
      ]
    },
    {
      "cell_type": "markdown",
      "metadata": {
        "id": "UgD0Rz95NQou"
      },
      "source": [
        "The time required to tune the parameters has been lower than expected especially for a dataset as large as ours. The use of a high C aims to classify the training examples correctly by selecting more samples as support vectors. In this case, the use of PCA helps to set up the boundaries using data that has been preprocessed to explain the maximum possible variance by rotating it. The model is fit in the test set."
      ]
    },
    {
      "cell_type": "code",
      "metadata": {
        "colab": {
          "base_uri": "https://localhost:8080/"
        },
        "id": "oPt8Z1ceXNPg",
        "outputId": "3d2b5523-c4ef-4539-b377-1c15428a2972"
      },
      "source": [
        "#Fit tunned model on Test set\r\n",
        "svc_tuned.fit(X_test, y_test)\r\n",
        "\r\n",
        "# Predict on training set\r\n",
        "y_predtest_svc = svc_tuned.predict(X_test)"
      ],
      "execution_count": 130,
      "outputs": [
        {
          "output_type": "stream",
          "text": [
            "Fitting 5 folds for each of 3 candidates, totalling 15 fits\n"
          ],
          "name": "stdout"
        },
        {
          "output_type": "stream",
          "text": [
            "[Parallel(n_jobs=-1)]: Using backend LokyBackend with 2 concurrent workers.\n",
            "[Parallel(n_jobs=-1)]: Done  15 out of  15 | elapsed:    8.0s finished\n"
          ],
          "name": "stderr"
        }
      ]
    },
    {
      "cell_type": "code",
      "metadata": {
        "colab": {
          "base_uri": "https://localhost:8080/"
        },
        "id": "f6Zat7wnXgZn",
        "outputId": "804da068-5ca7-4d42-c6a6-75746c719431"
      },
      "source": [
        "#Evaluation of the model (testing)\r\n",
        "\r\n",
        "#Define the targets\r\n",
        "target_names = ['0.0', '1.0', '2.0', '3.0', '4.0', '5.0', '6.0', '7.0', '8.0', '9.0', '10.0', '11.0']\r\n",
        "\r\n",
        "#Print the classification report\r\n",
        "print(('Classification Report: \\n {}\\n').format(classification_report(y_test, y_predtest_svc, target_names=target_names)))\r\n",
        "\r\n",
        "#Calculate the confusion matrix\r\n",
        "confusion_SVC = confusion_matrix(y_test, y_predtest_svc)\r\n",
        "\r\n",
        "#Print the confusion matrix\r\n",
        "print(('Confusion Matrix: \\n\\n {}\\n\\n').format(confusion_SVC))\r\n",
        "\r\n",
        "#Print the overall accuracy\r\n",
        "print(( 'SVC accuracy: {0:.2f} %\\n').format(cross_val_score(svc_tunned, X_test, y_test,cv=kf).mean()*100))"
      ],
      "execution_count": 131,
      "outputs": [
        {
          "output_type": "stream",
          "text": [
            "Classification Report: \n",
            "               precision    recall  f1-score   support\n",
            "\n",
            "         0.0       0.99      0.99      0.99       847\n",
            "         1.0       0.98      0.97      0.98       862\n",
            "         2.0       0.95      0.94      0.95       796\n",
            "         3.0       0.92      0.95      0.93       828\n",
            "         4.0       0.97      0.95      0.96       848\n",
            "         5.0       0.99      0.99      0.99       830\n",
            "         6.0       0.99      0.99      0.99       834\n",
            "         7.0       0.98      0.99      0.98       839\n",
            "         8.0       0.98      0.98      0.98       818\n",
            "         9.0       0.98      0.98      0.98       817\n",
            "        10.0       1.00      0.99      0.99       881\n",
            "        11.0       1.00      1.00      1.00       814\n",
            "\n",
            "    accuracy                           0.98     10014\n",
            "   macro avg       0.98      0.98      0.98     10014\n",
            "weighted avg       0.98      0.98      0.98     10014\n",
            "\n",
            "\n",
            "Confusion Matrix: \n",
            "\n",
            " [[842   5   0   0   0   0   0   0   0   0   0   0]\n",
            " [ 11 835  16   0   0   0   0   0   0   0   0   0]\n",
            " [  0   9 752  35   0   0   0   0   0   0   0   0]\n",
            " [  0   0  21 788  19   0   0   0   0   0   0   0]\n",
            " [  0   0   0  35 802  11   0   0   0   0   0   0]\n",
            " [  0   0   0   0   9 821   0   0   0   0   0   0]\n",
            " [  0   0   0   0   0   0 826   8   0   0   0   0]\n",
            " [  0   0   0   0   0   0   8 828   3   0   0   0]\n",
            " [  0   0   0   0   0   0   0   7 804   7   0   0]\n",
            " [  0   0   0   0   0   0   0   0  12 802   3   0]\n",
            " [  0   0   0   0   0   0   0   0   0   8 871   2]\n",
            " [  0   0   0   0   0   0   0   0   0   0   1 813]]\n",
            "\n",
            "\n",
            "Fitting 5 folds for each of 3 candidates, totalling 15 fits\n"
          ],
          "name": "stdout"
        },
        {
          "output_type": "stream",
          "text": [
            "[Parallel(n_jobs=-1)]: Using backend LokyBackend with 2 concurrent workers.\n",
            "[Parallel(n_jobs=-1)]: Done  15 out of  15 | elapsed:    5.9s finished\n"
          ],
          "name": "stderr"
        },
        {
          "output_type": "stream",
          "text": [
            "Fitting 5 folds for each of 3 candidates, totalling 15 fits\n"
          ],
          "name": "stdout"
        },
        {
          "output_type": "stream",
          "text": [
            "[Parallel(n_jobs=-1)]: Using backend LokyBackend with 2 concurrent workers.\n",
            "[Parallel(n_jobs=-1)]: Done  15 out of  15 | elapsed:    5.9s finished\n"
          ],
          "name": "stderr"
        },
        {
          "output_type": "stream",
          "text": [
            "Fitting 5 folds for each of 3 candidates, totalling 15 fits\n"
          ],
          "name": "stdout"
        },
        {
          "output_type": "stream",
          "text": [
            "[Parallel(n_jobs=-1)]: Using backend LokyBackend with 2 concurrent workers.\n",
            "[Parallel(n_jobs=-1)]: Done  15 out of  15 | elapsed:    5.9s finished\n"
          ],
          "name": "stderr"
        },
        {
          "output_type": "stream",
          "text": [
            "Fitting 5 folds for each of 3 candidates, totalling 15 fits\n"
          ],
          "name": "stdout"
        },
        {
          "output_type": "stream",
          "text": [
            "[Parallel(n_jobs=-1)]: Using backend LokyBackend with 2 concurrent workers.\n",
            "[Parallel(n_jobs=-1)]: Done  15 out of  15 | elapsed:    5.8s finished\n"
          ],
          "name": "stderr"
        },
        {
          "output_type": "stream",
          "text": [
            "Fitting 5 folds for each of 3 candidates, totalling 15 fits\n"
          ],
          "name": "stdout"
        },
        {
          "output_type": "stream",
          "text": [
            "[Parallel(n_jobs=-1)]: Using backend LokyBackend with 2 concurrent workers.\n",
            "[Parallel(n_jobs=-1)]: Done  15 out of  15 | elapsed:    5.7s finished\n"
          ],
          "name": "stderr"
        },
        {
          "output_type": "stream",
          "text": [
            "SVC accuracy: 96.33 %\n",
            "\n"
          ],
          "name": "stdout"
        }
      ]
    },
    {
      "cell_type": "markdown",
      "metadata": {
        "id": "Y3L0RSRLNryT"
      },
      "source": [
        "In this case the accuracy obtained is 96.33% which is close to the one obtained with the Random Forest and Gradient Boosting models  but it requires less computational effort. This is due to the transformation done when preprocessing the data with PCA as the kernel trick requires less time (the data is already in the axis that maximize the variance) than expected and therefore less computational power. Also, based on the Classification report and Confusion Matrix, the model doesn't suffer from overfitting concerns. .This is a strong candidate to go into production if the PCA is maintained before the algorithm is run as otherwise the time will increase quadratic (as complexity). \r\n",
        "\r\n"
      ]
    },
    {
      "cell_type": "code",
      "metadata": {
        "colab": {
          "base_uri": "https://localhost:8080/",
          "height": 404
        },
        "id": "a12nEosrX_ss",
        "outputId": "1c980a08-2b65-403e-885b-5ff03bde0aca"
      },
      "source": [
        "import seaborn as sns\r\n",
        "\r\n",
        "#plotting a confusion matrix\r\n",
        "labels = ['Not Churned', 'Churned']\r\n",
        "plt.figure(figsize=(8,6))\r\n",
        "ax= plt.subplot()\r\n",
        "sns.heatmap(confusion_SVC,cmap=\"Blues\",annot=True,fmt='.1f', ax = ax); #annot=True to annotate cells\r\n",
        "\r\n",
        "# labels, title and ticks\r\n",
        "ax.set_xticklabels(labels)\r\n",
        "ax.set_yticklabels(labels)\r\n",
        "ax.set_xlabel('Predicted labels');ax.set_ylabel('True labels'); \r\n",
        "ax.set_title('Confusion Matrix Support Vector Classifier');"
      ],
      "execution_count": 133,
      "outputs": [
        {
          "output_type": "display_data",
          "data": {
            "image/png": "[encoded data removed]",
            "text/plain": [
              "<Figure size 576x432 with 2 Axes>"
            ]
          },
          "metadata": {
            "tags": [],
            "needs_background": "light"
          }
        }
      ]
    },
    {
      "cell_type": "markdown",
      "metadata": {
        "id": "31pXbqOMOmza"
      },
      "source": [
        "This model will be compared the deep learning classification results although this model is preferred as it allows to keep the features and requires less computational effort."
      ]
    },
    {
      "cell_type": "markdown",
      "metadata": {
        "id": "BsFMBZx3O3pA"
      },
      "source": [
        "Summary:\r\n",
        "\r\n",
        "1. Logistic Regression. Accuracy: 71.45%. Computing effort: 54.1s.\r\n",
        "2. K-nearest neighbors. Accuracy: 97.85%. Computing effort: 1 min.\r\n",
        "3. Random Forest. Accuracy: 98.04%. Computing effort: 24.9 min.\r\n",
        "4. Gradient Boosting Classifier: Accuracy 97.25%. Computing effort: 31.1 min.\r\n",
        "5. Support Vector Classifier. Accuracy: 96.33%. Computing effort: 8.0s.\r\n",
        "\r\n",
        "From the abovementioned results the classifier that is good candidates to go into production is support vector machine. It presents low computational effort due to the transformation of the features that has been done during the features generation. But support vector machine presents scalability problems. So deep learning models are also tested. But the supervised models that have been tested here  are preferred as they allow to track back results to the most relevant features. Furthermore, they require less computational power and are less complex and more transparent form a custumer´s perspective.\r\n",
        "\r\n"
      ]
    },
    {
      "cell_type": "markdown",
      "metadata": {
        "id": "ILf_bDXQZ5Rg"
      },
      "source": [
        "###Deep Learning Classification Model\r\n",
        "\r\n",
        "To carry out the multiclass classification based on demographics (gender and age) using the apps and brand of the device, a Deep Learning algorithm using Multilayer Perceptron has been built. In this case the data requires to be prepared so that it fits the MLP. The purpose of this MLP is to achieve higher accuracy than the supervised learning algorithms.\r\n",
        "\r\n",
        "As the neural networks work better with scaled data, the processed data has been split into train and test with a 75/25 split. In this case it is not needed to produce the feature generation and selection to achieve high performance with the neural network so the preprocessed raw data is used."
      ]
    },
    {
      "cell_type": "code",
      "metadata": {
        "colab": {
          "base_uri": "https://localhost:8080/"
        },
        "id": "-OqNYXK0Z9LW",
        "outputId": "759c8e8e-b96c-4b11-b3e7-4935fd0c8b52"
      },
      "source": [
        "#Split data in a train and test set\r\n",
        "X_tr, X_te, y_tr, y_te = train_test_split(X_normalized, y, test_size=0.25, random_state=42)\r\n",
        "\r\n",
        "#Check the size of each of the sets.\r\n",
        "X_tr.shape, X_te.shape, y_tr.shape, y_te.shape"
      ],
      "execution_count": 69,
      "outputs": [
        {
          "output_type": "execute_result",
          "data": {
            "text/plain": [
              "((30042, 276), (10014, 276), (30042,), (10014,))"
            ]
          },
          "metadata": {
            "tags": []
          },
          "execution_count": 69
        }
      ]
    },
    {
      "cell_type": "markdown",
      "metadata": {
        "id": "3AkDRveW-AJs"
      },
      "source": [
        "To match the input requirements of the neural network, the dependent variable is transformed into a categorical sparse matrix. This matrix will have the same number of rows but will create one row per class used in the dependent vector."
      ]
    },
    {
      "cell_type": "code",
      "metadata": {
        "colab": {
          "base_uri": "https://localhost:8080/"
        },
        "id": "F_UlTP1waT5K",
        "outputId": "c8c0d1d2-664c-4beb-dd1f-11eb9d69db5b"
      },
      "source": [
        "# Convert class vectors to binary class matrices\r\n",
        "# So instead of one column with 10 values, create 12 binary columns\r\n",
        "y_train_mlp = keras.utils.to_categorical(y_tr, num_classes=12)\r\n",
        "y_test_mlp = keras.utils.to_categorical(y_te, num_classes=12)\r\n",
        "\r\n",
        "print(y_train_mlp.shape, y_test_mlp.shape)"
      ],
      "execution_count": 70,
      "outputs": [
        {
          "output_type": "stream",
          "text": [
            "(30042, 12) (10014, 12)\n"
          ],
          "name": "stdout"
        }
      ]
    },
    {
      "cell_type": "markdown",
      "metadata": {
        "id": "CdzZiON6-Msp"
      },
      "source": [
        "A gridsearchCV from sklearn can be used to tune the parameters for the neural network. In this case and due to computational restrictions, a trial and error approach has been selected. The process to build the model has been as follows.\r\n",
        "\r\n",
        "1. Increased the number of layers and with it the batch size increasing the overall accuracy of the model\r\n",
        "2. Increased the size of the hidden neural networks while increasing the dropout rate to reduce overfitting.\r\n",
        "3. Increased the size of each layer up to 276 increasing the number of trainable parameters which improved the accuracy of the model.\r\n",
        "4. Tried different activation functions but the preferred option from an accuracy standpoint is \"relu\" as it provides higher accuracy.\r\n",
        "5. Used the batch normalization, normalized the input of each neural layer as part of the model architecture and performed the normalization in each mini batch. Both accuracy and speed improved when the batch normalization is used.\r\n",
        "6. Increase the epochs giving time for the neural network to be trained increasing them from 50 to 250 and achieving better results when 200 epochs and 1250 batch size was used.\r\n",
        "7. Different optimizers have been used: SGD and RMS, giving RMS a better accuracy than SGD when combined with batch normalization (Note: SGD eliminates the normalization done by the batch normalizer).\r\n",
        "\r\n",
        "The model used is as follows. The input layer has the input dimension of the vector and 276 neurons. It has 5 hidden layers and the output layer has the dimension of the classification vector (12). Between each layer, the batch normalization is introduced to reduce the covariance shift and an additional dropout is introduced to reduce overfitting. Although the dropouts could be avoided by using the batch normalization, the preferred option is to introduce the dropout to avoid overfitting."
      ]
    },
    {
      "cell_type": "code",
      "metadata": {
        "colab": {
          "base_uri": "https://localhost:8080/"
        },
        "id": "LW9jq4biamjV",
        "outputId": "c9fe71b7-95f5-4f4f-fbb4-e2a9fc58a9f5"
      },
      "source": [
        "#Start the model\r\n",
        "model = Sequential()\r\n",
        "\r\n",
        "#Set up the outter layer\r\n",
        "model.add(Dense(276, activation='relu', input_dim=276))\r\n",
        "\r\n",
        "# Dropout layers remove features and fight overfitting\r\n",
        "model.add(Dropout(0.5))\r\n",
        "model.add(Dense(276, activation='relu'))\r\n",
        "model.add(BatchNormalization())\r\n",
        "model.add(Dropout(0.5))\r\n",
        "model.add(Dense(276, activation='relu'))\r\n",
        "model.add(BatchNormalization())\r\n",
        "model.add(Dropout(0.5))\r\n",
        "model.add(Dense(276, activation='relu'))\r\n",
        "model.add(BatchNormalization())\r\n",
        "model.add(Dropout(0.5))\r\n",
        "model.add(Dense(276, activation='relu'))\r\n",
        "model.add(BatchNormalization())\r\n",
        "model.add(Dropout(0.5))\r\n",
        "model.add(Dense(276, activation='relu'))\r\n",
        "model.add(BatchNormalization())\r\n",
        "model.add(Dropout(0.5))\r\n",
        "model.add(Dense(276, activation='relu'))\r\n",
        "model.add(BatchNormalization())\r\n",
        "model.add(Dropout(0.5))\r\n",
        "\r\n",
        "# End with a number of units equal to the number of classes we have for our outcome\r\n",
        "model.add(Dense(12, activation='softmax'))\r\n",
        "\r\n",
        "#Model features\r\n",
        "model.summary()   \r\n",
        "    \r\n",
        "# Compile the model to put it all together.\r\n",
        "RMS = RMSprop()\r\n",
        "model.compile(loss='categorical_crossentropy',optimizer= RMS,metrics=['accuracy'])"
      ],
      "execution_count": 71,
      "outputs": [
        {
          "output_type": "stream",
          "text": [
            "Model: \"sequential_1\"\n",
            "_________________________________________________________________\n",
            "Layer (type)                 Output Shape              Param #   \n",
            "=================================================================\n",
            "dense_8 (Dense)              (None, 276)               76452     \n",
            "_________________________________________________________________\n",
            "dropout_7 (Dropout)          (None, 276)               0         \n",
            "_________________________________________________________________\n",
            "dense_9 (Dense)              (None, 276)               76452     \n",
            "_________________________________________________________________\n",
            "batch_normalization_6 (Batch (None, 276)               1104      \n",
            "_________________________________________________________________\n",
            "dropout_8 (Dropout)          (None, 276)               0         \n",
            "_________________________________________________________________\n",
            "dense_10 (Dense)             (None, 276)               76452     \n",
            "_________________________________________________________________\n",
            "batch_normalization_7 (Batch (None, 276)               1104      \n",
            "_________________________________________________________________\n",
            "dropout_9 (Dropout)          (None, 276)               0         \n",
            "_________________________________________________________________\n",
            "dense_11 (Dense)             (None, 276)               76452     \n",
            "_________________________________________________________________\n",
            "batch_normalization_8 (Batch (None, 276)               1104      \n",
            "_________________________________________________________________\n",
            "dropout_10 (Dropout)         (None, 276)               0         \n",
            "_________________________________________________________________\n",
            "dense_12 (Dense)             (None, 276)               76452     \n",
            "_________________________________________________________________\n",
            "batch_normalization_9 (Batch (None, 276)               1104      \n",
            "_________________________________________________________________\n",
            "dropout_11 (Dropout)         (None, 276)               0         \n",
            "_________________________________________________________________\n",
            "dense_13 (Dense)             (None, 276)               76452     \n",
            "_________________________________________________________________\n",
            "batch_normalization_10 (Batc (None, 276)               1104      \n",
            "_________________________________________________________________\n",
            "dropout_12 (Dropout)         (None, 276)               0         \n",
            "_________________________________________________________________\n",
            "dense_14 (Dense)             (None, 276)               76452     \n",
            "_________________________________________________________________\n",
            "batch_normalization_11 (Batc (None, 276)               1104      \n",
            "_________________________________________________________________\n",
            "dropout_13 (Dropout)         (None, 276)               0         \n",
            "_________________________________________________________________\n",
            "dense_15 (Dense)             (None, 12)                3324      \n",
            "=================================================================\n",
            "Total params: 545,112\n",
            "Trainable params: 541,800\n",
            "Non-trainable params: 3,312\n",
            "_________________________________________________________________\n"
          ],
          "name": "stdout"
        }
      ]
    },
    {
      "cell_type": "markdown",
      "metadata": {
        "id": "utkyWhjnATrI"
      },
      "source": [
        "After several trial and errors, the optimum batch size for the model and epochs are 1250 and 200 respectively. Once the model was trained on the train set is tested. "
      ]
    },
    {
      "cell_type": "code",
      "metadata": {
        "colab": {
          "base_uri": "https://localhost:8080/"
        },
        "id": "y0b-5GIsbP7T",
        "outputId": "a85881c5-3958-4bf5-eea2-467030202371"
      },
      "source": [
        "#Run the model\r\n",
        "model.fit(X_tr, y_train_mlp, epochs=200, verbose=1, batch_size=1250)\r\n",
        "\r\n",
        "#Evaluate the model\r\n",
        "score = model.evaluate(X_te, y_test_mlp, verbose=1)\r\n",
        "\r\n",
        "#Print results\r\n",
        "print('Test loss:', score[0])\r\n",
        "print('Test accuracy:', score[1])"
      ],
      "execution_count": 74,
      "outputs": [
        {
          "output_type": "stream",
          "text": [
            "Epoch 1/200\n",
            "25/25 [==============================] - 0s 12ms/step - loss: 0.3869 - accuracy: 0.8473\n",
            "Epoch 2/200\n",
            "25/25 [==============================] - 0s 9ms/step - loss: 0.3785 - accuracy: 0.8532\n",
            "Epoch 3/200\n",
            "25/25 [==============================] - 0s 10ms/step - loss: 0.3733 - accuracy: 0.8536\n",
            "Epoch 4/200\n",
            "25/25 [==============================] - 0s 9ms/step - loss: 0.3618 - accuracy: 0.8562\n",
            "Epoch 5/200\n",
            "25/25 [==============================] - 0s 9ms/step - loss: 0.3870 - accuracy: 0.8434\n",
            "Epoch 6/200\n",
            "25/25 [==============================] - 0s 10ms/step - loss: 0.3564 - accuracy: 0.8601\n",
            "Epoch 7/200\n",
            "25/25 [==============================] - 0s 9ms/step - loss: 0.3780 - accuracy: 0.8506\n",
            "Epoch 8/200\n",
            "25/25 [==============================] - 0s 9ms/step - loss: 0.3910 - accuracy: 0.8462\n",
            "Epoch 9/200\n",
            "25/25 [==============================] - 0s 9ms/step - loss: 0.3633 - accuracy: 0.8549\n",
            "Epoch 10/200\n",
            "25/25 [==============================] - 0s 9ms/step - loss: 0.3726 - accuracy: 0.8528\n",
            "Epoch 11/200\n",
            "25/25 [==============================] - 0s 9ms/step - loss: 0.3815 - accuracy: 0.8495\n",
            "Epoch 12/200\n",
            "25/25 [==============================] - 0s 10ms/step - loss: 0.3852 - accuracy: 0.8467\n",
            "Epoch 13/200\n",
            "25/25 [==============================] - 0s 9ms/step - loss: 0.3689 - accuracy: 0.8529\n",
            "Epoch 14/200\n",
            "25/25 [==============================] - 0s 9ms/step - loss: 0.3703 - accuracy: 0.8543\n",
            "Epoch 15/200\n",
            "25/25 [==============================] - 0s 9ms/step - loss: 0.3488 - accuracy: 0.8594\n",
            "Epoch 16/200\n",
            "25/25 [==============================] - 0s 10ms/step - loss: 0.3553 - accuracy: 0.8590\n",
            "Epoch 17/200\n",
            "25/25 [==============================] - 0s 10ms/step - loss: 0.3686 - accuracy: 0.8551\n",
            "Epoch 18/200\n",
            "25/25 [==============================] - 0s 9ms/step - loss: 0.3612 - accuracy: 0.8575\n",
            "Epoch 19/200\n",
            "25/25 [==============================] - 0s 9ms/step - loss: 0.3589 - accuracy: 0.8584\n",
            "Epoch 20/200\n",
            "25/25 [==============================] - 0s 10ms/step - loss: 0.3922 - accuracy: 0.8457\n",
            "Epoch 21/200\n",
            "25/25 [==============================] - 0s 10ms/step - loss: 0.3626 - accuracy: 0.8566\n",
            "Epoch 22/200\n",
            "25/25 [==============================] - 0s 9ms/step - loss: 0.3779 - accuracy: 0.8474\n",
            "Epoch 23/200\n",
            "25/25 [==============================] - 0s 9ms/step - loss: 0.3485 - accuracy: 0.8632\n",
            "Epoch 24/200\n",
            "25/25 [==============================] - 0s 9ms/step - loss: 0.3575 - accuracy: 0.8582\n",
            "Epoch 25/200\n",
            "25/25 [==============================] - 0s 9ms/step - loss: 0.3629 - accuracy: 0.8563\n",
            "Epoch 26/200\n",
            "25/25 [==============================] - 0s 9ms/step - loss: 0.3631 - accuracy: 0.8570\n",
            "Epoch 27/200\n",
            "25/25 [==============================] - 0s 9ms/step - loss: 0.3560 - accuracy: 0.8590\n",
            "Epoch 28/200\n",
            "25/25 [==============================] - 0s 10ms/step - loss: 0.3628 - accuracy: 0.8542\n",
            "Epoch 29/200\n",
            "25/25 [==============================] - 0s 9ms/step - loss: 0.3991 - accuracy: 0.8439\n",
            "Epoch 30/200\n",
            "25/25 [==============================] - 0s 9ms/step - loss: 0.3814 - accuracy: 0.8497\n",
            "Epoch 31/200\n",
            "25/25 [==============================] - 0s 9ms/step - loss: 0.3613 - accuracy: 0.8593\n",
            "Epoch 32/200\n",
            "25/25 [==============================] - 0s 9ms/step - loss: 0.3634 - accuracy: 0.8561\n",
            "Epoch 33/200\n",
            "25/25 [==============================] - 0s 9ms/step - loss: 0.3886 - accuracy: 0.8478\n",
            "Epoch 34/200\n",
            "25/25 [==============================] - 0s 9ms/step - loss: 0.3577 - accuracy: 0.8581\n",
            "Epoch 35/200\n",
            "25/25 [==============================] - 0s 9ms/step - loss: 0.3646 - accuracy: 0.8567\n",
            "Epoch 36/200\n",
            "25/25 [==============================] - 0s 9ms/step - loss: 0.3620 - accuracy: 0.8569\n",
            "Epoch 37/200\n",
            "25/25 [==============================] - 0s 9ms/step - loss: 0.3548 - accuracy: 0.8620\n",
            "Epoch 38/200\n",
            "25/25 [==============================] - 0s 10ms/step - loss: 0.3747 - accuracy: 0.8525\n",
            "Epoch 39/200\n",
            "25/25 [==============================] - 0s 9ms/step - loss: 0.3571 - accuracy: 0.8570\n",
            "Epoch 40/200\n",
            "25/25 [==============================] - 0s 9ms/step - loss: 0.3539 - accuracy: 0.8587\n",
            "Epoch 41/200\n",
            "25/25 [==============================] - 0s 9ms/step - loss: 0.3687 - accuracy: 0.8561\n",
            "Epoch 42/200\n",
            "25/25 [==============================] - 0s 10ms/step - loss: 0.3571 - accuracy: 0.8598\n",
            "Epoch 43/200\n",
            "25/25 [==============================] - 0s 9ms/step - loss: 0.3697 - accuracy: 0.8545\n",
            "Epoch 44/200\n",
            "25/25 [==============================] - 0s 9ms/step - loss: 0.3736 - accuracy: 0.8526\n",
            "Epoch 45/200\n",
            "25/25 [==============================] - 0s 9ms/step - loss: 0.3609 - accuracy: 0.8600\n",
            "Epoch 46/200\n",
            "25/25 [==============================] - 0s 9ms/step - loss: 0.3514 - accuracy: 0.8634\n",
            "Epoch 47/200\n",
            "25/25 [==============================] - 0s 9ms/step - loss: 0.3565 - accuracy: 0.8591\n",
            "Epoch 48/200\n",
            "25/25 [==============================] - 0s 9ms/step - loss: 0.3693 - accuracy: 0.8533\n",
            "Epoch 49/200\n",
            "25/25 [==============================] - 0s 9ms/step - loss: 0.3548 - accuracy: 0.8620\n",
            "Epoch 50/200\n",
            "25/25 [==============================] - 0s 9ms/step - loss: 0.3605 - accuracy: 0.8580\n",
            "Epoch 51/200\n",
            "25/25 [==============================] - 0s 9ms/step - loss: 0.3532 - accuracy: 0.8584\n",
            "Epoch 52/200\n",
            "25/25 [==============================] - 0s 9ms/step - loss: 0.3597 - accuracy: 0.8592\n",
            "Epoch 53/200\n",
            "25/25 [==============================] - 0s 9ms/step - loss: 0.3422 - accuracy: 0.8670\n",
            "Epoch 54/200\n",
            "25/25 [==============================] - 0s 9ms/step - loss: 0.3518 - accuracy: 0.8607\n",
            "Epoch 55/200\n",
            "25/25 [==============================] - 0s 10ms/step - loss: 0.3449 - accuracy: 0.8648\n",
            "Epoch 56/200\n",
            "25/25 [==============================] - 0s 10ms/step - loss: 0.3672 - accuracy: 0.8550\n",
            "Epoch 57/200\n",
            "25/25 [==============================] - 0s 9ms/step - loss: 0.3890 - accuracy: 0.8465\n",
            "Epoch 58/200\n",
            "25/25 [==============================] - 0s 9ms/step - loss: 0.3626 - accuracy: 0.8594\n",
            "Epoch 59/200\n",
            "25/25 [==============================] - 0s 10ms/step - loss: 0.3764 - accuracy: 0.8508\n",
            "Epoch 60/200\n",
            "25/25 [==============================] - 0s 9ms/step - loss: 0.3581 - accuracy: 0.8595\n",
            "Epoch 61/200\n",
            "25/25 [==============================] - 0s 9ms/step - loss: 0.3514 - accuracy: 0.8626\n",
            "Epoch 62/200\n",
            "25/25 [==============================] - 0s 9ms/step - loss: 0.3566 - accuracy: 0.8575\n",
            "Epoch 63/200\n",
            "25/25 [==============================] - 0s 9ms/step - loss: 0.3689 - accuracy: 0.8527\n",
            "Epoch 64/200\n",
            "25/25 [==============================] - 0s 10ms/step - loss: 0.3623 - accuracy: 0.8579\n",
            "Epoch 65/200\n",
            "25/25 [==============================] - 0s 9ms/step - loss: 0.3679 - accuracy: 0.8525\n",
            "Epoch 66/200\n",
            "25/25 [==============================] - 0s 9ms/step - loss: 0.3460 - accuracy: 0.8642\n",
            "Epoch 67/200\n",
            "25/25 [==============================] - 0s 9ms/step - loss: 0.3533 - accuracy: 0.8585\n",
            "Epoch 68/200\n",
            "25/25 [==============================] - 0s 10ms/step - loss: 0.3601 - accuracy: 0.8562\n",
            "Epoch 69/200\n",
            "25/25 [==============================] - 0s 9ms/step - loss: 0.3802 - accuracy: 0.8514\n",
            "Epoch 70/200\n",
            "25/25 [==============================] - 0s 9ms/step - loss: 0.3623 - accuracy: 0.8557\n",
            "Epoch 71/200\n",
            "25/25 [==============================] - 0s 9ms/step - loss: 0.3593 - accuracy: 0.8586\n",
            "Epoch 72/200\n",
            "25/25 [==============================] - 0s 9ms/step - loss: 0.3602 - accuracy: 0.8582\n",
            "Epoch 73/200\n",
            "25/25 [==============================] - 0s 10ms/step - loss: 0.3571 - accuracy: 0.8600\n",
            "Epoch 74/200\n",
            "25/25 [==============================] - 0s 9ms/step - loss: 0.3478 - accuracy: 0.8618\n",
            "Epoch 75/200\n",
            "25/25 [==============================] - 0s 9ms/step - loss: 0.3608 - accuracy: 0.8592\n",
            "Epoch 76/200\n",
            "25/25 [==============================] - 0s 10ms/step - loss: 0.3617 - accuracy: 0.8577\n",
            "Epoch 77/200\n",
            "25/25 [==============================] - 0s 9ms/step - loss: 0.3649 - accuracy: 0.8556\n",
            "Epoch 78/200\n",
            "25/25 [==============================] - 0s 9ms/step - loss: 0.3547 - accuracy: 0.8614\n",
            "Epoch 79/200\n",
            "25/25 [==============================] - 0s 9ms/step - loss: 0.3596 - accuracy: 0.8575\n",
            "Epoch 80/200\n",
            "25/25 [==============================] - 0s 9ms/step - loss: 0.3628 - accuracy: 0.8559\n",
            "Epoch 81/200\n",
            "25/25 [==============================] - 0s 10ms/step - loss: 0.3522 - accuracy: 0.8622\n",
            "Epoch 82/200\n",
            "25/25 [==============================] - 0s 9ms/step - loss: 0.3575 - accuracy: 0.8599\n",
            "Epoch 83/200\n",
            "25/25 [==============================] - 0s 9ms/step - loss: 0.3315 - accuracy: 0.8689\n",
            "Epoch 84/200\n",
            "25/25 [==============================] - 0s 10ms/step - loss: 0.3416 - accuracy: 0.8667\n",
            "Epoch 85/200\n",
            "25/25 [==============================] - 0s 10ms/step - loss: 0.3568 - accuracy: 0.8569\n",
            "Epoch 86/200\n",
            "25/25 [==============================] - 0s 9ms/step - loss: 0.3264 - accuracy: 0.8711\n",
            "Epoch 87/200\n",
            "25/25 [==============================] - 0s 10ms/step - loss: 0.3728 - accuracy: 0.8515\n",
            "Epoch 88/200\n",
            "25/25 [==============================] - 0s 10ms/step - loss: 0.3372 - accuracy: 0.8656\n",
            "Epoch 89/200\n",
            "25/25 [==============================] - 0s 9ms/step - loss: 0.3476 - accuracy: 0.8647\n",
            "Epoch 90/200\n",
            "25/25 [==============================] - 0s 9ms/step - loss: 0.3326 - accuracy: 0.8710\n",
            "Epoch 91/200\n",
            "25/25 [==============================] - 0s 9ms/step - loss: 0.3445 - accuracy: 0.8654\n",
            "Epoch 92/200\n",
            "25/25 [==============================] - 0s 9ms/step - loss: 0.3474 - accuracy: 0.8637\n",
            "Epoch 93/200\n",
            "25/25 [==============================] - 0s 9ms/step - loss: 0.3624 - accuracy: 0.8575\n",
            "Epoch 94/200\n",
            "25/25 [==============================] - 0s 10ms/step - loss: 0.3457 - accuracy: 0.8641\n",
            "Epoch 95/200\n",
            "25/25 [==============================] - 0s 9ms/step - loss: 0.3435 - accuracy: 0.8633\n",
            "Epoch 96/200\n",
            "25/25 [==============================] - 0s 9ms/step - loss: 0.3596 - accuracy: 0.8572\n",
            "Epoch 97/200\n",
            "25/25 [==============================] - 0s 9ms/step - loss: 0.3533 - accuracy: 0.8611\n",
            "Epoch 98/200\n",
            "25/25 [==============================] - 0s 9ms/step - loss: 0.3470 - accuracy: 0.8621\n",
            "Epoch 99/200\n",
            "25/25 [==============================] - 0s 9ms/step - loss: 0.3564 - accuracy: 0.8616\n",
            "Epoch 100/200\n",
            "25/25 [==============================] - 0s 9ms/step - loss: 0.3393 - accuracy: 0.8675\n",
            "Epoch 101/200\n",
            "25/25 [==============================] - 0s 10ms/step - loss: 0.3567 - accuracy: 0.8572\n",
            "Epoch 102/200\n",
            "25/25 [==============================] - 0s 10ms/step - loss: 0.3509 - accuracy: 0.8649\n",
            "Epoch 103/200\n",
            "25/25 [==============================] - 0s 9ms/step - loss: 0.3370 - accuracy: 0.8668\n",
            "Epoch 104/200\n",
            "25/25 [==============================] - 0s 9ms/step - loss: 0.3637 - accuracy: 0.8560\n",
            "Epoch 105/200\n",
            "25/25 [==============================] - 0s 9ms/step - loss: 0.3391 - accuracy: 0.8687\n",
            "Epoch 106/200\n",
            "25/25 [==============================] - 0s 10ms/step - loss: 0.3545 - accuracy: 0.8587\n",
            "Epoch 107/200\n",
            "25/25 [==============================] - 0s 10ms/step - loss: 0.3530 - accuracy: 0.8592\n",
            "Epoch 108/200\n",
            "25/25 [==============================] - 0s 9ms/step - loss: 0.3496 - accuracy: 0.8604\n",
            "Epoch 109/200\n",
            "25/25 [==============================] - 0s 9ms/step - loss: 0.3403 - accuracy: 0.8671\n",
            "Epoch 110/200\n",
            "25/25 [==============================] - 0s 9ms/step - loss: 0.3594 - accuracy: 0.8602\n",
            "Epoch 111/200\n",
            "25/25 [==============================] - 0s 10ms/step - loss: 0.3556 - accuracy: 0.8607\n",
            "Epoch 112/200\n",
            "25/25 [==============================] - 0s 9ms/step - loss: 0.3427 - accuracy: 0.8654\n",
            "Epoch 113/200\n",
            "25/25 [==============================] - 0s 10ms/step - loss: 0.3440 - accuracy: 0.8655\n",
            "Epoch 114/200\n",
            "25/25 [==============================] - 0s 9ms/step - loss: 0.3476 - accuracy: 0.8643\n",
            "Epoch 115/200\n",
            "25/25 [==============================] - 0s 10ms/step - loss: 0.3395 - accuracy: 0.8678\n",
            "Epoch 116/200\n",
            "25/25 [==============================] - 0s 9ms/step - loss: 0.3431 - accuracy: 0.8647\n",
            "Epoch 117/200\n",
            "25/25 [==============================] - 0s 9ms/step - loss: 0.3294 - accuracy: 0.8711\n",
            "Epoch 118/200\n",
            "25/25 [==============================] - 0s 10ms/step - loss: 0.3255 - accuracy: 0.8711\n",
            "Epoch 119/200\n",
            "25/25 [==============================] - 0s 10ms/step - loss: 0.3717 - accuracy: 0.8537\n",
            "Epoch 120/200\n",
            "25/25 [==============================] - 0s 10ms/step - loss: 0.3662 - accuracy: 0.8566\n",
            "Epoch 121/200\n",
            "25/25 [==============================] - 0s 10ms/step - loss: 0.3410 - accuracy: 0.8638\n",
            "Epoch 122/200\n",
            "25/25 [==============================] - 0s 9ms/step - loss: 0.3545 - accuracy: 0.8572\n",
            "Epoch 123/200\n",
            "25/25 [==============================] - 0s 9ms/step - loss: 0.3527 - accuracy: 0.8581\n",
            "Epoch 124/200\n",
            "25/25 [==============================] - 0s 9ms/step - loss: 0.3570 - accuracy: 0.8581\n",
            "Epoch 125/200\n",
            "25/25 [==============================] - 0s 9ms/step - loss: 0.3402 - accuracy: 0.8674\n",
            "Epoch 126/200\n",
            "25/25 [==============================] - 0s 10ms/step - loss: 0.3384 - accuracy: 0.8676\n",
            "Epoch 127/200\n",
            "25/25 [==============================] - 0s 10ms/step - loss: 0.3320 - accuracy: 0.8688\n",
            "Epoch 128/200\n",
            "25/25 [==============================] - 0s 9ms/step - loss: 0.3540 - accuracy: 0.8590\n",
            "Epoch 129/200\n",
            "25/25 [==============================] - 0s 9ms/step - loss: 0.3711 - accuracy: 0.8557\n",
            "Epoch 130/200\n",
            "25/25 [==============================] - 0s 10ms/step - loss: 0.3493 - accuracy: 0.8646\n",
            "Epoch 131/200\n",
            "25/25 [==============================] - 0s 10ms/step - loss: 0.3418 - accuracy: 0.8663\n",
            "Epoch 132/200\n",
            "25/25 [==============================] - 0s 9ms/step - loss: 0.3314 - accuracy: 0.8699\n",
            "Epoch 133/200\n",
            "25/25 [==============================] - 0s 10ms/step - loss: 0.3504 - accuracy: 0.8616\n",
            "Epoch 134/200\n",
            "25/25 [==============================] - 0s 9ms/step - loss: 0.3394 - accuracy: 0.8669\n",
            "Epoch 135/200\n",
            "25/25 [==============================] - 0s 9ms/step - loss: 0.3572 - accuracy: 0.8587\n",
            "Epoch 136/200\n",
            "25/25 [==============================] - 0s 10ms/step - loss: 0.3434 - accuracy: 0.8654\n",
            "Epoch 137/200\n",
            "25/25 [==============================] - 0s 9ms/step - loss: 0.3469 - accuracy: 0.8654\n",
            "Epoch 138/200\n",
            "25/25 [==============================] - 0s 9ms/step - loss: 0.3494 - accuracy: 0.8642\n",
            "Epoch 139/200\n",
            "25/25 [==============================] - 0s 10ms/step - loss: 0.3314 - accuracy: 0.8691\n",
            "Epoch 140/200\n",
            "25/25 [==============================] - 0s 10ms/step - loss: 0.3427 - accuracy: 0.8649\n",
            "Epoch 141/200\n",
            "25/25 [==============================] - 0s 10ms/step - loss: 0.3543 - accuracy: 0.8589\n",
            "Epoch 142/200\n",
            "25/25 [==============================] - 0s 10ms/step - loss: 0.3424 - accuracy: 0.8655\n",
            "Epoch 143/200\n",
            "25/25 [==============================] - 0s 9ms/step - loss: 0.3334 - accuracy: 0.8702\n",
            "Epoch 144/200\n",
            "25/25 [==============================] - 0s 10ms/step - loss: 0.3488 - accuracy: 0.8630\n",
            "Epoch 145/200\n",
            "25/25 [==============================] - 0s 9ms/step - loss: 0.3355 - accuracy: 0.8690\n",
            "Epoch 146/200\n",
            "25/25 [==============================] - 0s 9ms/step - loss: 0.3377 - accuracy: 0.8667\n",
            "Epoch 147/200\n",
            "25/25 [==============================] - 0s 10ms/step - loss: 0.3427 - accuracy: 0.8671\n",
            "Epoch 148/200\n",
            "25/25 [==============================] - 0s 10ms/step - loss: 0.3598 - accuracy: 0.8559\n",
            "Epoch 149/200\n",
            "25/25 [==============================] - 0s 9ms/step - loss: 0.3463 - accuracy: 0.8651\n",
            "Epoch 150/200\n",
            "25/25 [==============================] - 0s 9ms/step - loss: 0.3391 - accuracy: 0.8673\n",
            "Epoch 151/200\n",
            "25/25 [==============================] - 0s 9ms/step - loss: 0.3548 - accuracy: 0.8618\n",
            "Epoch 152/200\n",
            "25/25 [==============================] - 0s 9ms/step - loss: 0.3409 - accuracy: 0.8668\n",
            "Epoch 153/200\n",
            "25/25 [==============================] - 0s 9ms/step - loss: 0.3458 - accuracy: 0.8646\n",
            "Epoch 154/200\n",
            "25/25 [==============================] - 0s 9ms/step - loss: 0.3403 - accuracy: 0.8644\n",
            "Epoch 155/200\n",
            "25/25 [==============================] - 0s 9ms/step - loss: 0.3284 - accuracy: 0.8712\n",
            "Epoch 156/200\n",
            "25/25 [==============================] - 0s 10ms/step - loss: 0.3573 - accuracy: 0.8608\n",
            "Epoch 157/200\n",
            "25/25 [==============================] - 0s 10ms/step - loss: 0.3362 - accuracy: 0.8671\n",
            "Epoch 158/200\n",
            "25/25 [==============================] - 0s 10ms/step - loss: 0.3312 - accuracy: 0.8718\n",
            "Epoch 159/200\n",
            "25/25 [==============================] - 0s 9ms/step - loss: 0.3409 - accuracy: 0.8645\n",
            "Epoch 160/200\n",
            "25/25 [==============================] - 0s 10ms/step - loss: 0.3223 - accuracy: 0.8746\n",
            "Epoch 161/200\n",
            "25/25 [==============================] - 0s 9ms/step - loss: 0.3414 - accuracy: 0.8665\n",
            "Epoch 162/200\n",
            "25/25 [==============================] - 0s 10ms/step - loss: 0.3442 - accuracy: 0.8663\n",
            "Epoch 163/200\n",
            "25/25 [==============================] - 0s 9ms/step - loss: 0.3411 - accuracy: 0.8676\n",
            "Epoch 164/200\n",
            "25/25 [==============================] - 0s 10ms/step - loss: 0.3334 - accuracy: 0.8673\n",
            "Epoch 165/200\n",
            "25/25 [==============================] - 0s 10ms/step - loss: 0.3351 - accuracy: 0.8666\n",
            "Epoch 166/200\n",
            "25/25 [==============================] - 0s 10ms/step - loss: 0.3583 - accuracy: 0.8596\n",
            "Epoch 167/200\n",
            "25/25 [==============================] - 0s 10ms/step - loss: 0.3342 - accuracy: 0.8696\n",
            "Epoch 168/200\n",
            "25/25 [==============================] - 0s 10ms/step - loss: 0.3363 - accuracy: 0.8682\n",
            "Epoch 169/200\n",
            "25/25 [==============================] - 0s 10ms/step - loss: 0.3307 - accuracy: 0.8718\n",
            "Epoch 170/200\n",
            "25/25 [==============================] - 0s 10ms/step - loss: 0.3541 - accuracy: 0.8606\n",
            "Epoch 171/200\n",
            "25/25 [==============================] - 0s 9ms/step - loss: 0.3403 - accuracy: 0.8667\n",
            "Epoch 172/200\n",
            "25/25 [==============================] - 0s 10ms/step - loss: 0.3428 - accuracy: 0.8668\n",
            "Epoch 173/200\n",
            "25/25 [==============================] - 0s 10ms/step - loss: 0.3297 - accuracy: 0.8727\n",
            "Epoch 174/200\n",
            "25/25 [==============================] - 0s 9ms/step - loss: 0.3485 - accuracy: 0.8643\n",
            "Epoch 175/200\n",
            "25/25 [==============================] - 0s 9ms/step - loss: 0.3452 - accuracy: 0.8643\n",
            "Epoch 176/200\n",
            "25/25 [==============================] - 0s 10ms/step - loss: 0.3445 - accuracy: 0.8665\n",
            "Epoch 177/200\n",
            "25/25 [==============================] - 0s 9ms/step - loss: 0.3328 - accuracy: 0.8697\n",
            "Epoch 178/200\n",
            "25/25 [==============================] - 0s 10ms/step - loss: 0.3213 - accuracy: 0.8748\n",
            "Epoch 179/200\n",
            "25/25 [==============================] - 0s 9ms/step - loss: 0.3502 - accuracy: 0.8646\n",
            "Epoch 180/200\n",
            "25/25 [==============================] - 0s 10ms/step - loss: 0.3371 - accuracy: 0.8679\n",
            "Epoch 181/200\n",
            "25/25 [==============================] - 0s 10ms/step - loss: 0.3447 - accuracy: 0.8627\n",
            "Epoch 182/200\n",
            "25/25 [==============================] - 0s 9ms/step - loss: 0.3416 - accuracy: 0.8626\n",
            "Epoch 183/200\n",
            "25/25 [==============================] - 0s 10ms/step - loss: 0.3347 - accuracy: 0.8681\n",
            "Epoch 184/200\n",
            "25/25 [==============================] - 0s 9ms/step - loss: 0.3305 - accuracy: 0.8723\n",
            "Epoch 185/200\n",
            "25/25 [==============================] - 0s 10ms/step - loss: 0.3292 - accuracy: 0.8708\n",
            "Epoch 186/200\n",
            "25/25 [==============================] - 0s 10ms/step - loss: 0.3540 - accuracy: 0.8605\n",
            "Epoch 187/200\n",
            "25/25 [==============================] - 0s 10ms/step - loss: 0.3263 - accuracy: 0.8713\n",
            "Epoch 188/200\n",
            "25/25 [==============================] - 0s 10ms/step - loss: 0.3268 - accuracy: 0.8724\n",
            "Epoch 189/200\n",
            "25/25 [==============================] - 0s 10ms/step - loss: 0.3448 - accuracy: 0.8654\n",
            "Epoch 190/200\n",
            "25/25 [==============================] - 0s 9ms/step - loss: 0.3360 - accuracy: 0.8689\n",
            "Epoch 191/200\n",
            "25/25 [==============================] - 0s 9ms/step - loss: 0.3414 - accuracy: 0.8686\n",
            "Epoch 192/200\n",
            "25/25 [==============================] - 0s 9ms/step - loss: 0.3386 - accuracy: 0.8678\n",
            "Epoch 193/200\n",
            "25/25 [==============================] - 0s 10ms/step - loss: 0.3401 - accuracy: 0.8672\n",
            "Epoch 194/200\n",
            "25/25 [==============================] - 0s 10ms/step - loss: 0.3367 - accuracy: 0.8644\n",
            "Epoch 195/200\n",
            "25/25 [==============================] - 0s 9ms/step - loss: 0.3321 - accuracy: 0.8681\n",
            "Epoch 196/200\n",
            "25/25 [==============================] - 0s 9ms/step - loss: 0.3252 - accuracy: 0.8741\n",
            "Epoch 197/200\n",
            "25/25 [==============================] - 0s 10ms/step - loss: 0.3299 - accuracy: 0.8717\n",
            "Epoch 198/200\n",
            "25/25 [==============================] - 0s 10ms/step - loss: 0.3356 - accuracy: 0.8658\n",
            "Epoch 199/200\n",
            "25/25 [==============================] - 0s 11ms/step - loss: 0.3352 - accuracy: 0.8677\n",
            "Epoch 200/200\n",
            "25/25 [==============================] - 0s 10ms/step - loss: 0.3158 - accuracy: 0.8779\n",
            "313/313 [==============================] - 1s 3ms/step - loss: 0.4220 - accuracy: 0.8521\n",
            "Test loss: 0.4220113456249237\n",
            "Test accuracy: 0.852107048034668\n"
          ],
          "name": "stdout"
        }
      ]
    },
    {
      "cell_type": "markdown",
      "metadata": {
        "id": "ZwyRzbmwAEDF"
      },
      "source": [
        "An overall accuracy of 85.21% is achieved. This accuracy is lower than the Supervised training models.So, Support vector machine model is the preferred candidate for production. The neural network gives good accuracy but does not allow to distinguish the explanatory power of each of the features that are used. This is not required during image or text recognition but is necessary for the purpose of this project. Furthermore, the model is far more complex than the previous one and requires more computational power once it is in production. For all these reasons, although the accuracy is good, the support vector machine models is still the best candidate for production."
      ]
    },
    {
      "cell_type": "markdown",
      "metadata": {
        "id": "hQgFEqeq5TkJ"
      },
      "source": [
        "###Unsupervised Learning (Clustering)\r\n",
        "\r\n",
        "To have a better understanding of the potential clients and relationship between them unsupervised clustering will be carried out. In this case, K-means clustering is used to cluster the customers and extract meaningful information for the marketing team. Once the clustering is selected, the number of clusters will be selected and the information will be extracted. As in the case of supervised learning the PCA components will be used during the analysis."
      ]
    },
    {
      "cell_type": "code",
      "metadata": {
        "colab": {
          "base_uri": "https://localhost:8080/",
          "height": 278
        },
        "id": "w_C5lGRl5VbP",
        "outputId": "51c3df94-0b7a-4ed4-9960-ab9bb53b0b36"
      },
      "source": [
        "#Delete column with device_id\r\n",
        "df_cluster = df.drop('device_id', axis = 1)\r\n",
        "\r\n",
        "#Delete columns that are all zeros\r\n",
        "df_cluster = df_cluster.drop(df_cluster.columns[(df_cluster == 0).all()], axis = 1)\r\n",
        "\r\n",
        "df_cluster = df_cluster.drop_duplicates()\r\n",
        "\r\n",
        "#Print the first five rows of the new dataset\r\n",
        "df_cluster.head()"
      ],
      "execution_count": 103,
      "outputs": [
        {
          "output_type": "execute_result",
          "data": {
            "text/html": [
              "<div>\n",
              "<style scoped>\n",
              "    .dataframe tbody tr th:only-of-type {\n",
              "        vertical-align: middle;\n",
              "    }\n",
              "\n",
              "    .dataframe tbody tr th {\n",
              "        vertical-align: top;\n",
              "    }\n",
              "\n",
              "    .dataframe thead th {\n",
              "        text-align: right;\n",
              "    }\n",
              "</style>\n",
              "<table border=\"1\" class=\"dataframe\">\n",
              "  <thead>\n",
              "    <tr style=\"text-align: right;\">\n",
              "      <th></th>\n",
              "      <th>is_active</th>\n",
              "      <th>gender</th>\n",
              "      <th>age</th>\n",
              "      <th>group</th>\n",
              "      <th>label_id_6</th>\n",
              "      <th>label_id_8</th>\n",
              "      <th>label_id_10</th>\n",
              "      <th>label_id_11</th>\n",
              "      <th>label_id_12</th>\n",
              "      <th>label_id_13</th>\n",
              "      <th>label_id_14</th>\n",
              "      <th>label_id_16</th>\n",
              "      <th>label_id_17</th>\n",
              "      <th>label_id_22</th>\n",
              "      <th>label_id_24</th>\n",
              "      <th>label_id_26</th>\n",
              "      <th>label_id_27</th>\n",
              "      <th>label_id_29</th>\n",
              "      <th>label_id_30</th>\n",
              "      <th>label_id_31</th>\n",
              "      <th>label_id_32</th>\n",
              "      <th>label_id_33</th>\n",
              "      <th>label_id_35</th>\n",
              "      <th>label_id_36</th>\n",
              "      <th>label_id_38</th>\n",
              "      <th>label_id_39</th>\n",
              "      <th>label_id_40</th>\n",
              "      <th>label_id_42</th>\n",
              "      <th>label_id_43</th>\n",
              "      <th>label_id_44</th>\n",
              "      <th>label_id_46</th>\n",
              "      <th>label_id_47</th>\n",
              "      <th>label_id_51</th>\n",
              "      <th>label_id_54</th>\n",
              "      <th>label_id_57</th>\n",
              "      <th>label_id_58</th>\n",
              "      <th>label_id_59</th>\n",
              "      <th>label_id_61</th>\n",
              "      <th>label_id_64</th>\n",
              "      <th>label_id_66</th>\n",
              "      <th>...</th>\n",
              "      <th>phone_brand_desci</th>\n",
              "      <th>phone_brand_dowe</th>\n",
              "      <th>phone_brand_epai</th>\n",
              "      <th>phone_brand_fks</th>\n",
              "      <th>phone_brand_google</th>\n",
              "      <th>phone_brand_greeno</th>\n",
              "      <th>phone_brand_haier</th>\n",
              "      <th>phone_brand_hammer</th>\n",
              "      <th>phone_brand_hasse</th>\n",
              "      <th>phone_brand_hisense</th>\n",
              "      <th>phone_brand_ipair</th>\n",
              "      <th>phone_brand_kiwu</th>\n",
              "      <th>phone_brand_koobee</th>\n",
              "      <th>phone_brand_kupo</th>\n",
              "      <th>phone_brand_lenovo</th>\n",
              "      <th>phone_brand_lingyun</th>\n",
              "      <th>phone_brand_lshi</th>\n",
              "      <th>phone_brand_meitu</th>\n",
              "      <th>phone_brand_mengmi</th>\n",
              "      <th>phone_brand_micky</th>\n",
              "      <th>phone_brand_moto</th>\n",
              "      <th>phone_brand_newman</th>\n",
              "      <th>phone_brand_nibilu</th>\n",
              "      <th>phone_brand_nokia</th>\n",
              "      <th>phone_brand_nubia</th>\n",
              "      <th>phone_brand_nuomi</th>\n",
              "      <th>phone_brand_obi</th>\n",
              "      <th>phone_brand_oneplus</th>\n",
              "      <th>phone_brand_ouxin</th>\n",
              "      <th>phone_brand_panasonic</th>\n",
              "      <th>phone_brand_samsung</th>\n",
              "      <th>phone_brand_vivo</th>\n",
              "      <th>phone_brand_weimi</th>\n",
              "      <th>phone_brand_weitu</th>\n",
              "      <th>phone_brand_wpf</th>\n",
              "      <th>phone_brand_xiangmi</th>\n",
              "      <th>phone_brand_ximi</th>\n",
              "      <th>phone_brand_yougo</th>\n",
              "      <th>phone_brand_youmi</th>\n",
              "      <th>phone_brand_yuxin</th>\n",
              "    </tr>\n",
              "  </thead>\n",
              "  <tbody>\n",
              "    <tr>\n",
              "      <th>0</th>\n",
              "      <td>1</td>\n",
              "      <td>M</td>\n",
              "      <td>19.0</td>\n",
              "      <td>M22-</td>\n",
              "      <td>0</td>\n",
              "      <td>0</td>\n",
              "      <td>0</td>\n",
              "      <td>0</td>\n",
              "      <td>0</td>\n",
              "      <td>0</td>\n",
              "      <td>0</td>\n",
              "      <td>0</td>\n",
              "      <td>0</td>\n",
              "      <td>0</td>\n",
              "      <td>0</td>\n",
              "      <td>0</td>\n",
              "      <td>0</td>\n",
              "      <td>0</td>\n",
              "      <td>0</td>\n",
              "      <td>0</td>\n",
              "      <td>0</td>\n",
              "      <td>0</td>\n",
              "      <td>0</td>\n",
              "      <td>0</td>\n",
              "      <td>0</td>\n",
              "      <td>0</td>\n",
              "      <td>0</td>\n",
              "      <td>0</td>\n",
              "      <td>0</td>\n",
              "      <td>0</td>\n",
              "      <td>0</td>\n",
              "      <td>0</td>\n",
              "      <td>0</td>\n",
              "      <td>0</td>\n",
              "      <td>0</td>\n",
              "      <td>0</td>\n",
              "      <td>0</td>\n",
              "      <td>0</td>\n",
              "      <td>0</td>\n",
              "      <td>0</td>\n",
              "      <td>...</td>\n",
              "      <td>0</td>\n",
              "      <td>0</td>\n",
              "      <td>0</td>\n",
              "      <td>0</td>\n",
              "      <td>0</td>\n",
              "      <td>0</td>\n",
              "      <td>0</td>\n",
              "      <td>0</td>\n",
              "      <td>0</td>\n",
              "      <td>0</td>\n",
              "      <td>0</td>\n",
              "      <td>0</td>\n",
              "      <td>0</td>\n",
              "      <td>0</td>\n",
              "      <td>0</td>\n",
              "      <td>0</td>\n",
              "      <td>0</td>\n",
              "      <td>0</td>\n",
              "      <td>0</td>\n",
              "      <td>0</td>\n",
              "      <td>0</td>\n",
              "      <td>0</td>\n",
              "      <td>0</td>\n",
              "      <td>0</td>\n",
              "      <td>0</td>\n",
              "      <td>0</td>\n",
              "      <td>0</td>\n",
              "      <td>0</td>\n",
              "      <td>0</td>\n",
              "      <td>0</td>\n",
              "      <td>0</td>\n",
              "      <td>0</td>\n",
              "      <td>0</td>\n",
              "      <td>0</td>\n",
              "      <td>0</td>\n",
              "      <td>0</td>\n",
              "      <td>0</td>\n",
              "      <td>0</td>\n",
              "      <td>0</td>\n",
              "      <td>0</td>\n",
              "    </tr>\n",
              "    <tr>\n",
              "      <th>1</th>\n",
              "      <td>1</td>\n",
              "      <td>M</td>\n",
              "      <td>60.0</td>\n",
              "      <td>M39+</td>\n",
              "      <td>0</td>\n",
              "      <td>0</td>\n",
              "      <td>0</td>\n",
              "      <td>0</td>\n",
              "      <td>0</td>\n",
              "      <td>0</td>\n",
              "      <td>0</td>\n",
              "      <td>0</td>\n",
              "      <td>0</td>\n",
              "      <td>0</td>\n",
              "      <td>0</td>\n",
              "      <td>0</td>\n",
              "      <td>0</td>\n",
              "      <td>0</td>\n",
              "      <td>0</td>\n",
              "      <td>0</td>\n",
              "      <td>0</td>\n",
              "      <td>0</td>\n",
              "      <td>0</td>\n",
              "      <td>0</td>\n",
              "      <td>0</td>\n",
              "      <td>0</td>\n",
              "      <td>0</td>\n",
              "      <td>0</td>\n",
              "      <td>0</td>\n",
              "      <td>0</td>\n",
              "      <td>0</td>\n",
              "      <td>0</td>\n",
              "      <td>0</td>\n",
              "      <td>0</td>\n",
              "      <td>0</td>\n",
              "      <td>0</td>\n",
              "      <td>0</td>\n",
              "      <td>0</td>\n",
              "      <td>0</td>\n",
              "      <td>0</td>\n",
              "      <td>...</td>\n",
              "      <td>0</td>\n",
              "      <td>0</td>\n",
              "      <td>0</td>\n",
              "      <td>0</td>\n",
              "      <td>0</td>\n",
              "      <td>0</td>\n",
              "      <td>0</td>\n",
              "      <td>0</td>\n",
              "      <td>0</td>\n",
              "      <td>0</td>\n",
              "      <td>0</td>\n",
              "      <td>0</td>\n",
              "      <td>0</td>\n",
              "      <td>0</td>\n",
              "      <td>0</td>\n",
              "      <td>0</td>\n",
              "      <td>0</td>\n",
              "      <td>0</td>\n",
              "      <td>0</td>\n",
              "      <td>0</td>\n",
              "      <td>0</td>\n",
              "      <td>0</td>\n",
              "      <td>0</td>\n",
              "      <td>0</td>\n",
              "      <td>0</td>\n",
              "      <td>0</td>\n",
              "      <td>0</td>\n",
              "      <td>0</td>\n",
              "      <td>0</td>\n",
              "      <td>0</td>\n",
              "      <td>0</td>\n",
              "      <td>0</td>\n",
              "      <td>0</td>\n",
              "      <td>0</td>\n",
              "      <td>0</td>\n",
              "      <td>0</td>\n",
              "      <td>0</td>\n",
              "      <td>0</td>\n",
              "      <td>0</td>\n",
              "      <td>0</td>\n",
              "    </tr>\n",
              "    <tr>\n",
              "      <th>2</th>\n",
              "      <td>1</td>\n",
              "      <td>M</td>\n",
              "      <td>28.0</td>\n",
              "      <td>M27-28</td>\n",
              "      <td>0</td>\n",
              "      <td>0</td>\n",
              "      <td>0</td>\n",
              "      <td>0</td>\n",
              "      <td>0</td>\n",
              "      <td>0</td>\n",
              "      <td>0</td>\n",
              "      <td>0</td>\n",
              "      <td>0</td>\n",
              "      <td>0</td>\n",
              "      <td>0</td>\n",
              "      <td>0</td>\n",
              "      <td>0</td>\n",
              "      <td>0</td>\n",
              "      <td>0</td>\n",
              "      <td>0</td>\n",
              "      <td>0</td>\n",
              "      <td>0</td>\n",
              "      <td>0</td>\n",
              "      <td>0</td>\n",
              "      <td>0</td>\n",
              "      <td>0</td>\n",
              "      <td>0</td>\n",
              "      <td>0</td>\n",
              "      <td>0</td>\n",
              "      <td>0</td>\n",
              "      <td>0</td>\n",
              "      <td>0</td>\n",
              "      <td>0</td>\n",
              "      <td>0</td>\n",
              "      <td>0</td>\n",
              "      <td>0</td>\n",
              "      <td>0</td>\n",
              "      <td>0</td>\n",
              "      <td>0</td>\n",
              "      <td>0</td>\n",
              "      <td>...</td>\n",
              "      <td>0</td>\n",
              "      <td>0</td>\n",
              "      <td>0</td>\n",
              "      <td>0</td>\n",
              "      <td>0</td>\n",
              "      <td>0</td>\n",
              "      <td>0</td>\n",
              "      <td>0</td>\n",
              "      <td>0</td>\n",
              "      <td>0</td>\n",
              "      <td>0</td>\n",
              "      <td>0</td>\n",
              "      <td>0</td>\n",
              "      <td>0</td>\n",
              "      <td>0</td>\n",
              "      <td>0</td>\n",
              "      <td>0</td>\n",
              "      <td>0</td>\n",
              "      <td>0</td>\n",
              "      <td>0</td>\n",
              "      <td>0</td>\n",
              "      <td>0</td>\n",
              "      <td>0</td>\n",
              "      <td>0</td>\n",
              "      <td>0</td>\n",
              "      <td>0</td>\n",
              "      <td>0</td>\n",
              "      <td>0</td>\n",
              "      <td>0</td>\n",
              "      <td>0</td>\n",
              "      <td>0</td>\n",
              "      <td>0</td>\n",
              "      <td>0</td>\n",
              "      <td>0</td>\n",
              "      <td>0</td>\n",
              "      <td>0</td>\n",
              "      <td>0</td>\n",
              "      <td>0</td>\n",
              "      <td>0</td>\n",
              "      <td>0</td>\n",
              "    </tr>\n",
              "    <tr>\n",
              "      <th>3</th>\n",
              "      <td>1</td>\n",
              "      <td>M</td>\n",
              "      <td>26.0</td>\n",
              "      <td>M23-26</td>\n",
              "      <td>0</td>\n",
              "      <td>0</td>\n",
              "      <td>0</td>\n",
              "      <td>0</td>\n",
              "      <td>0</td>\n",
              "      <td>0</td>\n",
              "      <td>0</td>\n",
              "      <td>0</td>\n",
              "      <td>0</td>\n",
              "      <td>0</td>\n",
              "      <td>0</td>\n",
              "      <td>0</td>\n",
              "      <td>0</td>\n",
              "      <td>0</td>\n",
              "      <td>0</td>\n",
              "      <td>0</td>\n",
              "      <td>0</td>\n",
              "      <td>0</td>\n",
              "      <td>0</td>\n",
              "      <td>0</td>\n",
              "      <td>0</td>\n",
              "      <td>0</td>\n",
              "      <td>0</td>\n",
              "      <td>0</td>\n",
              "      <td>0</td>\n",
              "      <td>0</td>\n",
              "      <td>0</td>\n",
              "      <td>0</td>\n",
              "      <td>0</td>\n",
              "      <td>0</td>\n",
              "      <td>0</td>\n",
              "      <td>0</td>\n",
              "      <td>0</td>\n",
              "      <td>0</td>\n",
              "      <td>0</td>\n",
              "      <td>0</td>\n",
              "      <td>...</td>\n",
              "      <td>0</td>\n",
              "      <td>0</td>\n",
              "      <td>0</td>\n",
              "      <td>0</td>\n",
              "      <td>0</td>\n",
              "      <td>0</td>\n",
              "      <td>0</td>\n",
              "      <td>0</td>\n",
              "      <td>0</td>\n",
              "      <td>0</td>\n",
              "      <td>0</td>\n",
              "      <td>0</td>\n",
              "      <td>0</td>\n",
              "      <td>0</td>\n",
              "      <td>0</td>\n",
              "      <td>0</td>\n",
              "      <td>0</td>\n",
              "      <td>0</td>\n",
              "      <td>0</td>\n",
              "      <td>0</td>\n",
              "      <td>0</td>\n",
              "      <td>0</td>\n",
              "      <td>0</td>\n",
              "      <td>0</td>\n",
              "      <td>0</td>\n",
              "      <td>0</td>\n",
              "      <td>0</td>\n",
              "      <td>0</td>\n",
              "      <td>0</td>\n",
              "      <td>0</td>\n",
              "      <td>0</td>\n",
              "      <td>0</td>\n",
              "      <td>0</td>\n",
              "      <td>0</td>\n",
              "      <td>0</td>\n",
              "      <td>0</td>\n",
              "      <td>0</td>\n",
              "      <td>0</td>\n",
              "      <td>0</td>\n",
              "      <td>0</td>\n",
              "    </tr>\n",
              "    <tr>\n",
              "      <th>4</th>\n",
              "      <td>1</td>\n",
              "      <td>M</td>\n",
              "      <td>22.0</td>\n",
              "      <td>M22-</td>\n",
              "      <td>0</td>\n",
              "      <td>0</td>\n",
              "      <td>0</td>\n",
              "      <td>0</td>\n",
              "      <td>0</td>\n",
              "      <td>0</td>\n",
              "      <td>0</td>\n",
              "      <td>0</td>\n",
              "      <td>0</td>\n",
              "      <td>0</td>\n",
              "      <td>0</td>\n",
              "      <td>0</td>\n",
              "      <td>0</td>\n",
              "      <td>0</td>\n",
              "      <td>0</td>\n",
              "      <td>0</td>\n",
              "      <td>0</td>\n",
              "      <td>0</td>\n",
              "      <td>0</td>\n",
              "      <td>0</td>\n",
              "      <td>0</td>\n",
              "      <td>0</td>\n",
              "      <td>0</td>\n",
              "      <td>0</td>\n",
              "      <td>0</td>\n",
              "      <td>0</td>\n",
              "      <td>0</td>\n",
              "      <td>0</td>\n",
              "      <td>0</td>\n",
              "      <td>0</td>\n",
              "      <td>0</td>\n",
              "      <td>0</td>\n",
              "      <td>0</td>\n",
              "      <td>0</td>\n",
              "      <td>0</td>\n",
              "      <td>0</td>\n",
              "      <td>...</td>\n",
              "      <td>0</td>\n",
              "      <td>0</td>\n",
              "      <td>0</td>\n",
              "      <td>0</td>\n",
              "      <td>0</td>\n",
              "      <td>0</td>\n",
              "      <td>0</td>\n",
              "      <td>0</td>\n",
              "      <td>0</td>\n",
              "      <td>0</td>\n",
              "      <td>0</td>\n",
              "      <td>0</td>\n",
              "      <td>0</td>\n",
              "      <td>0</td>\n",
              "      <td>0</td>\n",
              "      <td>0</td>\n",
              "      <td>0</td>\n",
              "      <td>0</td>\n",
              "      <td>0</td>\n",
              "      <td>0</td>\n",
              "      <td>0</td>\n",
              "      <td>0</td>\n",
              "      <td>0</td>\n",
              "      <td>0</td>\n",
              "      <td>0</td>\n",
              "      <td>0</td>\n",
              "      <td>0</td>\n",
              "      <td>0</td>\n",
              "      <td>0</td>\n",
              "      <td>0</td>\n",
              "      <td>0</td>\n",
              "      <td>0</td>\n",
              "      <td>0</td>\n",
              "      <td>0</td>\n",
              "      <td>0</td>\n",
              "      <td>0</td>\n",
              "      <td>0</td>\n",
              "      <td>0</td>\n",
              "      <td>0</td>\n",
              "      <td>0</td>\n",
              "    </tr>\n",
              "  </tbody>\n",
              "</table>\n",
              "<p>5 rows × 284 columns</p>\n",
              "</div>"
            ],
            "text/plain": [
              "   is_active gender  ...  phone_brand_youmi phone_brand_yuxin\n",
              "0          1      M  ...                  0                 0\n",
              "1          1      M  ...                  0                 0\n",
              "2          1      M  ...                  0                 0\n",
              "3          1      M  ...                  0                 0\n",
              "4          1      M  ...                  0                 0\n",
              "\n",
              "[5 rows x 284 columns]"
            ]
          },
          "metadata": {
            "tags": []
          },
          "execution_count": 103
        }
      ]
    },
    {
      "cell_type": "code",
      "metadata": {
        "colab": {
          "base_uri": "https://localhost:8080/"
        },
        "id": "NwsD-9OS66q7",
        "outputId": "eec8494f-1866-411e-8bfc-72bf634b11c5"
      },
      "source": [
        "#Drop gender, age and group for the analysis and obtain the information describing the dataset as we are more interested in the phone brand and information reagrding the apps.\r\n",
        "df_cluster= df.drop(['gender','age','group'],axis=1)\r\n",
        "\r\n",
        "#Extract information\r\n",
        "df_cluster.info()"
      ],
      "execution_count": 104,
      "outputs": [
        {
          "output_type": "stream",
          "text": [
            "<class 'pandas.core.frame.DataFrame'>\n",
            "RangeIndex: 23290 entries, 0 to 23289\n",
            "Columns: 617 entries, is_active to phone_brand_yuxin\n",
            "dtypes: Sparse[int64, 0](615), int64(2)\n",
            "memory usage: 909.9 KB\n"
          ],
          "name": "stdout"
        }
      ]
    },
    {
      "cell_type": "markdown",
      "metadata": {
        "id": "fZEsQ5E1ClkO"
      },
      "source": [
        "A copy of the dataset will be done and the information will be normalized. This will improve the performance of clustering. Normalize the data. Standardize to bring all features to the same scale i.e. mean to zero and the standard deviation to 1."
      ]
    },
    {
      "cell_type": "code",
      "metadata": {
        "colab": {
          "base_uri": "https://localhost:8080/",
          "height": 244
        },
        "id": "B-lk2OG0ru4d",
        "outputId": "eade9b79-3108-442d-bede-5de0beaf6976"
      },
      "source": [
        "scaler = StandardScaler()\r\n",
        "scaler.fit(df_cluster)\r\n",
        "X_std = scaler.transform(df_cluster)\r\n",
        "df_norm = pd.DataFrame(X_std, columns=df_cluster.columns)\r\n",
        "df_norm.head()"
      ],
      "execution_count": 105,
      "outputs": [
        {
          "output_type": "execute_result",
          "data": {
            "text/html": [
              "<div>\n",
              "<style scoped>\n",
              "    .dataframe tbody tr th:only-of-type {\n",
              "        vertical-align: middle;\n",
              "    }\n",
              "\n",
              "    .dataframe tbody tr th {\n",
              "        vertical-align: top;\n",
              "    }\n",
              "\n",
              "    .dataframe thead th {\n",
              "        text-align: right;\n",
              "    }\n",
              "</style>\n",
              "<table border=\"1\" class=\"dataframe\">\n",
              "  <thead>\n",
              "    <tr style=\"text-align: right;\">\n",
              "      <th></th>\n",
              "      <th>is_active</th>\n",
              "      <th>device_id</th>\n",
              "      <th>label_id_2</th>\n",
              "      <th>label_id_4</th>\n",
              "      <th>label_id_6</th>\n",
              "      <th>label_id_7</th>\n",
              "      <th>label_id_8</th>\n",
              "      <th>label_id_9</th>\n",
              "      <th>label_id_10</th>\n",
              "      <th>label_id_11</th>\n",
              "      <th>label_id_12</th>\n",
              "      <th>label_id_13</th>\n",
              "      <th>label_id_14</th>\n",
              "      <th>label_id_16</th>\n",
              "      <th>label_id_17</th>\n",
              "      <th>label_id_18</th>\n",
              "      <th>label_id_19</th>\n",
              "      <th>label_id_20</th>\n",
              "      <th>label_id_21</th>\n",
              "      <th>label_id_22</th>\n",
              "      <th>label_id_23</th>\n",
              "      <th>label_id_24</th>\n",
              "      <th>label_id_25</th>\n",
              "      <th>label_id_26</th>\n",
              "      <th>label_id_27</th>\n",
              "      <th>label_id_29</th>\n",
              "      <th>label_id_30</th>\n",
              "      <th>label_id_31</th>\n",
              "      <th>label_id_32</th>\n",
              "      <th>label_id_33</th>\n",
              "      <th>label_id_35</th>\n",
              "      <th>label_id_36</th>\n",
              "      <th>label_id_37</th>\n",
              "      <th>label_id_38</th>\n",
              "      <th>label_id_39</th>\n",
              "      <th>label_id_40</th>\n",
              "      <th>label_id_41</th>\n",
              "      <th>label_id_42</th>\n",
              "      <th>label_id_43</th>\n",
              "      <th>label_id_44</th>\n",
              "      <th>...</th>\n",
              "      <th>phone_brand_greeno</th>\n",
              "      <th>phone_brand_haier</th>\n",
              "      <th>phone_brand_hammer</th>\n",
              "      <th>phone_brand_hasse</th>\n",
              "      <th>phone_brand_heymi</th>\n",
              "      <th>phone_brand_hisense</th>\n",
              "      <th>phone_brand_ipair</th>\n",
              "      <th>phone_brand_kiwu</th>\n",
              "      <th>phone_brand_koobee</th>\n",
              "      <th>phone_brand_kupo</th>\n",
              "      <th>phone_brand_lenovo</th>\n",
              "      <th>phone_brand_lingyun</th>\n",
              "      <th>phone_brand_lshi</th>\n",
              "      <th>phone_brand_meitu</th>\n",
              "      <th>phone_brand_mengmi</th>\n",
              "      <th>phone_brand_micky</th>\n",
              "      <th>phone_brand_mige</th>\n",
              "      <th>phone_brand_mole</th>\n",
              "      <th>phone_brand_moto</th>\n",
              "      <th>phone_brand_newman</th>\n",
              "      <th>phone_brand_nibilu</th>\n",
              "      <th>phone_brand_nokia</th>\n",
              "      <th>phone_brand_nubia</th>\n",
              "      <th>phone_brand_nuomi</th>\n",
              "      <th>phone_brand_obi</th>\n",
              "      <th>phone_brand_oneplus</th>\n",
              "      <th>phone_brand_ouxin</th>\n",
              "      <th>phone_brand_panasonic</th>\n",
              "      <th>phone_brand_pner</th>\n",
              "      <th>phone_brand_samsung</th>\n",
              "      <th>phone_brand_smallt</th>\n",
              "      <th>phone_brand_vivo</th>\n",
              "      <th>phone_brand_weimi</th>\n",
              "      <th>phone_brand_weitu</th>\n",
              "      <th>phone_brand_wpf</th>\n",
              "      <th>phone_brand_xiangmi</th>\n",
              "      <th>phone_brand_ximi</th>\n",
              "      <th>phone_brand_yougo</th>\n",
              "      <th>phone_brand_youmi</th>\n",
              "      <th>phone_brand_yuxin</th>\n",
              "    </tr>\n",
              "  </thead>\n",
              "  <tbody>\n",
              "    <tr>\n",
              "      <th>0</th>\n",
              "      <td>1.000086</td>\n",
              "      <td>0.279750</td>\n",
              "      <td>0.0</td>\n",
              "      <td>0.0</td>\n",
              "      <td>-0.009267</td>\n",
              "      <td>0.0</td>\n",
              "      <td>-0.021738</td>\n",
              "      <td>0.0</td>\n",
              "      <td>-0.006553</td>\n",
              "      <td>-0.035913</td>\n",
              "      <td>-0.01135</td>\n",
              "      <td>-0.027811</td>\n",
              "      <td>-0.01135</td>\n",
              "      <td>-0.020726</td>\n",
              "      <td>-0.014654</td>\n",
              "      <td>0.0</td>\n",
              "      <td>0.0</td>\n",
              "      <td>0.0</td>\n",
              "      <td>0.0</td>\n",
              "      <td>-0.039346</td>\n",
              "      <td>0.0</td>\n",
              "      <td>-0.014654</td>\n",
              "      <td>0.0</td>\n",
              "      <td>-0.013106</td>\n",
              "      <td>-0.013106</td>\n",
              "      <td>-0.01135</td>\n",
              "      <td>-0.01135</td>\n",
              "      <td>-0.009267</td>\n",
              "      <td>-0.013106</td>\n",
              "      <td>-0.006553</td>\n",
              "      <td>-0.006553</td>\n",
              "      <td>-0.013106</td>\n",
              "      <td>0.0</td>\n",
              "      <td>-0.006553</td>\n",
              "      <td>-0.006553</td>\n",
              "      <td>-0.006553</td>\n",
              "      <td>0.0</td>\n",
              "      <td>-0.030749</td>\n",
              "      <td>-0.01135</td>\n",
              "      <td>-0.025386</td>\n",
              "      <td>...</td>\n",
              "      <td>-0.006553</td>\n",
              "      <td>-0.009267</td>\n",
              "      <td>-0.068572</td>\n",
              "      <td>-0.009267</td>\n",
              "      <td>0.0</td>\n",
              "      <td>-0.039346</td>\n",
              "      <td>-0.01135</td>\n",
              "      <td>-0.006553</td>\n",
              "      <td>-0.014654</td>\n",
              "      <td>-0.009267</td>\n",
              "      <td>-0.15494</td>\n",
              "      <td>-0.014654</td>\n",
              "      <td>-0.140365</td>\n",
              "      <td>-0.030041</td>\n",
              "      <td>-0.01135</td>\n",
              "      <td>-0.009267</td>\n",
              "      <td>0.0</td>\n",
              "      <td>0.0</td>\n",
              "      <td>-0.032118</td>\n",
              "      <td>-0.018537</td>\n",
              "      <td>-0.018537</td>\n",
              "      <td>-0.017339</td>\n",
              "      <td>-0.089968</td>\n",
              "      <td>-0.006553</td>\n",
              "      <td>-0.009267</td>\n",
              "      <td>-0.054906</td>\n",
              "      <td>-0.006553</td>\n",
              "      <td>-0.013106</td>\n",
              "      <td>0.0</td>\n",
              "      <td>-0.404796</td>\n",
              "      <td>0.0</td>\n",
              "      <td>-0.27604</td>\n",
              "      <td>-0.01135</td>\n",
              "      <td>-0.014654</td>\n",
              "      <td>-0.009267</td>\n",
              "      <td>-0.006553</td>\n",
              "      <td>-0.009267</td>\n",
              "      <td>-0.014654</td>\n",
              "      <td>-0.019662</td>\n",
              "      <td>-0.040426</td>\n",
              "    </tr>\n",
              "    <tr>\n",
              "      <th>1</th>\n",
              "      <td>1.000086</td>\n",
              "      <td>1.348179</td>\n",
              "      <td>0.0</td>\n",
              "      <td>0.0</td>\n",
              "      <td>-0.009267</td>\n",
              "      <td>0.0</td>\n",
              "      <td>-0.021738</td>\n",
              "      <td>0.0</td>\n",
              "      <td>-0.006553</td>\n",
              "      <td>-0.035913</td>\n",
              "      <td>-0.01135</td>\n",
              "      <td>-0.027811</td>\n",
              "      <td>-0.01135</td>\n",
              "      <td>-0.020726</td>\n",
              "      <td>-0.014654</td>\n",
              "      <td>0.0</td>\n",
              "      <td>0.0</td>\n",
              "      <td>0.0</td>\n",
              "      <td>0.0</td>\n",
              "      <td>-0.039346</td>\n",
              "      <td>0.0</td>\n",
              "      <td>-0.014654</td>\n",
              "      <td>0.0</td>\n",
              "      <td>-0.013106</td>\n",
              "      <td>-0.013106</td>\n",
              "      <td>-0.01135</td>\n",
              "      <td>-0.01135</td>\n",
              "      <td>-0.009267</td>\n",
              "      <td>-0.013106</td>\n",
              "      <td>-0.006553</td>\n",
              "      <td>-0.006553</td>\n",
              "      <td>-0.013106</td>\n",
              "      <td>0.0</td>\n",
              "      <td>-0.006553</td>\n",
              "      <td>-0.006553</td>\n",
              "      <td>-0.006553</td>\n",
              "      <td>0.0</td>\n",
              "      <td>-0.030749</td>\n",
              "      <td>-0.01135</td>\n",
              "      <td>-0.025386</td>\n",
              "      <td>...</td>\n",
              "      <td>-0.006553</td>\n",
              "      <td>-0.009267</td>\n",
              "      <td>-0.068572</td>\n",
              "      <td>-0.009267</td>\n",
              "      <td>0.0</td>\n",
              "      <td>-0.039346</td>\n",
              "      <td>-0.01135</td>\n",
              "      <td>-0.006553</td>\n",
              "      <td>-0.014654</td>\n",
              "      <td>-0.009267</td>\n",
              "      <td>-0.15494</td>\n",
              "      <td>-0.014654</td>\n",
              "      <td>-0.140365</td>\n",
              "      <td>-0.030041</td>\n",
              "      <td>-0.01135</td>\n",
              "      <td>-0.009267</td>\n",
              "      <td>0.0</td>\n",
              "      <td>0.0</td>\n",
              "      <td>-0.032118</td>\n",
              "      <td>-0.018537</td>\n",
              "      <td>-0.018537</td>\n",
              "      <td>-0.017339</td>\n",
              "      <td>-0.089968</td>\n",
              "      <td>-0.006553</td>\n",
              "      <td>-0.009267</td>\n",
              "      <td>-0.054906</td>\n",
              "      <td>-0.006553</td>\n",
              "      <td>-0.013106</td>\n",
              "      <td>0.0</td>\n",
              "      <td>-0.404796</td>\n",
              "      <td>0.0</td>\n",
              "      <td>-0.27604</td>\n",
              "      <td>-0.01135</td>\n",
              "      <td>-0.014654</td>\n",
              "      <td>-0.009267</td>\n",
              "      <td>-0.006553</td>\n",
              "      <td>-0.009267</td>\n",
              "      <td>-0.014654</td>\n",
              "      <td>-0.019662</td>\n",
              "      <td>-0.040426</td>\n",
              "    </tr>\n",
              "    <tr>\n",
              "      <th>2</th>\n",
              "      <td>1.000086</td>\n",
              "      <td>-0.645253</td>\n",
              "      <td>0.0</td>\n",
              "      <td>0.0</td>\n",
              "      <td>-0.009267</td>\n",
              "      <td>0.0</td>\n",
              "      <td>-0.021738</td>\n",
              "      <td>0.0</td>\n",
              "      <td>-0.006553</td>\n",
              "      <td>-0.035913</td>\n",
              "      <td>-0.01135</td>\n",
              "      <td>-0.027811</td>\n",
              "      <td>-0.01135</td>\n",
              "      <td>-0.020726</td>\n",
              "      <td>-0.014654</td>\n",
              "      <td>0.0</td>\n",
              "      <td>0.0</td>\n",
              "      <td>0.0</td>\n",
              "      <td>0.0</td>\n",
              "      <td>-0.039346</td>\n",
              "      <td>0.0</td>\n",
              "      <td>-0.014654</td>\n",
              "      <td>0.0</td>\n",
              "      <td>-0.013106</td>\n",
              "      <td>-0.013106</td>\n",
              "      <td>-0.01135</td>\n",
              "      <td>-0.01135</td>\n",
              "      <td>-0.009267</td>\n",
              "      <td>-0.013106</td>\n",
              "      <td>-0.006553</td>\n",
              "      <td>-0.006553</td>\n",
              "      <td>-0.013106</td>\n",
              "      <td>0.0</td>\n",
              "      <td>-0.006553</td>\n",
              "      <td>-0.006553</td>\n",
              "      <td>-0.006553</td>\n",
              "      <td>0.0</td>\n",
              "      <td>-0.030749</td>\n",
              "      <td>-0.01135</td>\n",
              "      <td>-0.025386</td>\n",
              "      <td>...</td>\n",
              "      <td>-0.006553</td>\n",
              "      <td>-0.009267</td>\n",
              "      <td>-0.068572</td>\n",
              "      <td>-0.009267</td>\n",
              "      <td>0.0</td>\n",
              "      <td>-0.039346</td>\n",
              "      <td>-0.01135</td>\n",
              "      <td>-0.006553</td>\n",
              "      <td>-0.014654</td>\n",
              "      <td>-0.009267</td>\n",
              "      <td>-0.15494</td>\n",
              "      <td>-0.014654</td>\n",
              "      <td>-0.140365</td>\n",
              "      <td>-0.030041</td>\n",
              "      <td>-0.01135</td>\n",
              "      <td>-0.009267</td>\n",
              "      <td>0.0</td>\n",
              "      <td>0.0</td>\n",
              "      <td>-0.032118</td>\n",
              "      <td>-0.018537</td>\n",
              "      <td>-0.018537</td>\n",
              "      <td>-0.017339</td>\n",
              "      <td>-0.089968</td>\n",
              "      <td>-0.006553</td>\n",
              "      <td>-0.009267</td>\n",
              "      <td>-0.054906</td>\n",
              "      <td>-0.006553</td>\n",
              "      <td>-0.013106</td>\n",
              "      <td>0.0</td>\n",
              "      <td>-0.404796</td>\n",
              "      <td>0.0</td>\n",
              "      <td>-0.27604</td>\n",
              "      <td>-0.01135</td>\n",
              "      <td>-0.014654</td>\n",
              "      <td>-0.009267</td>\n",
              "      <td>-0.006553</td>\n",
              "      <td>-0.009267</td>\n",
              "      <td>-0.014654</td>\n",
              "      <td>-0.019662</td>\n",
              "      <td>-0.040426</td>\n",
              "    </tr>\n",
              "    <tr>\n",
              "      <th>3</th>\n",
              "      <td>1.000086</td>\n",
              "      <td>-1.225984</td>\n",
              "      <td>0.0</td>\n",
              "      <td>0.0</td>\n",
              "      <td>-0.009267</td>\n",
              "      <td>0.0</td>\n",
              "      <td>-0.021738</td>\n",
              "      <td>0.0</td>\n",
              "      <td>-0.006553</td>\n",
              "      <td>-0.035913</td>\n",
              "      <td>-0.01135</td>\n",
              "      <td>-0.027811</td>\n",
              "      <td>-0.01135</td>\n",
              "      <td>-0.020726</td>\n",
              "      <td>-0.014654</td>\n",
              "      <td>0.0</td>\n",
              "      <td>0.0</td>\n",
              "      <td>0.0</td>\n",
              "      <td>0.0</td>\n",
              "      <td>-0.039346</td>\n",
              "      <td>0.0</td>\n",
              "      <td>-0.014654</td>\n",
              "      <td>0.0</td>\n",
              "      <td>-0.013106</td>\n",
              "      <td>-0.013106</td>\n",
              "      <td>-0.01135</td>\n",
              "      <td>-0.01135</td>\n",
              "      <td>-0.009267</td>\n",
              "      <td>-0.013106</td>\n",
              "      <td>-0.006553</td>\n",
              "      <td>-0.006553</td>\n",
              "      <td>-0.013106</td>\n",
              "      <td>0.0</td>\n",
              "      <td>-0.006553</td>\n",
              "      <td>-0.006553</td>\n",
              "      <td>-0.006553</td>\n",
              "      <td>0.0</td>\n",
              "      <td>-0.030749</td>\n",
              "      <td>-0.01135</td>\n",
              "      <td>-0.025386</td>\n",
              "      <td>...</td>\n",
              "      <td>-0.006553</td>\n",
              "      <td>-0.009267</td>\n",
              "      <td>-0.068572</td>\n",
              "      <td>-0.009267</td>\n",
              "      <td>0.0</td>\n",
              "      <td>-0.039346</td>\n",
              "      <td>-0.01135</td>\n",
              "      <td>-0.006553</td>\n",
              "      <td>-0.014654</td>\n",
              "      <td>-0.009267</td>\n",
              "      <td>-0.15494</td>\n",
              "      <td>-0.014654</td>\n",
              "      <td>-0.140365</td>\n",
              "      <td>-0.030041</td>\n",
              "      <td>-0.01135</td>\n",
              "      <td>-0.009267</td>\n",
              "      <td>0.0</td>\n",
              "      <td>0.0</td>\n",
              "      <td>-0.032118</td>\n",
              "      <td>-0.018537</td>\n",
              "      <td>-0.018537</td>\n",
              "      <td>-0.017339</td>\n",
              "      <td>-0.089968</td>\n",
              "      <td>-0.006553</td>\n",
              "      <td>-0.009267</td>\n",
              "      <td>-0.054906</td>\n",
              "      <td>-0.006553</td>\n",
              "      <td>-0.013106</td>\n",
              "      <td>0.0</td>\n",
              "      <td>-0.404796</td>\n",
              "      <td>0.0</td>\n",
              "      <td>-0.27604</td>\n",
              "      <td>-0.01135</td>\n",
              "      <td>-0.014654</td>\n",
              "      <td>-0.009267</td>\n",
              "      <td>-0.006553</td>\n",
              "      <td>-0.009267</td>\n",
              "      <td>-0.014654</td>\n",
              "      <td>-0.019662</td>\n",
              "      <td>-0.040426</td>\n",
              "    </tr>\n",
              "    <tr>\n",
              "      <th>4</th>\n",
              "      <td>1.000086</td>\n",
              "      <td>-1.056314</td>\n",
              "      <td>0.0</td>\n",
              "      <td>0.0</td>\n",
              "      <td>-0.009267</td>\n",
              "      <td>0.0</td>\n",
              "      <td>-0.021738</td>\n",
              "      <td>0.0</td>\n",
              "      <td>-0.006553</td>\n",
              "      <td>-0.035913</td>\n",
              "      <td>-0.01135</td>\n",
              "      <td>-0.027811</td>\n",
              "      <td>-0.01135</td>\n",
              "      <td>-0.020726</td>\n",
              "      <td>-0.014654</td>\n",
              "      <td>0.0</td>\n",
              "      <td>0.0</td>\n",
              "      <td>0.0</td>\n",
              "      <td>0.0</td>\n",
              "      <td>-0.039346</td>\n",
              "      <td>0.0</td>\n",
              "      <td>-0.014654</td>\n",
              "      <td>0.0</td>\n",
              "      <td>-0.013106</td>\n",
              "      <td>-0.013106</td>\n",
              "      <td>-0.01135</td>\n",
              "      <td>-0.01135</td>\n",
              "      <td>-0.009267</td>\n",
              "      <td>-0.013106</td>\n",
              "      <td>-0.006553</td>\n",
              "      <td>-0.006553</td>\n",
              "      <td>-0.013106</td>\n",
              "      <td>0.0</td>\n",
              "      <td>-0.006553</td>\n",
              "      <td>-0.006553</td>\n",
              "      <td>-0.006553</td>\n",
              "      <td>0.0</td>\n",
              "      <td>-0.030749</td>\n",
              "      <td>-0.01135</td>\n",
              "      <td>-0.025386</td>\n",
              "      <td>...</td>\n",
              "      <td>-0.006553</td>\n",
              "      <td>-0.009267</td>\n",
              "      <td>-0.068572</td>\n",
              "      <td>-0.009267</td>\n",
              "      <td>0.0</td>\n",
              "      <td>-0.039346</td>\n",
              "      <td>-0.01135</td>\n",
              "      <td>-0.006553</td>\n",
              "      <td>-0.014654</td>\n",
              "      <td>-0.009267</td>\n",
              "      <td>-0.15494</td>\n",
              "      <td>-0.014654</td>\n",
              "      <td>-0.140365</td>\n",
              "      <td>-0.030041</td>\n",
              "      <td>-0.01135</td>\n",
              "      <td>-0.009267</td>\n",
              "      <td>0.0</td>\n",
              "      <td>0.0</td>\n",
              "      <td>-0.032118</td>\n",
              "      <td>-0.018537</td>\n",
              "      <td>-0.018537</td>\n",
              "      <td>-0.017339</td>\n",
              "      <td>-0.089968</td>\n",
              "      <td>-0.006553</td>\n",
              "      <td>-0.009267</td>\n",
              "      <td>-0.054906</td>\n",
              "      <td>-0.006553</td>\n",
              "      <td>-0.013106</td>\n",
              "      <td>0.0</td>\n",
              "      <td>-0.404796</td>\n",
              "      <td>0.0</td>\n",
              "      <td>-0.27604</td>\n",
              "      <td>-0.01135</td>\n",
              "      <td>-0.014654</td>\n",
              "      <td>-0.009267</td>\n",
              "      <td>-0.006553</td>\n",
              "      <td>-0.009267</td>\n",
              "      <td>-0.014654</td>\n",
              "      <td>-0.019662</td>\n",
              "      <td>-0.040426</td>\n",
              "    </tr>\n",
              "  </tbody>\n",
              "</table>\n",
              "<p>5 rows × 617 columns</p>\n",
              "</div>"
            ],
            "text/plain": [
              "   is_active  device_id  ...  phone_brand_youmi  phone_brand_yuxin\n",
              "0   1.000086   0.279750  ...          -0.019662          -0.040426\n",
              "1   1.000086   1.348179  ...          -0.019662          -0.040426\n",
              "2   1.000086  -0.645253  ...          -0.019662          -0.040426\n",
              "3   1.000086  -1.225984  ...          -0.019662          -0.040426\n",
              "4   1.000086  -1.056314  ...          -0.019662          -0.040426\n",
              "\n",
              "[5 rows x 617 columns]"
            ]
          },
          "metadata": {
            "tags": []
          },
          "execution_count": 105
        }
      ]
    },
    {
      "cell_type": "code",
      "metadata": {
        "id": "mWoommnysQye"
      },
      "source": [
        "from sklearn.decomposition import PCA\r\n",
        "\r\n",
        "pca = PCA(n_components=2)\r\n",
        "\r\n",
        "# We get the components by calling fit_transform method with our data.\r\n",
        "pca_components = pca.fit_transform(df_norm)"
      ],
      "execution_count": 106,
      "outputs": []
    },
    {
      "cell_type": "code",
      "metadata": {
        "id": "HTyKqNmysaUy"
      },
      "source": [
        "# Split the data into four equally-sized samples. First we break it in half:\r\n",
        "X_half1, X_half2, X_pcahalf1, X_pcahalf2 = train_test_split(\r\n",
        "    X_std,\r\n",
        "    pca_components,\r\n",
        "    test_size=0.5,\r\n",
        "    random_state=42)"
      ],
      "execution_count": 107,
      "outputs": []
    },
    {
      "cell_type": "code",
      "metadata": {
        "id": "sGIZvQd7sfsZ"
      },
      "source": [
        "ypred=pd.DataFrame()\r\n",
        "\r\n",
        "# Pass a list of tuples and a counter that increments each time we go\r\n",
        "# through the loop. The tuples are the data to be used by k-means,\r\n",
        "# and the PCA-derived features for graphing. We use k-means to fit a\r\n",
        "# model to the data, then store the predicted values and the two-feature\r\n",
        "# PCA solution in the data frame.\r\n",
        "for counter, data in enumerate([\r\n",
        "    (X_half1, X_pcahalf1),\r\n",
        "    (X_half2, X_pcahalf2)]):\r\n",
        "    \r\n",
        "    # Put the features into ypred.\r\n",
        "    ypred['pca_f1' + '_sample' + str(counter)] = data[1][:, 0]\r\n",
        "    ypred['pca_f2' + '_sample' + str(counter)] = data[1][:, 1]\r\n",
        "    \r\n",
        "    # Generate cluster predictions and store them for clusters 2 to 10.\r\n",
        "    for nclust in range(2, 10):\r\n",
        "        pred = KMeans(n_clusters=nclust, random_state=42).fit_predict(data[0])\r\n",
        "        ypred['clust' + str(nclust) + '_sample' + str(counter)] = pred"
      ],
      "execution_count": 108,
      "outputs": []
    },
    {
      "cell_type": "code",
      "metadata": {
        "colab": {
          "base_uri": "https://localhost:8080/",
          "height": 1000
        },
        "id": "25Ck52o2squy",
        "outputId": "734f63a4-1053-42a0-e1b3-b8aa330bbde5"
      },
      "source": [
        "# For each  number of clusters, plot the clusters using the\r\n",
        "# pca features for each sample.\r\n",
        "for cluster in range(2, 10):\r\n",
        "    \r\n",
        "    # Make a grid of subplots.\r\n",
        "    f, axarr = plt.subplots(1, 2)\r\n",
        "    \r\n",
        "    # Make a plot for each sample.\r\n",
        "    for i in range(2):\r\n",
        "        \r\n",
        "        # PCA-created features.\r\n",
        "        x_sub = ypred['pca_f1_sample{}'.format(i)]\r\n",
        "        y_sub = ypred['pca_f2_sample{}'.format(i)]\r\n",
        "        \r\n",
        "        # Cluster assignments.\r\n",
        "        c = ypred['clust{}_sample{}'.format(cluster, i)]\r\n",
        "        \r\n",
        "        # Assign the subplot to its place on the grid.\r\n",
        "        axarr[i].scatter(x_sub, y_sub, c=c)\r\n",
        "        axarr[i].set_title('sample {}'.format(i))\r\n",
        "        axarr[i].set_xlim()\r\n",
        "        axarr[i].set_ylim()\r\n",
        "    \r\n",
        "    # Space out the plots so that the headings don't overlap axis values.\r\n",
        "    plt.suptitle('{} Clusters'.format(cluster), fontsize=20)\r\n",
        "    plt.tight_layout()\r\n",
        "    plt.show()"
      ],
      "execution_count": 109,
      "outputs": [
        {
          "output_type": "display_data",
          "data": {
            "image/png": "[encoded data removed]",
            "text/plain": [
              "<Figure size 432x288 with 2 Axes>"
            ]
          },
          "metadata": {
            "tags": [],
            "needs_background": "light"
          }
        },
        {
          "output_type": "display_data",
          "data": {
            "image/png": "[encoded data removed]",
            "text/plain": [
              "<Figure size 432x288 with 2 Axes>"
            ]
          },
          "metadata": {
            "tags": [],
            "needs_background": "light"
          }
        },
        {
          "output_type": "display_data",
          "data": {
            "image/png": "[encoded data removed]",
            "text/plain": [
              "<Figure size 432x288 with 2 Axes>"
            ]
          },
          "metadata": {
            "tags": [],
            "needs_background": "light"
          }
        },
        {
          "output_type": "display_data",
          "data": {
            "image/png": "[encoded data removed]",
            "text/plain": [
              "<Figure size 432x288 with 2 Axes>"
            ]
          },
          "metadata": {
            "tags": [],
            "needs_background": "light"
          }
        },
        {
          "output_type": "display_data",
          "data": {
            "image/png": "[encoded data removed]",
            "text/plain": [
              "<Figure size 432x288 with 2 Axes>"
            ]
          },
          "metadata": {
            "tags": [],
            "needs_background": "light"
          }
        },
        {
          "output_type": "display_data",
          "data": {
            "image/png": "[encoded data removed]",
            "text/plain": [
              "<Figure size 432x288 with 2 Axes>"
            ]
          },
          "metadata": {
            "tags": [],
            "needs_background": "light"
          }
        },
        {
          "output_type": "display_data",
          "data": {
            "image/png": "[encoded data removed]",
            "text/plain": [
              "<Figure size 432x288 with 2 Axes>"
            ]
          },
          "metadata": {
            "tags": [],
            "needs_background": "light"
          }
        },
        {
          "output_type": "display_data",
          "data": {
            "image/png": "[encoded data removed]",
            "text/plain": [
              "<Figure size 432x288 with 2 Axes>"
            ]
          },
          "metadata": {
            "tags": [],
            "needs_background": "light"
          }
        }
      ]
    },
    {
      "cell_type": "markdown",
      "metadata": {
        "id": "IIXwPujVEavT"
      },
      "source": [
        "From the PCA plots, sample 0 is not useful but some delineation between the clusters can be seen in sample 1. Ignoring the colors, consistency seems slightly better for 5 and 6 clusters. Use Elbow plot to find optimum number of clusters. "
      ]
    },
    {
      "cell_type": "markdown",
      "metadata": {
        "id": "qtz1uIjsFNOS"
      },
      "source": [
        "Elbow plot"
      ]
    },
    {
      "cell_type": "code",
      "metadata": {
        "id": "iZMd4_nUtAMp"
      },
      "source": [
        "from sklearn.cluster import KMeans\r\n",
        "\r\n",
        "# Let's find the optimal number of clusters using the Elbow method\r\n",
        "PCA_components = pd.DataFrame(pca_components)\r\n",
        "\r\n",
        "wcss = []\r\n",
        "for i in range(1,11):\r\n",
        "    # Create a KMeans model with k clusters\r\n",
        "    kmeans = KMeans(n_clusters=i)\r\n",
        "    \r\n",
        "    # Fit model to samples\r\n",
        "    kmeans.fit(PCA_components.iloc[:,:3])\r\n",
        "    \r\n",
        "    # Append the wcss (inertia) to the lis\r\n",
        "    wcss.append(kmeans.inertia_)"
      ],
      "execution_count": 110,
      "outputs": []
    },
    {
      "cell_type": "code",
      "metadata": {
        "colab": {
          "base_uri": "https://localhost:8080/",
          "height": 388
        },
        "id": "N-Os7nW4tD-D",
        "outputId": "503aa6b1-231a-4b39-ab6d-4dc75cf89913"
      },
      "source": [
        "plt.figure(figsize=(12,6))\r\n",
        "plt.plot(range(1,11),wcss)\r\n",
        "plt.xticks(np.arange(1,11,step=1))\r\n",
        "plt.xlabel('Number of clusters, k')\r\n",
        "plt.ylabel('WCSS')\r\n",
        "plt.show()"
      ],
      "execution_count": 200,
      "outputs": [
        {
          "output_type": "display_data",
          "data": {
            "image/png": "[encoded data removed]",
            "text/plain": [
              "<Figure size 864x432 with 1 Axes>"
            ]
          },
          "metadata": {
            "tags": [],
            "needs_background": "light"
          }
        }
      ]
    },
    {
      "cell_type": "markdown",
      "metadata": {
        "id": "1QQATdhAFUJy"
      },
      "source": [
        "From the plot, it looks like the optimal number of clusters is 5 (or) 6. Compare the silhoutte scores for n= 2 to 10 clusters. "
      ]
    },
    {
      "cell_type": "code",
      "metadata": {
        "id": "gGcJmsWCtnub"
      },
      "source": [
        "from sklearn import metrics"
      ],
      "execution_count": 202,
      "outputs": []
    },
    {
      "cell_type": "code",
      "metadata": {
        "colab": {
          "base_uri": "https://localhost:8080/"
        },
        "id": "987NxGhttkBc",
        "outputId": "e008230c-5a25-47e9-fc83-85c205649718"
      },
      "source": [
        "pred_2 = KMeans(n_clusters=2, random_state=42).fit_predict(PCA_components)\r\n",
        "print(\"Silhouette score for two cluster k-means: {}\".format(metrics.silhouette_score(PCA_components, pred_2, metric='euclidean')))"
      ],
      "execution_count": 203,
      "outputs": [
        {
          "output_type": "stream",
          "text": [
            "Silhouette score for two cluster k-means: 0.9946408227606234\n"
          ],
          "name": "stdout"
        }
      ]
    },
    {
      "cell_type": "code",
      "metadata": {
        "colab": {
          "base_uri": "https://localhost:8080/"
        },
        "id": "qBEKiirItuOn",
        "outputId": "cdff5ae7-c191-4d65-8fbb-167484c41f50"
      },
      "source": [
        "pred_3 = KMeans(n_clusters=3, random_state=42).fit_predict(PCA_components)\r\n",
        "print(\"Silhouette score for three cluster k-means: {}\".format(metrics.silhouette_score(PCA_components, pred_3, metric='euclidean')))"
      ],
      "execution_count": 204,
      "outputs": [
        {
          "output_type": "stream",
          "text": [
            "Silhouette score for three cluster k-means: 0.8065413336499465\n"
          ],
          "name": "stdout"
        }
      ]
    },
    {
      "cell_type": "code",
      "metadata": {
        "colab": {
          "base_uri": "https://localhost:8080/"
        },
        "id": "kMKX43KztyNf",
        "outputId": "16d1c808-be00-43fe-8995-105aa60baec2"
      },
      "source": [
        "pred_4 = KMeans(n_clusters=4, random_state=42).fit_predict(PCA_components)\r\n",
        "print(\"Silhouette score for four cluster k-means: {}\".format(metrics.silhouette_score(PCA_components, pred_4, metric='euclidean')))"
      ],
      "execution_count": 205,
      "outputs": [
        {
          "output_type": "stream",
          "text": [
            "Silhouette score for four cluster k-means: 0.5968827419600141\n"
          ],
          "name": "stdout"
        }
      ]
    },
    {
      "cell_type": "code",
      "metadata": {
        "colab": {
          "base_uri": "https://localhost:8080/"
        },
        "id": "TpeqLweyt3xi",
        "outputId": "9d903d92-4a75-4317-b6d3-0be49719ef25"
      },
      "source": [
        "pred_5 = KMeans(n_clusters=5, random_state=42).fit_predict(PCA_components)\r\n",
        "print(\"Silhouette score for five cluster k-means: {}\".format(metrics.silhouette_score(PCA_components, pred_5, metric='euclidean')))"
      ],
      "execution_count": 206,
      "outputs": [
        {
          "output_type": "stream",
          "text": [
            "Silhouette score for five cluster k-means: 0.607301665188154\n"
          ],
          "name": "stdout"
        }
      ]
    },
    {
      "cell_type": "code",
      "metadata": {
        "colab": {
          "base_uri": "https://localhost:8080/"
        },
        "id": "do0xR9fBt8nR",
        "outputId": "f1788dfd-0a1a-4643-d580-6ed4d7f83788"
      },
      "source": [
        "pred_6 = KMeans(n_clusters=6, random_state=42).fit_predict(PCA_components)\r\n",
        "print(\"Silhouette score for six cluster k-means: {}\".format(metrics.silhouette_score(PCA_components, pred_6, metric='euclidean')))"
      ],
      "execution_count": 207,
      "outputs": [
        {
          "output_type": "stream",
          "text": [
            "Silhouette score for six cluster k-means: 0.5833555801216759\n"
          ],
          "name": "stdout"
        }
      ]
    },
    {
      "cell_type": "code",
      "metadata": {
        "colab": {
          "base_uri": "https://localhost:8080/"
        },
        "id": "5qK2M7BwuE0O",
        "outputId": "ae2811c7-db7f-4061-cf1c-944dba6cb659"
      },
      "source": [
        "pred_7 = KMeans(n_clusters=7, random_state=42).fit_predict(PCA_components)\r\n",
        "print(\"Silhouette score for seven cluster k-means: {}\".format(metrics.silhouette_score(PCA_components, pred_7, metric='euclidean')))"
      ],
      "execution_count": 208,
      "outputs": [
        {
          "output_type": "stream",
          "text": [
            "Silhouette score for seven cluster k-means: 0.5853593555626113\n"
          ],
          "name": "stdout"
        }
      ]
    },
    {
      "cell_type": "code",
      "metadata": {
        "colab": {
          "base_uri": "https://localhost:8080/"
        },
        "id": "8pgJdmaNuJJP",
        "outputId": "019cd444-65ab-447f-f962-92d3982acc7b"
      },
      "source": [
        "pred_8 = KMeans(n_clusters=8, random_state=42).fit_predict(PCA_components)\r\n",
        "print(\"Silhouette score for eight cluster k-means: {}\".format(metrics.silhouette_score(PCA_components, pred_8, metric='euclidean')))"
      ],
      "execution_count": 209,
      "outputs": [
        {
          "output_type": "stream",
          "text": [
            "Silhouette score for eight cluster k-means: 0.5776939353458085\n"
          ],
          "name": "stdout"
        }
      ]
    },
    {
      "cell_type": "code",
      "metadata": {
        "colab": {
          "base_uri": "https://localhost:8080/"
        },
        "id": "aO9A-I5BuMi8",
        "outputId": "1ae88078-ad0e-4f39-d8a6-b8fadd8b7959"
      },
      "source": [
        "pred_9 = KMeans(n_clusters=9, random_state=42).fit_predict(PCA_components)\r\n",
        "print(\"Silhouette score for nine cluster k-means: {}\".format(metrics.silhouette_score(PCA_components, pred_9, metric='euclidean')))"
      ],
      "execution_count": 210,
      "outputs": [
        {
          "output_type": "stream",
          "text": [
            "Silhouette score for nine cluster k-means: 0.5492459631814862\n"
          ],
          "name": "stdout"
        }
      ]
    },
    {
      "cell_type": "code",
      "metadata": {
        "colab": {
          "base_uri": "https://localhost:8080/"
        },
        "id": "mWCmYZ_suP_R",
        "outputId": "1698d45c-bb21-486e-c5aa-eef6467a9359"
      },
      "source": [
        "pred_10 = KMeans(n_clusters=10, random_state=42).fit_predict(PCA_components)\r\n",
        "print(\"Silhouette score for ten cluster k-means: {}\".format(metrics.silhouette_score(PCA_components, pred_10, metric='euclidean')))"
      ],
      "execution_count": 211,
      "outputs": [
        {
          "output_type": "stream",
          "text": [
            "Silhouette score for ten cluster k-means: 0.5543407343792376\n"
          ],
          "name": "stdout"
        }
      ]
    },
    {
      "cell_type": "markdown",
      "metadata": {
        "id": "pltzEdFiFru8"
      },
      "source": [
        "The best number of clusters from both the silhouette and the elbow technique perspective is 5 (Silhoutte score of 0.6) that will be used to cluster the popular phone brands. The data will be clustered using kmeans and 5 clusters to get insights about label ids and popular phone brands for application."
      ]
    },
    {
      "cell_type": "code",
      "metadata": {
        "colab": {
          "base_uri": "https://localhost:8080/"
        },
        "id": "csgJq30euV3Z",
        "outputId": "a6438f1e-3c5b-4b51-cf6c-7aad1e8217d2"
      },
      "source": [
        "kmeans = KMeans(n_clusters=5, random_state=42)\r\n",
        "\r\n",
        "# Fit model.\r\n",
        "%timeit kmeans.fit(PCA_components)\r\n",
        "y_pred = kmeans.predict(PCA_components)"
      ],
      "execution_count": 111,
      "outputs": [
        {
          "output_type": "stream",
          "text": [
            "1 loop, best of 3: 210 ms per loop\n"
          ],
          "name": "stdout"
        }
      ]
    },
    {
      "cell_type": "markdown",
      "metadata": {
        "id": "4uaoInChG1VR"
      },
      "source": [
        "It took 232 ms to train the K-Means model with PCA and n_clusters=5."
      ]
    },
    {
      "cell_type": "markdown",
      "metadata": {
        "id": "kADTUHzVG_NV"
      },
      "source": [
        "Application"
      ]
    },
    {
      "cell_type": "code",
      "metadata": {
        "id": "wNGgdWB51zs_"
      },
      "source": [
        "df_norm['cluster'] = kmeans.labels_"
      ],
      "execution_count": 112,
      "outputs": []
    },
    {
      "cell_type": "code",
      "metadata": {
        "colab": {
          "base_uri": "https://localhost:8080/",
          "height": 244
        },
        "id": "BWVGPwKH1_DY",
        "outputId": "3978218b-64d2-4fb6-bb3d-c930130de42e"
      },
      "source": [
        "#Look at the dataframe with the cluster labels attached\r\n",
        "df_norm.head()"
      ],
      "execution_count": 113,
      "outputs": [
        {
          "output_type": "execute_result",
          "data": {
            "text/html": [
              "<div>\n",
              "<style scoped>\n",
              "    .dataframe tbody tr th:only-of-type {\n",
              "        vertical-align: middle;\n",
              "    }\n",
              "\n",
              "    .dataframe tbody tr th {\n",
              "        vertical-align: top;\n",
              "    }\n",
              "\n",
              "    .dataframe thead th {\n",
              "        text-align: right;\n",
              "    }\n",
              "</style>\n",
              "<table border=\"1\" class=\"dataframe\">\n",
              "  <thead>\n",
              "    <tr style=\"text-align: right;\">\n",
              "      <th></th>\n",
              "      <th>is_active</th>\n",
              "      <th>device_id</th>\n",
              "      <th>label_id_2</th>\n",
              "      <th>label_id_4</th>\n",
              "      <th>label_id_6</th>\n",
              "      <th>label_id_7</th>\n",
              "      <th>label_id_8</th>\n",
              "      <th>label_id_9</th>\n",
              "      <th>label_id_10</th>\n",
              "      <th>label_id_11</th>\n",
              "      <th>label_id_12</th>\n",
              "      <th>label_id_13</th>\n",
              "      <th>label_id_14</th>\n",
              "      <th>label_id_16</th>\n",
              "      <th>label_id_17</th>\n",
              "      <th>label_id_18</th>\n",
              "      <th>label_id_19</th>\n",
              "      <th>label_id_20</th>\n",
              "      <th>label_id_21</th>\n",
              "      <th>label_id_22</th>\n",
              "      <th>label_id_23</th>\n",
              "      <th>label_id_24</th>\n",
              "      <th>label_id_25</th>\n",
              "      <th>label_id_26</th>\n",
              "      <th>label_id_27</th>\n",
              "      <th>label_id_29</th>\n",
              "      <th>label_id_30</th>\n",
              "      <th>label_id_31</th>\n",
              "      <th>label_id_32</th>\n",
              "      <th>label_id_33</th>\n",
              "      <th>label_id_35</th>\n",
              "      <th>label_id_36</th>\n",
              "      <th>label_id_37</th>\n",
              "      <th>label_id_38</th>\n",
              "      <th>label_id_39</th>\n",
              "      <th>label_id_40</th>\n",
              "      <th>label_id_41</th>\n",
              "      <th>label_id_42</th>\n",
              "      <th>label_id_43</th>\n",
              "      <th>label_id_44</th>\n",
              "      <th>...</th>\n",
              "      <th>phone_brand_haier</th>\n",
              "      <th>phone_brand_hammer</th>\n",
              "      <th>phone_brand_hasse</th>\n",
              "      <th>phone_brand_heymi</th>\n",
              "      <th>phone_brand_hisense</th>\n",
              "      <th>phone_brand_ipair</th>\n",
              "      <th>phone_brand_kiwu</th>\n",
              "      <th>phone_brand_koobee</th>\n",
              "      <th>phone_brand_kupo</th>\n",
              "      <th>phone_brand_lenovo</th>\n",
              "      <th>phone_brand_lingyun</th>\n",
              "      <th>phone_brand_lshi</th>\n",
              "      <th>phone_brand_meitu</th>\n",
              "      <th>phone_brand_mengmi</th>\n",
              "      <th>phone_brand_micky</th>\n",
              "      <th>phone_brand_mige</th>\n",
              "      <th>phone_brand_mole</th>\n",
              "      <th>phone_brand_moto</th>\n",
              "      <th>phone_brand_newman</th>\n",
              "      <th>phone_brand_nibilu</th>\n",
              "      <th>phone_brand_nokia</th>\n",
              "      <th>phone_brand_nubia</th>\n",
              "      <th>phone_brand_nuomi</th>\n",
              "      <th>phone_brand_obi</th>\n",
              "      <th>phone_brand_oneplus</th>\n",
              "      <th>phone_brand_ouxin</th>\n",
              "      <th>phone_brand_panasonic</th>\n",
              "      <th>phone_brand_pner</th>\n",
              "      <th>phone_brand_samsung</th>\n",
              "      <th>phone_brand_smallt</th>\n",
              "      <th>phone_brand_vivo</th>\n",
              "      <th>phone_brand_weimi</th>\n",
              "      <th>phone_brand_weitu</th>\n",
              "      <th>phone_brand_wpf</th>\n",
              "      <th>phone_brand_xiangmi</th>\n",
              "      <th>phone_brand_ximi</th>\n",
              "      <th>phone_brand_yougo</th>\n",
              "      <th>phone_brand_youmi</th>\n",
              "      <th>phone_brand_yuxin</th>\n",
              "      <th>cluster</th>\n",
              "    </tr>\n",
              "  </thead>\n",
              "  <tbody>\n",
              "    <tr>\n",
              "      <th>0</th>\n",
              "      <td>1.000086</td>\n",
              "      <td>0.279750</td>\n",
              "      <td>0.0</td>\n",
              "      <td>0.0</td>\n",
              "      <td>-0.009267</td>\n",
              "      <td>0.0</td>\n",
              "      <td>-0.021738</td>\n",
              "      <td>0.0</td>\n",
              "      <td>-0.006553</td>\n",
              "      <td>-0.035913</td>\n",
              "      <td>-0.01135</td>\n",
              "      <td>-0.027811</td>\n",
              "      <td>-0.01135</td>\n",
              "      <td>-0.020726</td>\n",
              "      <td>-0.014654</td>\n",
              "      <td>0.0</td>\n",
              "      <td>0.0</td>\n",
              "      <td>0.0</td>\n",
              "      <td>0.0</td>\n",
              "      <td>-0.039346</td>\n",
              "      <td>0.0</td>\n",
              "      <td>-0.014654</td>\n",
              "      <td>0.0</td>\n",
              "      <td>-0.013106</td>\n",
              "      <td>-0.013106</td>\n",
              "      <td>-0.01135</td>\n",
              "      <td>-0.01135</td>\n",
              "      <td>-0.009267</td>\n",
              "      <td>-0.013106</td>\n",
              "      <td>-0.006553</td>\n",
              "      <td>-0.006553</td>\n",
              "      <td>-0.013106</td>\n",
              "      <td>0.0</td>\n",
              "      <td>-0.006553</td>\n",
              "      <td>-0.006553</td>\n",
              "      <td>-0.006553</td>\n",
              "      <td>0.0</td>\n",
              "      <td>-0.030749</td>\n",
              "      <td>-0.01135</td>\n",
              "      <td>-0.025386</td>\n",
              "      <td>...</td>\n",
              "      <td>-0.009267</td>\n",
              "      <td>-0.068572</td>\n",
              "      <td>-0.009267</td>\n",
              "      <td>0.0</td>\n",
              "      <td>-0.039346</td>\n",
              "      <td>-0.01135</td>\n",
              "      <td>-0.006553</td>\n",
              "      <td>-0.014654</td>\n",
              "      <td>-0.009267</td>\n",
              "      <td>-0.15494</td>\n",
              "      <td>-0.014654</td>\n",
              "      <td>-0.140365</td>\n",
              "      <td>-0.030041</td>\n",
              "      <td>-0.01135</td>\n",
              "      <td>-0.009267</td>\n",
              "      <td>0.0</td>\n",
              "      <td>0.0</td>\n",
              "      <td>-0.032118</td>\n",
              "      <td>-0.018537</td>\n",
              "      <td>-0.018537</td>\n",
              "      <td>-0.017339</td>\n",
              "      <td>-0.089968</td>\n",
              "      <td>-0.006553</td>\n",
              "      <td>-0.009267</td>\n",
              "      <td>-0.054906</td>\n",
              "      <td>-0.006553</td>\n",
              "      <td>-0.013106</td>\n",
              "      <td>0.0</td>\n",
              "      <td>-0.404796</td>\n",
              "      <td>0.0</td>\n",
              "      <td>-0.27604</td>\n",
              "      <td>-0.01135</td>\n",
              "      <td>-0.014654</td>\n",
              "      <td>-0.009267</td>\n",
              "      <td>-0.006553</td>\n",
              "      <td>-0.009267</td>\n",
              "      <td>-0.014654</td>\n",
              "      <td>-0.019662</td>\n",
              "      <td>-0.040426</td>\n",
              "      <td>4</td>\n",
              "    </tr>\n",
              "    <tr>\n",
              "      <th>1</th>\n",
              "      <td>1.000086</td>\n",
              "      <td>1.348179</td>\n",
              "      <td>0.0</td>\n",
              "      <td>0.0</td>\n",
              "      <td>-0.009267</td>\n",
              "      <td>0.0</td>\n",
              "      <td>-0.021738</td>\n",
              "      <td>0.0</td>\n",
              "      <td>-0.006553</td>\n",
              "      <td>-0.035913</td>\n",
              "      <td>-0.01135</td>\n",
              "      <td>-0.027811</td>\n",
              "      <td>-0.01135</td>\n",
              "      <td>-0.020726</td>\n",
              "      <td>-0.014654</td>\n",
              "      <td>0.0</td>\n",
              "      <td>0.0</td>\n",
              "      <td>0.0</td>\n",
              "      <td>0.0</td>\n",
              "      <td>-0.039346</td>\n",
              "      <td>0.0</td>\n",
              "      <td>-0.014654</td>\n",
              "      <td>0.0</td>\n",
              "      <td>-0.013106</td>\n",
              "      <td>-0.013106</td>\n",
              "      <td>-0.01135</td>\n",
              "      <td>-0.01135</td>\n",
              "      <td>-0.009267</td>\n",
              "      <td>-0.013106</td>\n",
              "      <td>-0.006553</td>\n",
              "      <td>-0.006553</td>\n",
              "      <td>-0.013106</td>\n",
              "      <td>0.0</td>\n",
              "      <td>-0.006553</td>\n",
              "      <td>-0.006553</td>\n",
              "      <td>-0.006553</td>\n",
              "      <td>0.0</td>\n",
              "      <td>-0.030749</td>\n",
              "      <td>-0.01135</td>\n",
              "      <td>-0.025386</td>\n",
              "      <td>...</td>\n",
              "      <td>-0.009267</td>\n",
              "      <td>-0.068572</td>\n",
              "      <td>-0.009267</td>\n",
              "      <td>0.0</td>\n",
              "      <td>-0.039346</td>\n",
              "      <td>-0.01135</td>\n",
              "      <td>-0.006553</td>\n",
              "      <td>-0.014654</td>\n",
              "      <td>-0.009267</td>\n",
              "      <td>-0.15494</td>\n",
              "      <td>-0.014654</td>\n",
              "      <td>-0.140365</td>\n",
              "      <td>-0.030041</td>\n",
              "      <td>-0.01135</td>\n",
              "      <td>-0.009267</td>\n",
              "      <td>0.0</td>\n",
              "      <td>0.0</td>\n",
              "      <td>-0.032118</td>\n",
              "      <td>-0.018537</td>\n",
              "      <td>-0.018537</td>\n",
              "      <td>-0.017339</td>\n",
              "      <td>-0.089968</td>\n",
              "      <td>-0.006553</td>\n",
              "      <td>-0.009267</td>\n",
              "      <td>-0.054906</td>\n",
              "      <td>-0.006553</td>\n",
              "      <td>-0.013106</td>\n",
              "      <td>0.0</td>\n",
              "      <td>-0.404796</td>\n",
              "      <td>0.0</td>\n",
              "      <td>-0.27604</td>\n",
              "      <td>-0.01135</td>\n",
              "      <td>-0.014654</td>\n",
              "      <td>-0.009267</td>\n",
              "      <td>-0.006553</td>\n",
              "      <td>-0.009267</td>\n",
              "      <td>-0.014654</td>\n",
              "      <td>-0.019662</td>\n",
              "      <td>-0.040426</td>\n",
              "      <td>4</td>\n",
              "    </tr>\n",
              "    <tr>\n",
              "      <th>2</th>\n",
              "      <td>1.000086</td>\n",
              "      <td>-0.645253</td>\n",
              "      <td>0.0</td>\n",
              "      <td>0.0</td>\n",
              "      <td>-0.009267</td>\n",
              "      <td>0.0</td>\n",
              "      <td>-0.021738</td>\n",
              "      <td>0.0</td>\n",
              "      <td>-0.006553</td>\n",
              "      <td>-0.035913</td>\n",
              "      <td>-0.01135</td>\n",
              "      <td>-0.027811</td>\n",
              "      <td>-0.01135</td>\n",
              "      <td>-0.020726</td>\n",
              "      <td>-0.014654</td>\n",
              "      <td>0.0</td>\n",
              "      <td>0.0</td>\n",
              "      <td>0.0</td>\n",
              "      <td>0.0</td>\n",
              "      <td>-0.039346</td>\n",
              "      <td>0.0</td>\n",
              "      <td>-0.014654</td>\n",
              "      <td>0.0</td>\n",
              "      <td>-0.013106</td>\n",
              "      <td>-0.013106</td>\n",
              "      <td>-0.01135</td>\n",
              "      <td>-0.01135</td>\n",
              "      <td>-0.009267</td>\n",
              "      <td>-0.013106</td>\n",
              "      <td>-0.006553</td>\n",
              "      <td>-0.006553</td>\n",
              "      <td>-0.013106</td>\n",
              "      <td>0.0</td>\n",
              "      <td>-0.006553</td>\n",
              "      <td>-0.006553</td>\n",
              "      <td>-0.006553</td>\n",
              "      <td>0.0</td>\n",
              "      <td>-0.030749</td>\n",
              "      <td>-0.01135</td>\n",
              "      <td>-0.025386</td>\n",
              "      <td>...</td>\n",
              "      <td>-0.009267</td>\n",
              "      <td>-0.068572</td>\n",
              "      <td>-0.009267</td>\n",
              "      <td>0.0</td>\n",
              "      <td>-0.039346</td>\n",
              "      <td>-0.01135</td>\n",
              "      <td>-0.006553</td>\n",
              "      <td>-0.014654</td>\n",
              "      <td>-0.009267</td>\n",
              "      <td>-0.15494</td>\n",
              "      <td>-0.014654</td>\n",
              "      <td>-0.140365</td>\n",
              "      <td>-0.030041</td>\n",
              "      <td>-0.01135</td>\n",
              "      <td>-0.009267</td>\n",
              "      <td>0.0</td>\n",
              "      <td>0.0</td>\n",
              "      <td>-0.032118</td>\n",
              "      <td>-0.018537</td>\n",
              "      <td>-0.018537</td>\n",
              "      <td>-0.017339</td>\n",
              "      <td>-0.089968</td>\n",
              "      <td>-0.006553</td>\n",
              "      <td>-0.009267</td>\n",
              "      <td>-0.054906</td>\n",
              "      <td>-0.006553</td>\n",
              "      <td>-0.013106</td>\n",
              "      <td>0.0</td>\n",
              "      <td>-0.404796</td>\n",
              "      <td>0.0</td>\n",
              "      <td>-0.27604</td>\n",
              "      <td>-0.01135</td>\n",
              "      <td>-0.014654</td>\n",
              "      <td>-0.009267</td>\n",
              "      <td>-0.006553</td>\n",
              "      <td>-0.009267</td>\n",
              "      <td>-0.014654</td>\n",
              "      <td>-0.019662</td>\n",
              "      <td>-0.040426</td>\n",
              "      <td>4</td>\n",
              "    </tr>\n",
              "    <tr>\n",
              "      <th>3</th>\n",
              "      <td>1.000086</td>\n",
              "      <td>-1.225984</td>\n",
              "      <td>0.0</td>\n",
              "      <td>0.0</td>\n",
              "      <td>-0.009267</td>\n",
              "      <td>0.0</td>\n",
              "      <td>-0.021738</td>\n",
              "      <td>0.0</td>\n",
              "      <td>-0.006553</td>\n",
              "      <td>-0.035913</td>\n",
              "      <td>-0.01135</td>\n",
              "      <td>-0.027811</td>\n",
              "      <td>-0.01135</td>\n",
              "      <td>-0.020726</td>\n",
              "      <td>-0.014654</td>\n",
              "      <td>0.0</td>\n",
              "      <td>0.0</td>\n",
              "      <td>0.0</td>\n",
              "      <td>0.0</td>\n",
              "      <td>-0.039346</td>\n",
              "      <td>0.0</td>\n",
              "      <td>-0.014654</td>\n",
              "      <td>0.0</td>\n",
              "      <td>-0.013106</td>\n",
              "      <td>-0.013106</td>\n",
              "      <td>-0.01135</td>\n",
              "      <td>-0.01135</td>\n",
              "      <td>-0.009267</td>\n",
              "      <td>-0.013106</td>\n",
              "      <td>-0.006553</td>\n",
              "      <td>-0.006553</td>\n",
              "      <td>-0.013106</td>\n",
              "      <td>0.0</td>\n",
              "      <td>-0.006553</td>\n",
              "      <td>-0.006553</td>\n",
              "      <td>-0.006553</td>\n",
              "      <td>0.0</td>\n",
              "      <td>-0.030749</td>\n",
              "      <td>-0.01135</td>\n",
              "      <td>-0.025386</td>\n",
              "      <td>...</td>\n",
              "      <td>-0.009267</td>\n",
              "      <td>-0.068572</td>\n",
              "      <td>-0.009267</td>\n",
              "      <td>0.0</td>\n",
              "      <td>-0.039346</td>\n",
              "      <td>-0.01135</td>\n",
              "      <td>-0.006553</td>\n",
              "      <td>-0.014654</td>\n",
              "      <td>-0.009267</td>\n",
              "      <td>-0.15494</td>\n",
              "      <td>-0.014654</td>\n",
              "      <td>-0.140365</td>\n",
              "      <td>-0.030041</td>\n",
              "      <td>-0.01135</td>\n",
              "      <td>-0.009267</td>\n",
              "      <td>0.0</td>\n",
              "      <td>0.0</td>\n",
              "      <td>-0.032118</td>\n",
              "      <td>-0.018537</td>\n",
              "      <td>-0.018537</td>\n",
              "      <td>-0.017339</td>\n",
              "      <td>-0.089968</td>\n",
              "      <td>-0.006553</td>\n",
              "      <td>-0.009267</td>\n",
              "      <td>-0.054906</td>\n",
              "      <td>-0.006553</td>\n",
              "      <td>-0.013106</td>\n",
              "      <td>0.0</td>\n",
              "      <td>-0.404796</td>\n",
              "      <td>0.0</td>\n",
              "      <td>-0.27604</td>\n",
              "      <td>-0.01135</td>\n",
              "      <td>-0.014654</td>\n",
              "      <td>-0.009267</td>\n",
              "      <td>-0.006553</td>\n",
              "      <td>-0.009267</td>\n",
              "      <td>-0.014654</td>\n",
              "      <td>-0.019662</td>\n",
              "      <td>-0.040426</td>\n",
              "      <td>4</td>\n",
              "    </tr>\n",
              "    <tr>\n",
              "      <th>4</th>\n",
              "      <td>1.000086</td>\n",
              "      <td>-1.056314</td>\n",
              "      <td>0.0</td>\n",
              "      <td>0.0</td>\n",
              "      <td>-0.009267</td>\n",
              "      <td>0.0</td>\n",
              "      <td>-0.021738</td>\n",
              "      <td>0.0</td>\n",
              "      <td>-0.006553</td>\n",
              "      <td>-0.035913</td>\n",
              "      <td>-0.01135</td>\n",
              "      <td>-0.027811</td>\n",
              "      <td>-0.01135</td>\n",
              "      <td>-0.020726</td>\n",
              "      <td>-0.014654</td>\n",
              "      <td>0.0</td>\n",
              "      <td>0.0</td>\n",
              "      <td>0.0</td>\n",
              "      <td>0.0</td>\n",
              "      <td>-0.039346</td>\n",
              "      <td>0.0</td>\n",
              "      <td>-0.014654</td>\n",
              "      <td>0.0</td>\n",
              "      <td>-0.013106</td>\n",
              "      <td>-0.013106</td>\n",
              "      <td>-0.01135</td>\n",
              "      <td>-0.01135</td>\n",
              "      <td>-0.009267</td>\n",
              "      <td>-0.013106</td>\n",
              "      <td>-0.006553</td>\n",
              "      <td>-0.006553</td>\n",
              "      <td>-0.013106</td>\n",
              "      <td>0.0</td>\n",
              "      <td>-0.006553</td>\n",
              "      <td>-0.006553</td>\n",
              "      <td>-0.006553</td>\n",
              "      <td>0.0</td>\n",
              "      <td>-0.030749</td>\n",
              "      <td>-0.01135</td>\n",
              "      <td>-0.025386</td>\n",
              "      <td>...</td>\n",
              "      <td>-0.009267</td>\n",
              "      <td>-0.068572</td>\n",
              "      <td>-0.009267</td>\n",
              "      <td>0.0</td>\n",
              "      <td>-0.039346</td>\n",
              "      <td>-0.01135</td>\n",
              "      <td>-0.006553</td>\n",
              "      <td>-0.014654</td>\n",
              "      <td>-0.009267</td>\n",
              "      <td>-0.15494</td>\n",
              "      <td>-0.014654</td>\n",
              "      <td>-0.140365</td>\n",
              "      <td>-0.030041</td>\n",
              "      <td>-0.01135</td>\n",
              "      <td>-0.009267</td>\n",
              "      <td>0.0</td>\n",
              "      <td>0.0</td>\n",
              "      <td>-0.032118</td>\n",
              "      <td>-0.018537</td>\n",
              "      <td>-0.018537</td>\n",
              "      <td>-0.017339</td>\n",
              "      <td>-0.089968</td>\n",
              "      <td>-0.006553</td>\n",
              "      <td>-0.009267</td>\n",
              "      <td>-0.054906</td>\n",
              "      <td>-0.006553</td>\n",
              "      <td>-0.013106</td>\n",
              "      <td>0.0</td>\n",
              "      <td>-0.404796</td>\n",
              "      <td>0.0</td>\n",
              "      <td>-0.27604</td>\n",
              "      <td>-0.01135</td>\n",
              "      <td>-0.014654</td>\n",
              "      <td>-0.009267</td>\n",
              "      <td>-0.006553</td>\n",
              "      <td>-0.009267</td>\n",
              "      <td>-0.014654</td>\n",
              "      <td>-0.019662</td>\n",
              "      <td>-0.040426</td>\n",
              "      <td>4</td>\n",
              "    </tr>\n",
              "  </tbody>\n",
              "</table>\n",
              "<p>5 rows × 618 columns</p>\n",
              "</div>"
            ],
            "text/plain": [
              "   is_active  device_id  ...  phone_brand_yuxin  cluster\n",
              "0   1.000086   0.279750  ...          -0.040426        4\n",
              "1   1.000086   1.348179  ...          -0.040426        4\n",
              "2   1.000086  -0.645253  ...          -0.040426        4\n",
              "3   1.000086  -1.225984  ...          -0.040426        4\n",
              "4   1.000086  -1.056314  ...          -0.040426        4\n",
              "\n",
              "[5 rows x 618 columns]"
            ]
          },
          "metadata": {
            "tags": []
          },
          "execution_count": 113
        }
      ]
    },
    {
      "cell_type": "code",
      "metadata": {
        "colab": {
          "base_uri": "https://localhost:8080/"
        },
        "id": "ykqoR6WpHNIt",
        "outputId": "4c0e188e-9451-469e-b3f2-e132c51179a3"
      },
      "source": [
        "filter_col = [col for col in df_norm if col.startswith('label_id')]\r\n",
        "\r\n",
        "#Determine pivot table\r\n",
        "df_norm = df_norm.pivot_table(values=filter_col, index=[\"cluster\"], aggfunc=np.sum)\r\n",
        "\r\n",
        "#Print the label_id that appears more times\r\n",
        "print(df_norm.idxmax(axis=1))"
      ],
      "execution_count": 51,
      "outputs": [
        {
          "output_type": "stream",
          "text": [
            "cluster\n",
            "0    label_id_130\n",
            "1    label_id_548\n",
            "2    label_id_969\n",
            "3    label_id_706\n",
            "4    label_id_713\n",
            "dtype: object\n"
          ],
          "name": "stdout"
        }
      ]
    },
    {
      "cell_type": "markdown",
      "metadata": {
        "id": "dFxHIwqa1o5R"
      },
      "source": [
        "Information regarding the apps that people use is obtained from the clusters. It can be seen the most used ones across clusters App 130, 548, 969, 706 and 713 that according to the documentation equate to Online Shopping navigation, Industry tag, Casual games, Low Risk, and Antique collection. "
      ]
    },
    {
      "cell_type": "code",
      "metadata": {
        "colab": {
          "base_uri": "https://localhost:8080/"
        },
        "id": "0QBZMM3H3KAi",
        "outputId": "58b09ea9-aa8b-4298-e0c6-0c6ed20cd8f6"
      },
      "source": [
        "filter_col = [col for col in df_norm if col.startswith('phone_brand')]\r\n",
        "\r\n",
        "#Determine pivot table\r\n",
        "df_norm = df_norm.pivot_table(values=filter_col, index=[\"cluster\"], aggfunc=np.sum)\r\n",
        "\r\n",
        "#Print the phone_brand that appears more times\r\n",
        "print(df_norm.idxmax(axis=1))"
      ],
      "execution_count": 114,
      "outputs": [
        {
          "output_type": "stream",
          "text": [
            "cluster\n",
            "0    phone_brand_Xiaomi\n",
            "1     phone_brand_ouxin\n",
            "2      phone_brand_OPPO\n",
            "3      phone_brand_OPPO\n",
            "4     phone_brand_Meizu\n",
            "dtype: object\n"
          ],
          "name": "stdout"
        }
      ]
    },
    {
      "cell_type": "markdown",
      "metadata": {
        "id": "RT9G7_Bb5E9T"
      },
      "source": [
        "For the Phone brands, it appears that Xiaomi, ouxin, OPPO, and Meizu are the most popular ones. "
      ]
    },
    {
      "cell_type": "markdown",
      "metadata": {
        "id": "jrTU7bis5kel"
      },
      "source": [
        "From the unsupervised clustering analysis, it can be seen that clusters are not stable as every time that the “elbow” test was run different results were given which influenced the number of clusters to be used with k-means. Furthermore, the performance is low for classification purposes. \r\n",
        "\r\n",
        "For future work, other Clustering methods can be tested to see if it's suitable for this product. \r\n",
        "\r\n"
      ]
    },
    {
      "cell_type": "markdown",
      "metadata": {
        "id": "7e0cO3-b6o8f"
      },
      "source": [
        "###Conclusion\r\n",
        "\r\n",
        "The purpose of this project is to classify a subset of the population of China that uses a mobile operator based on the apps they have installed and that they used and the brand of the device they have. The classification takes into consideration gender and age range. The groups are distributed as follows (M=male, F=female being digits age limits): 'M39+' , 'M32-38', 'M29-31', 'M27-28', 'M23-26', 'M22-', 'F43+' ,'F33-42', 'F29-32', 'F27-28', 'F24-26', 'F23-'. This demographic classification will allow the mobile operator “Talking Data” to sell added value services to marketing agencies and other companies so that they can improve the targeting of their marketing campaigns. Additionally it can be used to determine the most popular apps and brands. \r\n",
        "\r\n",
        "For the analysis, datasets available in Kaggle have been used. The different files were scattered in different excel spreadsheet and the data was mainly categorical. The first action that has been done has been to merge into one dataset the relevant data required to build the classification models. In this case, information such as timestamp and longitude and latitude has been excluded due to its quality. In most of the instances the data was either incomplete or incorrect. The different datasets have been merged using the device_id as link between the dfferent demographic groups (containing information about gender and age range) apps and brand. Prior to being merged, dummy variables have been created and duplicates eliminated to avoid a disproportionate growth of the final dataset.\r\n",
        "\r\n",
        "Exploratory data analysis shows how the number of apps active is roughly 50% of the apps installed. The population is concentrated in a range between 20 and 35 and that the age distribution. From an apps perspective, most of them have to do with financial products, banking and industrial (construction). From a brand perspective eight brands represent 90% of the sample in the Chinese market (Xaomi, Samsung, Huawei, Vivo, OPPO, Meizu, Coldpad, Lenovo, Gionee). There is inequality in terms of gender distribution being the female users half the male users. \r\n",
        "\r\n",
        "The different groups are unbalanced therefore resampling of the data has been done to avoid bias on the different classifiers that are used. This has increased the dataset to 40k rows manageable with the computing power available at google Colab. \r\n",
        "\r\n",
        "Features have been generated following features selection techniques such as SelectKkbest after standardizing and normalizing the data. The number of features has been selected following PCA (in this case n=5 components is used that explains maximum variance in the dataset).\r\n",
        "\r\n",
        "Model selection has been carried out splitting the sample into 75/25 training on 75% of the data (once transformed through PCA). Models have been trained and tuned using gridsearch and cross validation with five folds has been used to test them. Accuracy has been set as the main scoring parameter as there is no difference regarding false positive or negatives. The models, accuracy and computing effort (based in time required to fit the test set) are summarized below:\r\n",
        "\r\n",
        "1. Logistic Regression. Accuracy: 71.45%. Computing effort: 54.1s.\r\n",
        "2. K-nearest neighbors. Accuracy: 97.85%. Computing effort: 1 min.\r\n",
        "3. Random Forest. Accuracy: 98.04%. Computing effort: 24.9 min.\r\n",
        "4. Gradient Boosting Classifier: Accuracy 97.25%. Computing effort: 31.1 min.\r\n",
        "5. Support Vector Classifier. Accuracy: 96.33%. Computing effort: 8.0s.\r\n",
        "\r\n",
        "From the abovementioned results the classifier that is a good candidates to go into production is support vector machine. It presents low computational effort due to the transformation of the features that has been done during the features generation. But support vector machine presents scalability problems. So deep learning models are also tested. But the supervised models that have been tested here are preferred as they allow to track back results to the most relevant features. Furthermore, they require less computational power and are less complex and more transparent form a custumer´s perspective.\r\n",
        "\r\n",
        "Deep learning algorithms have been tested on the original normalized data and PCA. The choice has been to consider the original processed data as there was no significant differences in accuracy and neural networks are able to handle the data and generate the best features.\r\n",
        "\r\n",
        "Different configurations of a neural network have been passed to achieve a higher accuracy than the Supervised Learning models. In this case, the final configuration of the Multi-Layer Perceptron that achieves 85.21% is a sequential neural network with 6 hidden layer of 276 neurons and a dropout rate of 0.5 using batch normalization between layers. The activation function is “relu”, the loss is categorical crossentropy and the optimizer RMS. In this case, batches of 1250 have been used and 200 epochs have been used to optimize the accuracy of the model.\r\n",
        "\r\n",
        "This accuracy is lower than the Supervised training models. So, Support vector machine model is still the preferred candidate for production. The neural network gives good accuracy but does not allow to distinguish the explanatory power of each of the features that are used. This is not required during image or text recognition but is necessary for the purpose of this project. Furthermore, the model is far more complex than the previous one and requires more computational power once it is in production. For all these reasons, although the accuracy is good, the support vector machine models is still the best candidate for production.\r\n",
        "\r\n",
        "Unsupervised Learning was carried out to have a better understanding of the potential clients and relationship between them unsupervised clustering was carried out. In this case, K-means clustering is used to cluster the customers and extract meaningful information for the marketing team. Once the clustering is selected, the number of clusters will be selected and the information was extracted. As in the case of supervised learning the PCA components was used during the analysis.\r\n",
        "\r\n",
        "From the PCA plots, some delineation between the clusters were seen. Ignoring the colors, consistency seems slightly better for 5 and 6 clusters. Elbow plot was used to find optimum number of clusters. From the Elbow plot, it looks like the optimal number of clusters is 5 (or) 6. Compared the silhoutte scores for n= 2 to 10 clusters. The best number of clusters from both the silhouette and the elbow technique perspective is 5 (Silhoutte score of 0.6) that was used to cluster the popular phone brands. It took 232 ms to train the K-Means model with PCA and n_clusters=5. The data was clustered using kmeans and 5 clusters to get insights about label ids and popular phone brands for application.\r\n",
        "\r\n",
        "Further analysis, information regarding the apps that people use was obtained from the clusters. It can be seen the most used ones across clusters App 130, 548, 969, 706 and 713 that according to the documentation equate to Online Shopping navigation, Industry tag, Casual games, Low Risk, and Antique collection. For the Phone brands, it appears that Xiaomi, ouxin, OPPO, and Meizu are the most popular ones.\r\n",
        "\r\n",
        "From the unsupervised clustering analysis, it can be seen that clusters are not stable as every time that the “elbow” test was run different results were given which influenced the number of clusters to be used with k-means. Furthermore, the performance is low for classification purposes. For future work, other Clustering methods can be tested to see if it's suitable for this product.\r\n",
        "\r\n",
        "Due to the characteristics of the data and high dimensionality of the problem the plots of the clusters is highly scattered which does not give much relevant information about them. Hence, from a classification purpose the best model to use based on its accuracy is Support Vector Machines which can compete in terms of accuracy with deep learning models and is a better candidate for production. From a clustering perspective, clustering is not offering much relevant information and cannot be used for classification."
      ]
    },
    {
      "cell_type": "code",
      "metadata": {
        "id": "SM-L9bQc5QRn"
      },
      "source": [
        ""
      ],
      "execution_count": null,
      "outputs": []
    }
  ]
}